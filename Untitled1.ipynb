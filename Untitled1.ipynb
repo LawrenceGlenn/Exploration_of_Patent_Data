{
 "cells": [
  {
   "cell_type": "code",
   "execution_count": null,
   "metadata": {
    "scrolled": false
   },
   "outputs": [
    {
     "name": "stderr",
     "output_type": "stream",
     "text": [
      "[nltk_data] Downloading package stopwords to\n",
      "[nltk_data]     /home/lawrence/nltk_data...\n",
      "[nltk_data]   Package stopwords is already up-to-date!\n",
      "[nltk_data] Downloading package punkt to /home/lawrence/nltk_data...\n",
      "[nltk_data]   Package punkt is already up-to-date!\n",
      "[nltk_data] Downloading package wordnet to /home/lawrence/nltk_data...\n",
      "[nltk_data]   Package wordnet is already up-to-date!\n",
      "[nltk_data] Downloading package averaged_perceptron_tagger to\n",
      "[nltk_data]     /home/lawrence/nltk_data...\n",
      "[nltk_data]   Package averaged_perceptron_tagger is already up-to-\n",
      "[nltk_data]       date!\n",
      "[nltk_data] Downloading package maxent_treebank_pos_tagger to\n",
      "[nltk_data]     /home/lawrence/nltk_data...\n"
     ]
    }
   ],
   "source": [
    "from src.Import_Patent_Data import import_data_pd\n",
    "import src.patenttopicmodeler as ptm\n",
    "import pandas as pd\n",
    "import matplotlib.pyplot as plt"
   ]
  },
  {
   "cell_type": "code",
   "execution_count": null,
   "metadata": {},
   "outputs": [],
   "source": [
    "#df = import_data_pd()\n",
    "df = pd.read_csv(\"data/temp/pd_2018_and_later.csv\", sep=\"|\")\n",
    "df['abstract_lemmed'] = df['abstract_lemmed'].str[1:-1]\n",
    "df['abstract_lemmed'] = df['abstract_lemmed'].str.replace(\"'\" ,\"\")\n",
    "df['abstract_lemmed'] = df['abstract_lemmed'].str.split(\", \")\n",
    "df['abstract_lemmed_stemmed'] = df['abstract_lemmed_stemmed'].str[1:-1]\n",
    "df['abstract_lemmed_stemmed'] = df['abstract_lemmed_stemmed'].str.replace(\"'\" ,\"\")\n",
    "df['abstract_lemmed_stemmed'] = df['abstract_lemmed_stemmed'].str.split(\", \")"
   ]
  },
  {
   "cell_type": "code",
   "execution_count": null,
   "metadata": {},
   "outputs": [],
   "source": [
    "model = ptm.PatentTopicModeler(df)"
   ]
  },
  {
   "cell_type": "code",
   "execution_count": null,
   "metadata": {},
   "outputs": [],
   "source": [
    "#model.clean_df()"
   ]
  },
  {
   "cell_type": "code",
   "execution_count": null,
   "metadata": {},
   "outputs": [],
   "source": [
    "model.tfidf(\"abstract_lemmed_stemmed\")"
   ]
  },
  {
   "cell_type": "code",
   "execution_count": null,
   "metadata": {},
   "outputs": [],
   "source": [
    "#fig,ax = plt.subplots(2)\n",
    "#model.plot_tfidf(ax)"
   ]
  },
  {
   "cell_type": "code",
   "execution_count": null,
   "metadata": {},
   "outputs": [],
   "source": [
    "model.tfidf_matrix"
   ]
  },
  {
   "cell_type": "code",
   "execution_count": null,
   "metadata": {},
   "outputs": [],
   "source": [
    "model.fit_nmf()"
   ]
  },
  {
   "cell_type": "code",
   "execution_count": null,
   "metadata": {},
   "outputs": [],
   "source": [
    "model.fit_lda()"
   ]
  },
  {
   "cell_type": "code",
   "execution_count": null,
   "metadata": {},
   "outputs": [],
   "source": [
    "model.pyldavis()"
   ]
  },
  {
   "cell_type": "code",
   "execution_count": null,
   "metadata": {},
   "outputs": [],
   "source": []
  },
  {
   "cell_type": "code",
   "execution_count": null,
   "metadata": {},
   "outputs": [],
   "source": [
    "\"\"\"ax.legend([\"Network Components\", \"Semiconductors, Power supplies\", \"Methodologies, Communications\",\"Lights, Circutboard Layers/Construction\", \"Complex Constructions (multi part components)\", \"Communications, Wireless\", \"Mobile Devices\", \"Misc.\"]\n",
    "\t\t         ,fontsize=16,bbox_to_anchor=(1.0, 1.0), facecolor=(.9,.9,.9))\n",
    "\t\tax.set_facecolor((.9, .9, .9))\n",
    "\t\tplt.rcParams.update({'font.size': 30})\n",
    "\n",
    "\t\t#plt.gcf().subplots_adjust(right=1.3)\n",
    "\t\tlocs, labels=plt.xticks()\n",
    "\t\tx_ticks = []\n",
    "\t\tnew_xticks=['Jan.','Feb.','Mar.','Apr.','May','Jun.','Jul.','Sep.']\n",
    "\t\tplt.xticks(locs,new_xticks, rotation=45, horizontalalignment='right')\n",
    "\t\tax.set_xlabel('2019')\n",
    "\t\tax.set_ylabel('Patents Granted')\n",
    "\t\t#ax.set_xticks(['January','January','January','January','January','January','January','January'])\n",
    "\t\t#ax.xaxis.set_minor_locator(graph_df.index.DatetimeIndex.month_name())\n",
    "\n",
    "\t\tplt.tight_layout()\n",
    "\n",
    "\t\t#plt.savefig('electricity_2019_topics.png')\"\"\""
   ]
  },
  {
   "cell_type": "code",
   "execution_count": null,
   "metadata": {},
   "outputs": [],
   "source": []
  }
 ],
 "metadata": {
  "kernelspec": {
   "display_name": "Python 3",
   "language": "python",
   "name": "python3"
  },
  "language_info": {
   "codemirror_mode": {
    "name": "ipython",
    "version": 3
   },
   "file_extension": ".py",
   "mimetype": "text/x-python",
   "name": "python",
   "nbconvert_exporter": "python",
   "pygments_lexer": "ipython3",
   "version": "3.7.4"
  }
 },
 "nbformat": 4,
 "nbformat_minor": 4
}
