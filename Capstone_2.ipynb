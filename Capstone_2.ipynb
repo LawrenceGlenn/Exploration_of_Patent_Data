{
 "cells": [
  {
   "cell_type": "code",
   "execution_count": 1,
   "metadata": {},
   "outputs": [],
   "source": [
    "import pyspark as ps    # for the pyspark suite\n",
    "import pandas as pd"
   ]
  },
  {
   "cell_type": "code",
   "execution_count": 2,
   "metadata": {},
   "outputs": [],
   "source": [
    "spark = (ps.sql.SparkSession\n",
    "         .builder\n",
    "         .master('local[*]')\n",
    "         .appName('lecture')\n",
    "         .getOrCreate()\n",
    "        )\n",
    "sc = spark.sparkContext"
   ]
  },
  {
   "cell_type": "code",
   "execution_count": 3,
   "metadata": {},
   "outputs": [
    {
     "data": {
      "text/html": [
       "\n",
       "            <div>\n",
       "                <p><b>SparkSession - in-memory</b></p>\n",
       "                \n",
       "        <div>\n",
       "            <p><b>SparkContext</b></p>\n",
       "\n",
       "            <p><a href=\"http://03aaafa0d92c:4040\">Spark UI</a></p>\n",
       "\n",
       "            <dl>\n",
       "              <dt>Version</dt>\n",
       "                <dd><code>v2.4.4</code></dd>\n",
       "              <dt>Master</dt>\n",
       "                <dd><code>local[*]</code></dd>\n",
       "              <dt>AppName</dt>\n",
       "                <dd><code>lecture</code></dd>\n",
       "            </dl>\n",
       "        </div>\n",
       "        \n",
       "            </div>\n",
       "        "
      ],
      "text/plain": [
       "<pyspark.sql.session.SparkSession at 0x7f3fbcc67128>"
      ]
     },
     "execution_count": 3,
     "metadata": {},
     "output_type": "execute_result"
    }
   ],
   "source": [
    "spark\n"
   ]
  },
  {
   "cell_type": "code",
   "execution_count": null,
   "metadata": {},
   "outputs": [],
   "source": []
  },
  {
   "cell_type": "code",
   "execution_count": 4,
   "metadata": {},
   "outputs": [
    {
     "name": "stdout",
     "output_type": "stream",
     "text": [
      "root\n",
      " |-- id: string (nullable = true)\n",
      " |-- type: string (nullable = true)\n",
      " |-- number: string (nullable = true)\n",
      " |-- country: string (nullable = true)\n",
      " |-- date: timestamp (nullable = true)\n",
      " |-- abstract: string (nullable = true)\n",
      " |-- title: string (nullable = true)\n",
      " |-- kind: string (nullable = true)\n",
      " |-- num_claims: integer (nullable = true)\n",
      " |-- filename: string (nullable = true)\n",
      " |-- withdrawn: string (nullable = true)\n",
      "\n",
      "line count: 7144425\n",
      "\n",
      "+--------+-------+--------+-------+-------------------+--------------------+--------------------+----+----------+-------------+---------+\n",
      "|      id|   type|  number|country|               date|            abstract|               title|kind|num_claims|     filename|withdrawn|\n",
      "+--------+-------+--------+-------+-------------------+--------------------+--------------------+----+----------+-------------+---------+\n",
      "|10000000|utility|10000000|     US|2018-06-19 00:00:00|A frequency modul...|Coherent LADAR us...|  B2|        20|ipg180619.xml|     NULL|\n",
      "|10000001|utility|10000001|     US|2018-06-19 00:00:00|The injection mol...|Injection molding...|  B2|        12|ipg180619.xml|     NULL|\n",
      "|10000002|utility|10000002|     US|2018-06-19 00:00:00|The present inven...|Method for manufa...|  B2|         9|ipg180619.xml|     NULL|\n",
      "|10000003|utility|10000003|     US|2018-06-19 00:00:00|The invention rel...|Method for produc...|  B2|        18|ipg180619.xml|     NULL|\n",
      "|10000004|utility|10000004|     US|2018-06-19 00:00:00|The present inven...|Process of obtain...|  B2|         6|ipg180619.xml|     NULL|\n",
      "|10000005|utility|10000005|     US|2018-06-19 00:00:00|A vacuum forming ...|Article vacuum fo...|  B2|         4|ipg180619.xml|     NULL|\n",
      "|10000006|utility|10000006|     US|2018-06-19 00:00:00|A thermoforming m...|Thermoforming mol...|  B2|         8|ipg180619.xml|     NULL|\n",
      "|10000007|utility|10000007|     US|2018-06-19 00:00:00|An expanding tool...|  PEX expanding tool|  B2|        24|ipg180619.xml|     NULL|\n",
      "|10000008|utility|10000008|     US|2018-06-19 00:00:00|A decorated strip...|Bracelet mold and...|  B2|        11|ipg180619.xml|     NULL|\n",
      "|10000009|utility|10000009|     US|2018-06-19 00:00:00|In sterile, addit...|Sterile environme...|  B2|        21|ipg180619.xml|     NULL|\n",
      "|10000010|utility|10000010|     US|2018-06-19 00:00:00|3-D printing syst...|3-D electrostatic...|  B2|        20|ipg180619.xml|     NULL|\n",
      "|10000011|utility|10000011|     US|2018-06-19 00:00:00|To reduce distort...|Supports for sint...|  B1|        30|ipg180619.xml|     NULL|\n",
      "|10000014|utility|10000014|     US|2018-06-19 00:00:00|The present inven...|Method for produc...|  B2|        21|ipg180619.xml|     NULL|\n",
      "|10000015|utility|10000015|     US|2018-06-19 00:00:00|A hermetically se...|Methods for makin...|  B2|         6|ipg180619.xml|     NULL|\n",
      "|10000016|utility|10000016|     US|2018-06-19 00:00:00|A film edge seali...|Film edge sealing...|  B2|        22|ipg180619.xml|     NULL|\n",
      "|10000017|utility|10000017|     US|2018-06-19 00:00:00|The invention rel...|Method for mounti...|  B2|        21|ipg180619.xml|     NULL|\n",
      "|10000018|utility|10000018|     US|2018-06-19 00:00:00|A stretch release...|Pull tab design f...|  B2|        13|ipg180619.xml|     NULL|\n",
      "|10000019|utility|10000019|     US|2018-06-19 00:00:00|An installation a...|Installation asse...|  B2|        11|ipg180619.xml|     NULL|\n",
      "|10000020|utility|10000020|     US|2018-06-19 00:00:00|A three-dimension...|Method and device...|  B2|         7|ipg180619.xml|     NULL|\n",
      "|10000021|utility|10000021|     US|2018-06-19 00:00:00|There is provided...|Method for manufa...|  B2|         4|ipg180619.xml|     NULL|\n",
      "+--------+-------+--------+-------+-------------------+--------------------+--------------------+----+----------+-------------+---------+\n",
      "only showing top 20 rows\n",
      "\n"
     ]
    }
   ],
   "source": [
    "df = spark.read.option(\"inferschema\", \"true\").csv('data/patent.tsv',\n",
    "                    header=True,       # use headers or not\n",
    "                    quote='\"',         # char for quotes\n",
    "                    sep=\"\\t\")          # char for separation  \n",
    "\n",
    "# prints the schema\n",
    "df.printSchema()\n",
    "\n",
    "# some functions are still valid\n",
    "print(\"line count: {}\\n\".format(df.count()))\n",
    "\n",
    "# show the table in a oh-so-nice format\n",
    "df.show()"
   ]
  },
  {
   "cell_type": "code",
   "execution_count": 20,
   "metadata": {},
   "outputs": [
    {
     "name": "stdout",
     "output_type": "stream",
     "text": [
      "+--------------------------------+\n",
      "|type                            |\n",
      "+--------------------------------+\n",
      "|defensive publication           |\n",
      "|utility                         |\n",
      "|plant                           |\n",
      "|reissue                         |\n",
      "|statutory invention registration|\n",
      "|TVPP                            |\n",
      "|design                          |\n",
      "+--------------------------------+\n",
      "\n"
     ]
    }
   ],
   "source": [
    "df.select(\"type\").distinct().show(20,False)"
   ]
  },
  {
   "cell_type": "code",
   "execution_count": 16,
   "metadata": {},
   "outputs": [
    {
     "data": {
      "text/plain": [
       "7144425"
      ]
     },
     "execution_count": 16,
     "metadata": {},
     "output_type": "execute_result"
    }
   ],
   "source": [
    "df.select(\"id\").distinct().show()"
   ]
  },
  {
   "cell_type": "code",
   "execution_count": 26,
   "metadata": {},
   "outputs": [
    {
     "name": "stdout",
     "output_type": "stream",
     "text": [
      "+---------+-------+\n",
      "|withdrawn|  count|\n",
      "+---------+-------+\n",
      "|        0|6963631|\n",
      "|        1|   9668|\n",
      "|     NULL| 171126|\n",
      "+---------+-------+\n",
      "\n"
     ]
    }
   ],
   "source": [
    "df.groupby(df.withdrawn).count().show()"
   ]
  },
  {
   "cell_type": "code",
   "execution_count": 27,
   "metadata": {},
   "outputs": [
    {
     "name": "stdout",
     "output_type": "stream",
     "text": [
      "+-------+-------+\n",
      "|country|  count|\n",
      "+-------+-------+\n",
      "|     US|7144425|\n",
      "+-------+-------+\n",
      "\n"
     ]
    }
   ],
   "source": [
    "df.groupby(df.country).count().show()"
   ]
  },
  {
   "cell_type": "code",
   "execution_count": 28,
   "metadata": {},
   "outputs": [
    {
     "name": "stdout",
     "output_type": "stream",
     "text": [
      "+----+-------+\n",
      "|kind|  count|\n",
      "+----+-------+\n",
      "|  I5|      3|\n",
      "|  H1|    273|\n",
      "|  P2|  12558|\n",
      "|  B2|3464834|\n",
      "|   E|   8692|\n",
      "|  I4|    509|\n",
      "|  P3|   6052|\n",
      "|  B1| 620301|\n",
      "|   A|2391379|\n",
      "|   S| 209582|\n",
      "|  E1|  10107|\n",
      "|   P|   8282|\n",
      "|  S1| 409868|\n",
      "|   H|   1982|\n",
      "|  H2|      3|\n",
      "+----+-------+\n",
      "\n"
     ]
    }
   ],
   "source": [
    "df.groupby(df.kind).count().show()"
   ]
  },
  {
   "cell_type": "code",
   "execution_count": 33,
   "metadata": {},
   "outputs": [
    {
     "name": "stdout",
     "output_type": "stream",
     "text": [
      "+--------------------------------+-------+\n",
      "|type                            |count  |\n",
      "+--------------------------------+-------+\n",
      "|defensive publication           |509    |\n",
      "|utility                         |6476514|\n",
      "|plant                           |26892  |\n",
      "|reissue                         |18799  |\n",
      "|statutory invention registration|2258   |\n",
      "|TVPP                            |3      |\n",
      "|design                          |619450 |\n",
      "+--------------------------------+-------+\n",
      "\n"
     ]
    }
   ],
   "source": [
    "df.groupby(df.type).count().show(99,False)"
   ]
  },
  {
   "cell_type": "code",
   "execution_count": 5,
   "metadata": {},
   "outputs": [],
   "source": [
    "#df_panda = pd.DataFrame(df.take(1000), columns=df.columns)"
   ]
  },
  {
   "cell_type": "code",
   "execution_count": 9,
   "metadata": {},
   "outputs": [
    {
     "data": {
      "text/plain": [
       "(datetime.datetime(1976, 1, 6, 0, 0), datetime.datetime(2019, 10, 8, 0, 0))"
      ]
     },
     "execution_count": 9,
     "metadata": {},
     "output_type": "execute_result"
    }
   ],
   "source": [
    "from pyspark.sql.functions import min, max\n",
    "min_date, max_date = df.select(min(\"date\"), max(\"date\")).first()\n",
    "min_date, max_date\n"
   ]
  },
  {
   "cell_type": "code",
   "execution_count": 11,
   "metadata": {},
   "outputs": [
    {
     "name": "stdout",
     "output_type": "stream",
     "text": [
      "root\n",
      " |-- uuid: string (nullable = true)\n",
      " |-- patent_id: integer (nullable = true)\n",
      " |-- section_id: string (nullable = true)\n",
      " |-- subsection_id: string (nullable = true)\n",
      " |-- group_id: string (nullable = true)\n",
      " |-- subgroup_id: string (nullable = true)\n",
      " |-- category: string (nullable = true)\n",
      " |-- sequence: integer (nullable = true)\n",
      "\n",
      "line count: 39915464\n",
      "\n",
      "+--------------------+---------+----------+-------------+--------+--------------+-----------+--------+\n",
      "|                uuid|patent_id|section_id|subsection_id|group_id|   subgroup_id|   category|sequence|\n",
      "+--------------------+---------+----------+-------------+--------+--------------+-----------+--------+\n",
      "|000016xombd5lbk9l...|  7070831|         H|          H01|    H01L|H01L2924/01013| additional|      22|\n",
      "|000070runw99gxjki...|  7618693|         C|          C09|    C09D|     C09D11/30|inventional|       1|\n",
      "|00008erwm5297s6wv...|  8488869|         G|          G06|    G06T|G06T2207/10016| additional|      20|\n",
      "|00008q01v2ziacpr0...|  9976665|         A|          A61|    A61M|   A61M5/16886|inventional|       4|\n",
      "|00008rwbcfjb44c0m...|  9448251|         H|          H01|    H01L|     H01L29/84|inventional|       6|\n",
      "|0000c5ecp4hu1zeue...|  8399388|         C|          C10|    C10N|  C10N2220/028| additional|      10|\n",
      "|0000j1yguzv7z0ftw...|  6607786|         B|          B05|    B05C|     B05C5/008|inventional|       0|\n",
      "|0000k59e48na4sglk...|  8253512|         H|          H05|    H05K|    H05K1/0233|inventional|       0|\n",
      "|0000ktto4445vpnl8...|  6050974|         A|          A61|    A61M|   A61M5/31505| additional|       1|\n",
      "|0000n0dkyro9wrthl...|  8735065|         C|          C12|    C12Q|  C12Q2565/629| additional|      13|\n",
      "|0000op5a1fqtuuo2h...|  9914701|         C|          C07|    C07C|     C07C67/62|inventional|       2|\n",
      "|0000rjuc7r2o46ppp...|  7958369|         H|          H04|    H04N|    H04N7/1675|inventional|       0|\n",
      "|0000ss42t6i6l0fm5...|  4301109|         B|          B65|    B65G|     B65G39/04|inventional|       5|\n",
      "|0000vat7y2wdg7rhg...|  7129574|         H|          H01|    H01L|     H01L24/48| additional|       4|\n",
      "|0000wkyaoqrkr9nf8...|  7589403|         H|          H01|    H01L|     H01L24/48| additional|       7|\n",
      "|0000xrkeghcr0q9go...|  9216025|         A|          A61|    A61B|   A61B17/8805| additional|      26|\n",
      "|0000ysqdvywwv330y...|  9213989|         G|          G06|    G06Q|   G06Q30/0641|inventional|       4|\n",
      "|0000z0caa9g78lzvl...|  9712130|         H|          H01|    H01P|   H01P1/20381|inventional|       1|\n",
      "|00012mq1mrfjh9mwy...| 10317111|         F|          F17|    F17C|  F17C2265/017| additional|      24|\n",
      "|00014x2px5dbzvmwr...|  6134480|         A|          A61|    A61N|    A61N1/0452|inventional|       0|\n",
      "+--------------------+---------+----------+-------------+--------+--------------+-----------+--------+\n",
      "only showing top 20 rows\n",
      "\n"
     ]
    }
   ],
   "source": [
    "df_cpc = spark.read.option(\"inferschema\", \"true\").csv('data/cpc_current.tsv',\n",
    "                    header=True,       # use headers or not\n",
    "                    quote='\"',         # char for quotes\n",
    "                    sep=\"\\t\")          # char for separation  \n",
    "\n",
    "# prints the schema\n",
    "df_cpc.printSchema()\n",
    "\n",
    "# some functions are still valid\n",
    "print(\"line count: {}\\n\".format(df_cpc.count()))\n",
    "\n",
    "# show the table in a oh-so-nice format\n",
    "df_cpc.show()"
   ]
  },
  {
   "cell_type": "code",
   "execution_count": 43,
   "metadata": {},
   "outputs": [],
   "source": [
    "ddf = df.join(df_cpc, df.id == df_cpc.patent_id).drop('id')"
   ]
  },
  {
   "cell_type": "code",
   "execution_count": 16,
   "metadata": {},
   "outputs": [
    {
     "data": {
      "text/plain": [
       "39915464"
      ]
     },
     "execution_count": 16,
     "metadata": {},
     "output_type": "execute_result"
    }
   ],
   "source": [
    "ddf.count()"
   ]
  },
  {
   "cell_type": "code",
   "execution_count": 17,
   "metadata": {},
   "outputs": [
    {
     "data": {
      "text/plain": [
       "39915464"
      ]
     },
     "execution_count": 17,
     "metadata": {},
     "output_type": "execute_result"
    }
   ],
   "source": [
    "df_cpc.count()"
   ]
  },
  {
   "cell_type": "code",
   "execution_count": 20,
   "metadata": {},
   "outputs": [
    {
     "data": {
      "text/plain": [
       "6452079"
      ]
     },
     "execution_count": 20,
     "metadata": {},
     "output_type": "execute_result"
    }
   ],
   "source": [
    "df_cpc.select(\"patent_id\").distinct().count()"
   ]
  },
  {
   "cell_type": "code",
   "execution_count": 25,
   "metadata": {},
   "outputs": [
    {
     "name": "stdout",
     "output_type": "stream",
     "text": [
      "+---------+-----+\n",
      "|patent_id|count|\n",
      "+---------+-----+\n",
      "|  6973866|   12|\n",
      "|  9122810|   16|\n",
      "|  7510754|   20|\n",
      "|  9390338|   14|\n",
      "|  9198479|   27|\n",
      "|  9791123|    5|\n",
      "|  5585105|   14|\n",
      "|  6121532|   22|\n",
      "|  5122749|    2|\n",
      "|  4359781|    4|\n",
      "|  9314865|    6|\n",
      "|  7817829|    2|\n",
      "| 10065879|   15|\n",
      "|  6096781|    7|\n",
      "|  6262027|   10|\n",
      "|  7394163|   67|\n",
      "|  5340740|    5|\n",
      "| 10275120|    3|\n",
      "|  7265388|   13|\n",
      "|  8859658|   18|\n",
      "+---------+-----+\n",
      "only showing top 20 rows\n",
      "\n"
     ]
    }
   ],
   "source": [
    "df_cpc.groupby(df_cpc.patent_id).count().show()"
   ]
  },
  {
   "cell_type": "code",
   "execution_count": 28,
   "metadata": {},
   "outputs": [
    {
     "name": "stdout",
     "output_type": "stream",
     "text": [
      "+--------------------+---------+----------+-------------+--------+------------+-----------+--------+\n",
      "|                uuid|patent_id|section_id|subsection_id|group_id| subgroup_id|   category|sequence|\n",
      "+--------------------+---------+----------+-------------+--------+------------+-----------+--------+\n",
      "|jyxz78olyq2fo58oy...|  6121532|         G|          G10|    G10H|  G10H1/0025|inventional|       0|\n",
      "|3t723r37m4i1if7xk...|  6121532|         G|          G10|    G10H|    G10H1/00|inventional|       1|\n",
      "|3bcii7zojwle05qgv...|  6121532|         G|          G10|    G10H|  G10H1/0091|inventional|       2|\n",
      "|wdqqexk2781exxt0z...|  6121532|         G|          G10|    G10H|    G10H1/02|inventional|       3|\n",
      "|l3ti0nnva2l56or8y...|  6121532|         G|          G10|    G10H|  G10H1/0575|inventional|       4|\n",
      "|m7yrepwt46pmoj8su...|  6121532|         G|          G10|    G10H|    G10H1/20|inventional|       5|\n",
      "|00346vpqo7vtf12ok...|  6121532|         G|          G10|    G10H|    G10H1/28|inventional|       6|\n",
      "|nn0nxsiu5n7kctywv...|  6121532|         G|          G10|    G10H|    G10H1/40|inventional|       7|\n",
      "|d2m2vbf8uqwjiqdyr...|  6121532|         G|          G10|    G10H|G10H2210/066| additional|       8|\n",
      "|8ar3ucmsape3zmx22...|  6121532|         G|          G10|    G10H|G10H2210/111| additional|       9|\n",
      "|v2qri32wyl7jm3wdd...|  6121532|         G|          G10|    G10H|G10H2210/141| additional|      10|\n",
      "|u7hs5nfhofznp27fs...|  6121532|         G|          G10|    G10H|G10H2210/151| additional|      11|\n",
      "|wjdq7oaj4y28b25zv...|  6121532|         G|          G10|    G10H|G10H2210/185| additional|      12|\n",
      "|vyclx144j9ullwhy6...|  6121532|         G|          G10|    G10H|G10H2210/225| additional|      13|\n",
      "|itckrhrgm0t07hiob...|  6121532|         G|          G10|    G10H|G10H2210/305| additional|      14|\n",
      "|g10a52a93zt3hy14z...|  6121532|         G|          G10|    G10H|G10H2210/366| additional|      15|\n",
      "|1y8p6gulhjtdtu24i...|  6121532|         G|          G10|    G10H|G10H2230/305| additional|      16|\n",
      "|hu4h855mo71u2xg5g...|  6121532|         G|          G10|    G10H|G10H2230/331| additional|      17|\n",
      "|7gaty71dpfz0wj188...|  6121532|         G|          G10|    G10H|G10H2230/351| additional|      18|\n",
      "|3wwcnd3esnx9lwxyg...|  6121532|         G|          G10|    G10H|G10H2240/056| additional|      19|\n",
      "+--------------------+---------+----------+-------------+--------+------------+-----------+--------+\n",
      "only showing top 20 rows\n",
      "\n"
     ]
    }
   ],
   "source": [
    "df_cpc.filter(df_cpc.patent_id==6121532).sort(df_cpc.sequence.asc()).show()"
   ]
  },
  {
   "cell_type": "code",
   "execution_count": 29,
   "metadata": {},
   "outputs": [
    {
     "name": "stdout",
     "output_type": "stream",
     "text": [
      "root\n",
      " |-- id: string (nullable = true)\n",
      " |-- title: string (nullable = true)\n",
      "\n",
      "line count: 671\n",
      "\n",
      "+----+--------------------+\n",
      "|  id|               title|\n",
      "+----+--------------------+\n",
      "|A01B|SOIL WORKING IN A...|\n",
      "|A01C|PLANTING; SOWING;...|\n",
      "|A01D| HARVESTING; MOWING |\n",
      "|A01F|PROCESSING OF HAR...|\n",
      "|A01G|HORTICULTURE; CUL...|\n",
      "|A01H|NEW PLANTS OR PRO...|\n",
      "|A01J|MANUFACTURE OF DA...|\n",
      "|A01K|ANIMAL HUSBANDRY;...|\n",
      "|A01L| SHOEING OF ANIMALS |\n",
      "|A01M|CATCHING, TRAPPIN...|\n",
      "|A01N|PRESERVATION OF B...|\n",
      "|A21B|BAKERS' OVENS; MA...|\n",
      "|A21C|MACHINES OR EQUIP...|\n",
      "|A21D|TREATMENT, e.g. P...|\n",
      "|A22B|        SLAUGHTERING|\n",
      "|A22C|PROCESSING MEAT, ...|\n",
      "|A23B|PRESERVING, e.g. ...|\n",
      "|A23C|DAIRY PRODUCTS, e...|\n",
      "|A23D|EDIBLE OILS OR FA...|\n",
      "|A23F|COFFEE; TEA; THEI...|\n",
      "+----+--------------------+\n",
      "only showing top 20 rows\n",
      "\n"
     ]
    }
   ],
   "source": [
    "df_cpc_group = spark.read.option(\"inferschema\", \"true\").csv('data/cpc_group.tsv',\n",
    "                    header=True,       # use headers or not\n",
    "                    quote='\"',         # char for quotes\n",
    "                    sep=\"\\t\")          # char for separation  \n",
    "\n",
    "# prints the schema\n",
    "df_cpc_group.printSchema()\n",
    "\n",
    "# some functions are still valid\n",
    "print(\"line count: {}\\n\".format(df_cpc_group.count()))\n",
    "\n",
    "# show the table in a oh-so-nice format\n",
    "df_cpc_group.show()"
   ]
  },
  {
   "cell_type": "code",
   "execution_count": 30,
   "metadata": {},
   "outputs": [
    {
     "name": "stdout",
     "output_type": "stream",
     "text": [
      "root\n",
      " |-- id: string (nullable = true)\n",
      " |-- title: string (nullable = true)\n",
      "\n",
      "line count: 259863\n",
      "\n",
      "+---------+--------------------+\n",
      "|       id|               title|\n",
      "+---------+--------------------+\n",
      "| A01B1/00|         Hand tools |\n",
      "| A01B1/02|Hand tools -Spade...|\n",
      "|A01B1/022|Hand tools -Spade...|\n",
      "|A01B1/024|Hand tools -Spade...|\n",
      "|A01B1/026|Hand tools -Spade...|\n",
      "|A01B1/028|Hand tools -Spade...|\n",
      "| A01B1/04|Hand tools -Spade...|\n",
      "| A01B1/06|Hand tools -Hoes;...|\n",
      "|A01B1/065|Hand tools -Hoes;...|\n",
      "| A01B1/08|Hand tools -Hoes;...|\n",
      "| A01B1/10|Hand tools -Hoes;...|\n",
      "| A01B1/12|Hand tools -Hoes;...|\n",
      "| A01B1/14|Hand tools -Hoes;...|\n",
      "| A01B1/16|Hand tools -Tools...|\n",
      "|A01B1/165|Hand tools -Tools...|\n",
      "| A01B1/18|Hand tools -Tools...|\n",
      "| A01B1/20|Hand tools -Combi...|\n",
      "| A01B1/22|Hand tools -Attac...|\n",
      "|A01B1/222|Hand tools -Attac...|\n",
      "|A01B1/225|Hand tools -Attac...|\n",
      "+---------+--------------------+\n",
      "only showing top 20 rows\n",
      "\n"
     ]
    }
   ],
   "source": [
    "df_cpc_subgroup = spark.read.option(\"inferschema\", \"true\").csv('data/cpc_subgroup.tsv',\n",
    "                    header=True,       # use headers or not\n",
    "                    quote='\"',         # char for quotes\n",
    "                    sep=\"\\t\")          # char for separation  \n",
    "\n",
    "# prints the schema\n",
    "df_cpc_subgroup.printSchema()\n",
    "\n",
    "# some functions are still valid\n",
    "print(\"line count: {}\\n\".format(df_cpc_subgroup.count()))\n",
    "\n",
    "# show the table in a oh-so-nice format\n",
    "df_cpc_subgroup.show()"
   ]
  },
  {
   "cell_type": "code",
   "execution_count": 31,
   "metadata": {},
   "outputs": [
    {
     "name": "stdout",
     "output_type": "stream",
     "text": [
      "root\n",
      " |-- id: string (nullable = true)\n",
      " |-- title: string (nullable = true)\n",
      "\n",
      "line count: 136\n",
      "\n",
      "+---+--------------------+\n",
      "| id|               title|\n",
      "+---+--------------------+\n",
      "|A01|AGRICULTURE; FORE...|\n",
      "|A21|BAKING; EDIBLE DO...|\n",
      "|A22|BUTCHERING; MEAT ...|\n",
      "|A23|FOODS OR FOODSTUF...|\n",
      "|A24|TOBACCO; CIGARS; ...|\n",
      "|A41|     WEARING APPAREL|\n",
      "|A42|            HEADWEAR|\n",
      "|A43|            FOOTWEAR|\n",
      "|A44|HABERDASHERY; JEW...|\n",
      "|A45|HAND OR TRAVELLIN...|\n",
      "|A46|           BRUSHWARE|\n",
      "|A47|FURNITURE; DOMEST...|\n",
      "|A61|MEDICAL OR VETERI...|\n",
      "|A62|LIFE-SAVING; FIRE...|\n",
      "|A63|SPORTS; GAMES; AM...|\n",
      "|A99|SUBJECT MATTER NO...|\n",
      "|B01|PHYSICAL OR CHEMI...|\n",
      "|B02|CRUSHING, PULVERI...|\n",
      "|B03|SEPARATION OF SOL...|\n",
      "|B04|CENTRIFUGAL APPAR...|\n",
      "+---+--------------------+\n",
      "only showing top 20 rows\n",
      "\n"
     ]
    }
   ],
   "source": [
    "df_cpc_subsection = spark.read.option(\"inferschema\", \"true\").csv('data/cpc_subsection.tsv',\n",
    "                    header=True,       # use headers or not\n",
    "                    quote='\"',         # char for quotes\n",
    "                    sep=\"\\t\")          # char for separation  \n",
    "\n",
    "# prints the schema\n",
    "df_cpc_subsection.printSchema()\n",
    "\n",
    "# some functions are still valid\n",
    "print(\"line count: {}\\n\".format(df_cpc_subsection.count()))\n",
    "\n",
    "# show the table in a oh-so-nice format\n",
    "df_cpc_subsection.show()"
   ]
  },
  {
   "cell_type": "code",
   "execution_count": 44,
   "metadata": {},
   "outputs": [],
   "source": [
    "ddf = ddf.join(df_cpc_group.selectExpr(\"id\", \"title as group_title\"), ddf.group_id == df_cpc_group.id).drop('id')"
   ]
  },
  {
   "cell_type": "code",
   "execution_count": 45,
   "metadata": {},
   "outputs": [],
   "source": [
    "ddf = ddf.join(df_cpc_subgroup.selectExpr(\"id\", \"title as subgroup_title\"), ddf.subgroup_id == df_cpc_subgroup.id).drop('id')"
   ]
  },
  {
   "cell_type": "code",
   "execution_count": 46,
   "metadata": {},
   "outputs": [],
   "source": [
    "ddf = ddf.join(df_cpc_subsection.selectExpr(\"id\", \"title as subsection_title\"), ddf.subsection_id == df_cpc_subsection.id).drop('id')"
   ]
  },
  {
   "cell_type": "code",
   "execution_count": 49,
   "metadata": {},
   "outputs": [
    {
     "name": "stdout",
     "output_type": "stream",
     "text": [
      "+-----------------------------------------------------------+----+----------+-----------+--------+---------------------------------------------------------------------------------------------+---------------------------------------------------------------------------------------------------------------------------------------------------------------------------------------------------------------------------------------------------------------------------------------------------------------------------------------------------------------------------------------------------------------------------------------------------------------------------------------------------------------------------------------------------------------------------------------------------------------------------------------------------------------------------------------------------------------------------------------------------------------------------------------------------------------------------------------------------------------------------------------------------------------------------------------------------------------------+-----------------------------------------+\n",
      "|title                                                      |kind|num_claims|category   |sequence|group_title                                                                                  |subgroup_title                                                                                                                                                                                                                                                                                                                                                                                                                                                                                                                                                                                                                                                                                                                                                                                                                                                                                                                                                       |subsection_title                         |\n",
      "+-----------------------------------------------------------+----+----------+-----------+--------+---------------------------------------------------------------------------------------------+---------------------------------------------------------------------------------------------------------------------------------------------------------------------------------------------------------------------------------------------------------------------------------------------------------------------------------------------------------------------------------------------------------------------------------------------------------------------------------------------------------------------------------------------------------------------------------------------------------------------------------------------------------------------------------------------------------------------------------------------------------------------------------------------------------------------------------------------------------------------------------------------------------------------------------------------------------------------+-----------------------------------------+\n",
      "|Method and apparatus for creating a melodic repeated effect|A   |101       |inventional|0       |ELECTROPHONIC MUSICAL INSTRUMENTS                                                            |Details of electrophonic musical instruments -Associated control or indicating means -Automatic or semi-automatic music composition, e.g. producing random music, applying rules from music theory or modifying a musical piece                                                                                                                                                                                                                                                                                                                                                                                                                                                                                                                                                                                                                                                                                                                                      |MUSICAL INSTRUMENTS; ACOUSTICS           |\n",
      "|Method and apparatus for creating a melodic repeated effect|A   |101       |inventional|1       |ELECTROPHONIC MUSICAL INSTRUMENTS                                                            |Details of electrophonic musical instruments                                                                                                                                                                                                                                                                                                                                                                                                                                                                                                                                                                                                                                                                                                                                                                                                                                                                                                                         |MUSICAL INSTRUMENTS; ACOUSTICS           |\n",
      "|Method and apparatus for creating a melodic repeated effect|A   |101       |inventional|2       |ELECTROPHONIC MUSICAL INSTRUMENTS                                                            |Details of electrophonic musical instruments -Means for obtaining special acoustic effects                                                                                                                                                                                                                                                                                                                                                                                                                                                                                                                                                                                                                                                                                                                                                                                                                                                                           |MUSICAL INSTRUMENTS; ACOUSTICS           |\n",
      "|Method and apparatus for creating a melodic repeated effect|A   |101       |inventional|3       |ELECTROPHONIC MUSICAL INSTRUMENTS                                                            |Details of electrophonic musical instruments -Means for controlling the tone frequencies, e.g. attack, decay; Means for producing special musical effects, e.g. vibrato, glissando                                                                                                                                                                                                                                                                                                                                                                                                                                                                                                                                                                                                                                                                                                                                                                                   |MUSICAL INSTRUMENTS; ACOUSTICS           |\n",
      "|Method and apparatus for creating a melodic repeated effect|A   |101       |inventional|4       |ELECTROPHONIC MUSICAL INSTRUMENTS                                                            |Details of electrophonic musical instruments -Means for controlling the tone frequencies, e.g. attack, decay; Means for producing special musical effects, e.g. vibrato, glissando -by additional modulation-during execution only -by envelope-forming circuits-using a data store from which the envelope is synthesized                                                                                                                                                                                                                                                                                                                                                                                                                                                                                                                                                                                                                                           |MUSICAL INSTRUMENTS; ACOUSTICS           |\n",
      "|Method and apparatus for creating a melodic repeated effect|A   |101       |inventional|5       |ELECTROPHONIC MUSICAL INSTRUMENTS                                                            |Details of electrophonic musical instruments -Selecting circuits-for transposition                                                                                                                                                                                                                                                                                                                                                                                                                                                                                                                                                                                                                                                                                                                                                                                                                                                                                   |MUSICAL INSTRUMENTS; ACOUSTICS           |\n",
      "|Method and apparatus for creating a melodic repeated effect|A   |101       |inventional|6       |ELECTROPHONIC MUSICAL INSTRUMENTS                                                            |Details of electrophonic musical instruments -Selecting circuits-for automatically producing a series of tones -to produce arpeggios                                                                                                                                                                                                                                                                                                                                                                                                                                                                                                                                                                                                                                                                                                                                                                                                                                 |MUSICAL INSTRUMENTS; ACOUSTICS           |\n",
      "|Method and apparatus for creating a melodic repeated effect|A   |101       |inventional|7       |ELECTROPHONIC MUSICAL INSTRUMENTS                                                            |Details of electrophonic musical instruments -Accompaniment arrangements-Rhythm                                                                                                                                                                                                                                                                                                                                                                                                                                                                                                                                                                                                                                                                                                                                                                                                                                                                                      |MUSICAL INSTRUMENTS; ACOUSTICS           |\n",
      "|Method and apparatus for creating a melodic repeated effect|A   |101       |additional |8       |ELECTROPHONIC MUSICAL INSTRUMENTS                                                            |Aspects or methods of musical processing having intrinsic musical character, i.e. involving musical theory or musical parameters or relying on musical knowledge, as applied in electrophonic musical tools or instruments -Musical analysis, i.e. isolation, extraction or identification of musical elements or musical parameters from a raw acoustic signal or from an encoded audio signal -for pitch analysis as part of wider processing for musical purposes, e.g. transcription, musical performance evaluation; Pitch recognition, e.g. in polyphonic sounds; Estimation or use of missing fundamental                                                                                                                                                                                                                                                                                                                                                     |MUSICAL INSTRUMENTS; ACOUSTICS           |\n",
      "|Method and apparatus for creating a melodic repeated effect|A   |101       |additional |9       |ELECTROPHONIC MUSICAL INSTRUMENTS                                                            |Aspects or methods of musical processing having intrinsic musical character, i.e. involving musical theory or musical parameters or relying on musical knowledge, as applied in electrophonic musical tools or instruments -Music Composition or musical creation; Tools or processes therefor-Automatic composing, i.e. using predefined musical rules                                                                                                                                                                                                                                                                                                                                                                                                                                                                                                                                                                                                              |MUSICAL INSTRUMENTS; ACOUSTICS           |\n",
      "|Method and apparatus for creating a melodic repeated effect|A   |101       |additional |10      |ELECTROPHONIC MUSICAL INSTRUMENTS                                                            |Aspects or methods of musical processing having intrinsic musical character, i.e. involving musical theory or musical parameters or relying on musical knowledge, as applied in electrophonic musical tools or instruments -Music Composition or musical creation; Tools or processes therefor-Riff, i.e. improvisation, e.g. repeated motif or phrase, automatically added to a piece, e.g. in real time                                                                                                                                                                                                                                                                                                                                                                                                                                                                                                                                                            |MUSICAL INSTRUMENTS; ACOUSTICS           |\n",
      "|Method and apparatus for creating a melodic repeated effect|A   |101       |additional |11      |ELECTROPHONIC MUSICAL INSTRUMENTS                                                            |Aspects or methods of musical processing having intrinsic musical character, i.e. involving musical theory or musical parameters or relying on musical knowledge, as applied in electrophonic musical tools or instruments -Music Composition or musical creation; Tools or processes therefor-using templates, i.e. incomplete musical sections, as a basis for composing                                                                                                                                                                                                                                                                                                                                                                                                                                                                                                                                                                                           |MUSICAL INSTRUMENTS; ACOUSTICS           |\n",
      "|Method and apparatus for creating a melodic repeated effect|A   |101       |additional |12      |ELECTROPHONIC MUSICAL INSTRUMENTS                                                            |Aspects or methods of musical processing having intrinsic musical character, i.e. involving musical theory or musical parameters or relying on musical knowledge, as applied in electrophonic musical tools or instruments -Musical effects-Note sequence effects, i.e. sensing, altering, controlling, processing or synthesising a note trigger selection or sequence, e.g. by altering trigger timing, triggered note values, adding improvisation or ornaments, also rapid repetition of the same note onset, e.g. on a piano, guitar, e.g. rasgueado, drum roll -Arpeggio, i.e. notes played or sung in rapid sequence, one after the other, rather than ringing out simultaneously, e.g. as a chord; Generators therefor, i.e. arpeggiators; Discrete glissando effects on instruments not permitting continuous glissando, e.g. xylophone or piano, with stepwise pitch variation and on which distinct onsets due to successive note triggerings can be heard|MUSICAL INSTRUMENTS; ACOUSTICS           |\n",
      "|Method and apparatus for creating a melodic repeated effect|A   |101       |additional |13      |ELECTROPHONIC MUSICAL INSTRUMENTS                                                            |Aspects or methods of musical processing having intrinsic musical character, i.e. involving musical theory or musical parameters or relying on musical knowledge, as applied in electrophonic musical tools or instruments -Musical effects-Modulation effects, i.e. smooth non-discontinuous variations over a time interval, e.g. within a note, melody or musical transition, of any sound parameter, e.g. amplitude, pitch, spectral response, playback speed -Glissando, i.e. pitch smoothly sliding from one note to another, e.g. gliss, glide, slide, bend, smear, sweep; -Portamento, i.e. smooth continuously variable pitch-bend, without emphasis of each chromatic pitch during the pitch change, which only stops at the end of the pitch shift, as obtained, e.g. by a MIDI pitch wheel or trombone                                                                                                                                                   |MUSICAL INSTRUMENTS; ACOUSTICS           |\n",
      "|Method and apparatus for creating a melodic repeated effect|A   |101       |additional |14      |ELECTROPHONIC MUSICAL INSTRUMENTS                                                            |Aspects or methods of musical processing having intrinsic musical character, i.e. involving musical theory or musical parameters or relying on musical knowledge, as applied in electrophonic musical tools or instruments -Musical effects-Acoustic effect simulation, i.e. volume, spatial, resonance or reverberation effects added to a musical sound, usually by appropriate filtering or delays -Spatial effects, musical uses of multiple audio channels, e.g. stereo -Source positioning in a soundscape, e.g. instrument positioning on a virtual soundstage, stereo panning or related delay or reverberation changes; Changing the stereo width of a musical source                                                                                                                                                                                                                                                                                       |MUSICAL INSTRUMENTS; ACOUSTICS           |\n",
      "|Method and apparatus for creating a melodic repeated effect|A   |101       |additional |15      |ELECTROPHONIC MUSICAL INSTRUMENTS                                                            |Aspects or methods of musical processing having intrinsic musical character, i.e. involving musical theory or musical parameters or relying on musical knowledge, as applied in electrophonic musical tools or instruments -Rhythm pattern selection, synthesis or composition -Random process affecting a selection among a set of pre-established patterns                                                                                                                                                                                                                                                                                                                                                                                                                                                                                                                                                                                                         |MUSICAL INSTRUMENTS; ACOUSTICS           |\n",
      "|Method and apparatus for creating a melodic repeated effect|A   |101       |additional |16      |ELECTROPHONIC MUSICAL INSTRUMENTS                                                            |General physical, ergonomic or hardware implementation of electrophonic musical tools or instruments, e.g. shape or architecture-Special instrument [spint], i.e. mimicking the ergonomy, shape, sound or other characteristic of a specific acoustic musical instrument category-Spint percussion, i.e. mimicking percussion instruments; Electrophonic musical instruments with percussion instrument features; Electrophonic aspects of acoustic percussion instruments, MIDI-like control therefor -Spint drum-Spint drum snare, i.e. mimicking using strands of snares made of curled metal wire, metal cable, plastic cable, or gut cords stretched across the drumhead, e.g. snare drum, side drum, military drum, field drum                                                                                                                                                                                                                                 |MUSICAL INSTRUMENTS; ACOUSTICS           |\n",
      "|Method and apparatus for creating a melodic repeated effect|A   |101       |additional |17      |ELECTROPHONIC MUSICAL INSTRUMENTS                                                            |General physical, ergonomic or hardware implementation of electrophonic musical tools or instruments, e.g. shape or architecture-Special instrument [spint], i.e. mimicking the ergonomy, shape, sound or other characteristic of a specific acoustic musical instrument category-Spint percussion, i.e. mimicking percussion instruments; Electrophonic musical instruments with percussion instrument features; Electrophonic aspects of acoustic percussion instruments, MIDI-like control therefor -Spint cymbal, i.e. mimicking thin center-held gong-like instruments made of copper-based alloys, e.g. ride cymbal, china cymbal, sizzle cymbal, swish cymbal, zill, i.e. finger cymbals-Spint cymbal hihat, e.g. mimicking high-hat cymbal; Details of the pedal interface, of the pedal action emulation or of the generation of the different sounds resulting from this pedal action                                                                      |MUSICAL INSTRUMENTS; ACOUSTICS           |\n",
      "|Method and apparatus for creating a melodic repeated effect|A   |101       |additional |18      |ELECTROPHONIC MUSICAL INSTRUMENTS                                                            |General physical, ergonomic or hardware implementation of electrophonic musical tools or instruments, e.g. shape or architecture-Special instrument [spint], i.e. mimicking the ergonomy, shape, sound or other characteristic of a specific acoustic musical instrument category-Spint percussion, i.e. mimicking percussion instruments; Electrophonic musical instruments with percussion instrument features; Electrophonic aspects of acoustic percussion instruments, MIDI-like control therefor -Spint bell, i.e. mimicking bells, e.g. cow-bells                                                                                                                                                                                                                                                                                                                                                                                                             |MUSICAL INSTRUMENTS; ACOUSTICS           |\n",
      "|Method and apparatus for creating a melodic repeated effect|A   |101       |additional |19      |ELECTROPHONIC MUSICAL INSTRUMENTS                                                            |Data organisation or data communication aspects, specifically adapted for electrophonic musical tools or instruments-Files or data streams containing coded musical information, e.g. for transmission -File format, i.e. specific or non-standard musical file format used in or adapted for electrophonic musical instruments, e.g. in wavetables -MIDI or other note-oriented file format                                                                                                                                                                                                                                                                                                                                                                                                                                                                                                                                                                         |MUSICAL INSTRUMENTS; ACOUSTICS           |\n",
      "|Method and apparatus for creating a melodic repeated effect|A   |101       |additional |20      |ELECTROPHONIC MUSICAL INSTRUMENTS                                                            |Aspects of algorithms or signal processing methods without intrinsic musical character, yet specifically adapted for or used in electrophonic musical processing -Mathematical functions for musical analysis, processing, synthesis or composition -Random number generators, pseudorandom generators, classes of functions therefor                                                                                                                                                                                                                                                                                                                                                                                                                                                                                                                                                                                                                                |MUSICAL INSTRUMENTS; ACOUSTICS           |\n",
      "|Method and apparatus for creating a melodic repeated effect|A   |101       |additional |21      |TECHNICAL SUBJECTS COVERED BY FORMER USPC CROSS-REFERENCE ART COLLECTIONS [XRACs] AND DIGESTS|Music-Side; rhythm and percussion devices                                                                                                                                                                                                                                                                                                                                                                                                                                                                                                                                                                                                                                                                                                                                                                                                                                                                                                                            |TECHNICAL SUBJECTS COVERED BY FORMER USPC|\n",
      "+-----------------------------------------------------------+----+----------+-----------+--------+---------------------------------------------------------------------------------------------+---------------------------------------------------------------------------------------------------------------------------------------------------------------------------------------------------------------------------------------------------------------------------------------------------------------------------------------------------------------------------------------------------------------------------------------------------------------------------------------------------------------------------------------------------------------------------------------------------------------------------------------------------------------------------------------------------------------------------------------------------------------------------------------------------------------------------------------------------------------------------------------------------------------------------------------------------------------------+-----------------------------------------+\n",
      "\n"
     ]
    }
   ],
   "source": [
    "ddf.filter(ddf.patent_id==6121532).sort(ddf.sequence.asc()).select([\"title\",\"kind\",\"num_claims\",\"category\",\"sequence\",\"group_title\",\"subgroup_title\",\"subsection_title\"]).show(99,False)"
   ]
  },
  {
   "cell_type": "code",
   "execution_count": null,
   "metadata": {},
   "outputs": [],
   "source": []
  }
 ],
 "metadata": {
  "kernelspec": {
   "display_name": "Python 3",
   "language": "python",
   "name": "python3"
  },
  "language_info": {
   "codemirror_mode": {
    "name": "ipython",
    "version": 3
   },
   "file_extension": ".py",
   "mimetype": "text/x-python",
   "name": "python",
   "nbconvert_exporter": "python",
   "pygments_lexer": "ipython3",
   "version": "3.7.3"
  }
 },
 "nbformat": 4,
 "nbformat_minor": 4
}
