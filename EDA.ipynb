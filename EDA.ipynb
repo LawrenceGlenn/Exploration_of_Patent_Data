{
 "cells": [
  {
   "cell_type": "code",
   "execution_count": 1,
   "metadata": {},
   "outputs": [],
   "source": [
    "import pyspark as ps    # for the pyspark suite\n",
    "import pandas as pd"
   ]
  },
  {
   "cell_type": "code",
   "execution_count": 2,
   "metadata": {},
   "outputs": [],
   "source": [
    "spark = (ps.sql.SparkSession\n",
    "         .builder\n",
    "         .master('local[*]')\n",
    "         .appName('lecture')\n",
    "         .getOrCreate()\n",
    "        )\n",
    "sc = spark.sparkContext"
   ]
  },
  {
   "cell_type": "code",
   "execution_count": 3,
   "metadata": {},
   "outputs": [
    {
     "data": {
      "text/html": [
       "\n",
       "            <div>\n",
       "                <p><b>SparkSession - in-memory</b></p>\n",
       "                \n",
       "        <div>\n",
       "            <p><b>SparkContext</b></p>\n",
       "\n",
       "            <p><a href=\"http://03aaafa0d92c:4040\">Spark UI</a></p>\n",
       "\n",
       "            <dl>\n",
       "              <dt>Version</dt>\n",
       "                <dd><code>v2.4.4</code></dd>\n",
       "              <dt>Master</dt>\n",
       "                <dd><code>local[*]</code></dd>\n",
       "              <dt>AppName</dt>\n",
       "                <dd><code>lecture</code></dd>\n",
       "            </dl>\n",
       "        </div>\n",
       "        \n",
       "            </div>\n",
       "        "
      ],
      "text/plain": [
       "<pyspark.sql.session.SparkSession at 0x7f18817fbfd0>"
      ]
     },
     "execution_count": 3,
     "metadata": {},
     "output_type": "execute_result"
    }
   ],
   "source": [
    "spark\n"
   ]
  },
  {
   "cell_type": "code",
   "execution_count": null,
   "metadata": {},
   "outputs": [],
   "source": []
  },
  {
   "cell_type": "code",
   "execution_count": 45,
   "metadata": {},
   "outputs": [
    {
     "name": "stdout",
     "output_type": "stream",
     "text": [
      "root\n",
      " |-- id: string (nullable = true)\n",
      " |-- type: string (nullable = true)\n",
      " |-- number: string (nullable = true)\n",
      " |-- country: string (nullable = true)\n",
      " |-- date: timestamp (nullable = true)\n",
      " |-- abstract: string (nullable = true)\n",
      " |-- title: string (nullable = true)\n",
      " |-- kind: string (nullable = true)\n",
      " |-- num_claims: integer (nullable = true)\n",
      " |-- filename: string (nullable = true)\n",
      " |-- withdrawn: string (nullable = true)\n",
      "\n"
     ]
    }
   ],
   "source": [
    "df = spark.read.option(\"inferschema\", \"true\").csv('data/patent.tsv',\n",
    "                    header=True,       # use headers or not\n",
    "                    quote='\"',         # char for quotes\n",
    "                    sep=\"\\t\")          # char for separation  \n",
    "\n",
    "# prints the schema\n",
    "df.printSchema()\n",
    "\n",
    "# some functions are still valid\n",
    "#print(\"line count: {}\\n\".format(df.count()))\n",
    "#df = df.limit(100)\n",
    "# show the table in a oh-so-nice format\n",
    "#df.show()"
   ]
  },
  {
   "cell_type": "code",
   "execution_count": 6,
   "metadata": {},
   "outputs": [
    {
     "data": {
      "text/plain": [
       "DataFrame[id: string, type: string, number: string, date: timestamp, abstract: string, title: string, kind: string, num_claims: int, filename: string, withdrawn: string]"
      ]
     },
     "execution_count": 6,
     "metadata": {},
     "output_type": "execute_result"
    }
   ],
   "source": [
    "df.count()"
   ]
  },
  {
   "cell_type": "code",
   "execution_count": 10,
   "metadata": {},
   "outputs": [
    {
     "name": "stdout",
     "output_type": "stream",
     "text": [
      "+--------+-------+-------------------+--------------------+--------------------+----+----------+---------+\n",
      "|      id|   type|               date|            abstract|               title|kind|num_claims|withdrawn|\n",
      "+--------+-------+-------------------+--------------------+--------------------+----+----------+---------+\n",
      "|10000000|utility|2018-06-19 00:00:00|A frequency modul...|Coherent LADAR us...|  B2|        20|     NULL|\n",
      "|10000001|utility|2018-06-19 00:00:00|The injection mol...|Injection molding...|  B2|        12|     NULL|\n",
      "|10000002|utility|2018-06-19 00:00:00|The present inven...|Method for manufa...|  B2|         9|     NULL|\n",
      "|10000003|utility|2018-06-19 00:00:00|The invention rel...|Method for produc...|  B2|        18|     NULL|\n",
      "|10000004|utility|2018-06-19 00:00:00|The present inven...|Process of obtain...|  B2|         6|     NULL|\n",
      "|10000005|utility|2018-06-19 00:00:00|A vacuum forming ...|Article vacuum fo...|  B2|         4|     NULL|\n",
      "|10000006|utility|2018-06-19 00:00:00|A thermoforming m...|Thermoforming mol...|  B2|         8|     NULL|\n",
      "|10000007|utility|2018-06-19 00:00:00|An expanding tool...|  PEX expanding tool|  B2|        24|     NULL|\n",
      "|10000008|utility|2018-06-19 00:00:00|A decorated strip...|Bracelet mold and...|  B2|        11|     NULL|\n",
      "|10000009|utility|2018-06-19 00:00:00|In sterile, addit...|Sterile environme...|  B2|        21|     NULL|\n",
      "|10000010|utility|2018-06-19 00:00:00|3-D printing syst...|3-D electrostatic...|  B2|        20|     NULL|\n",
      "|10000011|utility|2018-06-19 00:00:00|To reduce distort...|Supports for sint...|  B1|        30|     NULL|\n",
      "|10000014|utility|2018-06-19 00:00:00|The present inven...|Method for produc...|  B2|        21|     NULL|\n",
      "|10000015|utility|2018-06-19 00:00:00|A hermetically se...|Methods for makin...|  B2|         6|     NULL|\n",
      "|10000016|utility|2018-06-19 00:00:00|A film edge seali...|Film edge sealing...|  B2|        22|     NULL|\n",
      "|10000017|utility|2018-06-19 00:00:00|The invention rel...|Method for mounti...|  B2|        21|     NULL|\n",
      "|10000018|utility|2018-06-19 00:00:00|A stretch release...|Pull tab design f...|  B2|        13|     NULL|\n",
      "|10000019|utility|2018-06-19 00:00:00|An installation a...|Installation asse...|  B2|        11|     NULL|\n",
      "|10000020|utility|2018-06-19 00:00:00|A three-dimension...|Method and device...|  B2|         7|     NULL|\n",
      "|10000021|utility|2018-06-19 00:00:00|There is provided...|Method for manufa...|  B2|         4|     NULL|\n",
      "+--------+-------+-------------------+--------------------+--------------------+----+----------+---------+\n",
      "only showing top 20 rows\n",
      "\n"
     ]
    }
   ],
   "source": [
    "df = df.drop('country')\n",
    "df = df.drop('filename')\n",
    "df = df.drop('number')\n",
    "df.show()"
   ]
  },
  {
   "cell_type": "code",
   "execution_count": 44,
   "metadata": {},
   "outputs": [
    {
     "name": "stdout",
     "output_type": "stream",
     "text": [
      "+----+-----+\n",
      "|year|count|\n",
      "+----+-----+\n",
      "|2018|  100|\n",
      "+----+-----+\n",
      "\n"
     ]
    }
   ],
   "source": [
    "from pyspark.sql.functions import year\n",
    "df.groupby(year(\"date\").alias(\"year\")).count().show()"
   ]
  },
  {
   "cell_type": "code",
   "execution_count": 20,
   "metadata": {},
   "outputs": [
    {
     "name": "stdout",
     "output_type": "stream",
     "text": [
      "+--------------------------------+\n",
      "|type                            |\n",
      "+--------------------------------+\n",
      "|defensive publication           |\n",
      "|utility                         |\n",
      "|plant                           |\n",
      "|reissue                         |\n",
      "|statutory invention registration|\n",
      "|TVPP                            |\n",
      "|design                          |\n",
      "+--------------------------------+\n",
      "\n"
     ]
    }
   ],
   "source": [
    "df.select(\"type\").distinct().show(20,False)"
   ]
  },
  {
   "cell_type": "code",
   "execution_count": 16,
   "metadata": {},
   "outputs": [
    {
     "data": {
      "text/plain": [
       "7144425"
      ]
     },
     "execution_count": 16,
     "metadata": {},
     "output_type": "execute_result"
    }
   ],
   "source": [
    "df.select(\"id\").distinct().show()"
   ]
  },
  {
   "cell_type": "code",
   "execution_count": 6,
   "metadata": {},
   "outputs": [
    {
     "data": {
      "text/plain": [
       "7144425"
      ]
     },
     "execution_count": 6,
     "metadata": {},
     "output_type": "execute_result"
    }
   ],
   "source": [
    "df.count()"
   ]
  },
  {
   "cell_type": "code",
   "execution_count": 26,
   "metadata": {},
   "outputs": [
    {
     "name": "stdout",
     "output_type": "stream",
     "text": [
      "+---------+-------+\n",
      "|withdrawn|  count|\n",
      "+---------+-------+\n",
      "|        0|6963631|\n",
      "|        1|   9668|\n",
      "|     NULL| 171126|\n",
      "+---------+-------+\n",
      "\n"
     ]
    }
   ],
   "source": [
    "df.groupby(df.withdrawn).count().show()"
   ]
  },
  {
   "cell_type": "code",
   "execution_count": 27,
   "metadata": {},
   "outputs": [
    {
     "name": "stdout",
     "output_type": "stream",
     "text": [
      "+-------+-------+\n",
      "|country|  count|\n",
      "+-------+-------+\n",
      "|     US|7144425|\n",
      "+-------+-------+\n",
      "\n"
     ]
    }
   ],
   "source": [
    "df.groupby(df.country).count().show()"
   ]
  },
  {
   "cell_type": "code",
   "execution_count": 28,
   "metadata": {},
   "outputs": [
    {
     "name": "stdout",
     "output_type": "stream",
     "text": [
      "+----+-------+\n",
      "|kind|  count|\n",
      "+----+-------+\n",
      "|  I5|      3|\n",
      "|  H1|    273|\n",
      "|  P2|  12558|\n",
      "|  B2|3464834|\n",
      "|   E|   8692|\n",
      "|  I4|    509|\n",
      "|  P3|   6052|\n",
      "|  B1| 620301|\n",
      "|   A|2391379|\n",
      "|   S| 209582|\n",
      "|  E1|  10107|\n",
      "|   P|   8282|\n",
      "|  S1| 409868|\n",
      "|   H|   1982|\n",
      "|  H2|      3|\n",
      "+----+-------+\n",
      "\n"
     ]
    }
   ],
   "source": [
    "df.groupby(df.kind).count().show()"
   ]
  },
  {
   "cell_type": "code",
   "execution_count": 33,
   "metadata": {},
   "outputs": [
    {
     "name": "stdout",
     "output_type": "stream",
     "text": [
      "+--------------------------------+-------+\n",
      "|type                            |count  |\n",
      "+--------------------------------+-------+\n",
      "|defensive publication           |509    |\n",
      "|utility                         |6476514|\n",
      "|plant                           |26892  |\n",
      "|reissue                         |18799  |\n",
      "|statutory invention registration|2258   |\n",
      "|TVPP                            |3      |\n",
      "|design                          |619450 |\n",
      "+--------------------------------+-------+\n",
      "\n"
     ]
    }
   ],
   "source": [
    "df.groupby(df.type).count().show(99,False)"
   ]
  },
  {
   "cell_type": "code",
   "execution_count": 5,
   "metadata": {},
   "outputs": [],
   "source": [
    "#df_panda = pd.DataFrame(df.take(1000), columns=df.columns)"
   ]
  },
  {
   "cell_type": "code",
   "execution_count": 9,
   "metadata": {},
   "outputs": [
    {
     "data": {
      "text/plain": [
       "(datetime.datetime(1976, 1, 6, 0, 0), datetime.datetime(2019, 10, 8, 0, 0))"
      ]
     },
     "execution_count": 9,
     "metadata": {},
     "output_type": "execute_result"
    }
   ],
   "source": [
    "from pyspark.sql.functions import min, max\n",
    "min_date, max_date = df.select(min(\"date\"), max(\"date\")).first()\n",
    "min_date, max_date\n"
   ]
  },
  {
   "cell_type": "code",
   "execution_count": 22,
   "metadata": {},
   "outputs": [
    {
     "name": "stdout",
     "output_type": "stream",
     "text": [
      "root\n",
      " |-- uuid: string (nullable = true)\n",
      " |-- patent_id: integer (nullable = true)\n",
      " |-- section_id: string (nullable = true)\n",
      " |-- subsection_id: string (nullable = true)\n",
      " |-- group_id: string (nullable = true)\n",
      " |-- subgroup_id: string (nullable = true)\n",
      " |-- category: string (nullable = true)\n",
      " |-- sequence: integer (nullable = true)\n",
      "\n",
      "line count: 39915464\n",
      "\n",
      "+--------------------+---------+----------+-------------+--------+--------------+-----------+--------+\n",
      "|                uuid|patent_id|section_id|subsection_id|group_id|   subgroup_id|   category|sequence|\n",
      "+--------------------+---------+----------+-------------+--------+--------------+-----------+--------+\n",
      "|000016xombd5lbk9l...|  7070831|         H|          H01|    H01L|H01L2924/01013| additional|      22|\n",
      "|000070runw99gxjki...|  7618693|         C|          C09|    C09D|     C09D11/30|inventional|       1|\n",
      "|00008erwm5297s6wv...|  8488869|         G|          G06|    G06T|G06T2207/10016| additional|      20|\n",
      "|00008q01v2ziacpr0...|  9976665|         A|          A61|    A61M|   A61M5/16886|inventional|       4|\n",
      "|00008rwbcfjb44c0m...|  9448251|         H|          H01|    H01L|     H01L29/84|inventional|       6|\n",
      "|0000c5ecp4hu1zeue...|  8399388|         C|          C10|    C10N|  C10N2220/028| additional|      10|\n",
      "|0000j1yguzv7z0ftw...|  6607786|         B|          B05|    B05C|     B05C5/008|inventional|       0|\n",
      "|0000k59e48na4sglk...|  8253512|         H|          H05|    H05K|    H05K1/0233|inventional|       0|\n",
      "|0000ktto4445vpnl8...|  6050974|         A|          A61|    A61M|   A61M5/31505| additional|       1|\n",
      "|0000n0dkyro9wrthl...|  8735065|         C|          C12|    C12Q|  C12Q2565/629| additional|      13|\n",
      "|0000op5a1fqtuuo2h...|  9914701|         C|          C07|    C07C|     C07C67/62|inventional|       2|\n",
      "|0000rjuc7r2o46ppp...|  7958369|         H|          H04|    H04N|    H04N7/1675|inventional|       0|\n",
      "|0000ss42t6i6l0fm5...|  4301109|         B|          B65|    B65G|     B65G39/04|inventional|       5|\n",
      "|0000vat7y2wdg7rhg...|  7129574|         H|          H01|    H01L|     H01L24/48| additional|       4|\n",
      "|0000wkyaoqrkr9nf8...|  7589403|         H|          H01|    H01L|     H01L24/48| additional|       7|\n",
      "|0000xrkeghcr0q9go...|  9216025|         A|          A61|    A61B|   A61B17/8805| additional|      26|\n",
      "|0000ysqdvywwv330y...|  9213989|         G|          G06|    G06Q|   G06Q30/0641|inventional|       4|\n",
      "|0000z0caa9g78lzvl...|  9712130|         H|          H01|    H01P|   H01P1/20381|inventional|       1|\n",
      "|00012mq1mrfjh9mwy...| 10317111|         F|          F17|    F17C|  F17C2265/017| additional|      24|\n",
      "|00014x2px5dbzvmwr...|  6134480|         A|          A61|    A61N|    A61N1/0452|inventional|       0|\n",
      "+--------------------+---------+----------+-------------+--------+--------------+-----------+--------+\n",
      "only showing top 20 rows\n",
      "\n"
     ]
    }
   ],
   "source": [
    "df_cpc = spark.read.option(\"inferschema\", \"true\").csv('data/cpc_current.tsv',\n",
    "                    header=True,       # use headers or not\n",
    "                    quote='\"',         # char for quotes\n",
    "                    sep=\"\\t\")          # char for separation  \n",
    "\n",
    "# prints the schema\n",
    "df_cpc.printSchema()\n",
    "\n",
    "# some functions are still valid\n",
    "print(\"line count: {}\\n\".format(df_cpc.count()))\n",
    "\n",
    "# show the table in a oh-so-nice format\n",
    "df_cpc.show()"
   ]
  },
  {
   "cell_type": "code",
   "execution_count": 24,
   "metadata": {},
   "outputs": [],
   "source": [
    "ddf = df.join(df_cpc, df.id == df_cpc.patent_id).drop('id')"
   ]
  },
  {
   "cell_type": "code",
   "execution_count": 25,
   "metadata": {},
   "outputs": [
    {
     "data": {
      "text/plain": [
       "1144"
      ]
     },
     "execution_count": 25,
     "metadata": {},
     "output_type": "execute_result"
    }
   ],
   "source": [
    "ddf.count()"
   ]
  },
  {
   "cell_type": "code",
   "execution_count": 27,
   "metadata": {},
   "outputs": [
    {
     "name": "stdout",
     "output_type": "stream",
     "text": [
      "+-------+-------------------+--------------------+--------------------+----+----------+---------+--------------------+---------+----------+-------------+--------+--------------+-----------+--------+\n",
      "|   type|               date|            abstract|               title|kind|num_claims|withdrawn|                uuid|patent_id|section_id|subsection_id|group_id|   subgroup_id|   category|sequence|\n",
      "+-------+-------------------+--------------------+--------------------+----+----------+---------+--------------------+---------+----------+-------------+--------+--------------+-----------+--------+\n",
      "|utility|2018-06-19 00:00:00|Boron nitride nan...|High kinetic ener...|  B2|        20|     NULL|00j2efp5di8xb7jyc...| 10000036|         F|          F41|    F41H|    F41H5/0471|inventional|       7|\n",
      "|utility|2018-06-19 00:00:00|A pneumatic tire ...|      Pneumatic tire|  B2|         8|     NULL|01h8whavwsry5jx7t...| 10000092|         B|          B60|    B60C|  B60C2011/039| additional|       6|\n",
      "|utility|2018-06-19 00:00:00|Provided is an al...|Alloy plate coate...|  B2|         7|     NULL|0375j2wnp7qdprlyv...| 10000038|         H|          H01|    H01M| H01M2008/1095| additional|       7|\n",
      "|utility|2018-06-19 00:00:00|The invention rel...|Method for detach...|  B2|         7|     NULL|04toqb7xj9ctaf8o9...| 10000087|         G|          G09|    G09F| G09F2007/1856| additional|       8|\n",
      "|utility|2018-06-19 00:00:00|A decorated strip...|Bracelet mold and...|  B2|        11|     NULL|08iqfen79lrehob31...| 10000008|         B|          B29|    B29K|   B29K2105/02| additional|       7|\n",
      "|utility|2018-06-19 00:00:00|The present inven...|Method for manufa...|  B2|         9|     NULL|0a2w06kvhajfties6...| 10000002|         B|          B32|    B32B|     B32B27/18|inventional|      12|\n",
      "|utility|2018-06-19 00:00:00|A decorated strip...|Bracelet mold and...|  B2|        11|     NULL|0b8y09svfc4t8uya0...| 10000008|         B|          B29|    B29C|    B29C33/405|inventional|       1|\n",
      "|utility|2018-06-19 00:00:00|A liquid ejecting...|Liquid ejecting a...|  B2|         6|     NULL|0bfqn93i8z6oozowr...| 10000058|         B|          B41|    B41J|   B41J2/04581|inventional|       1|\n",
      "|utility|2018-06-19 00:00:00|Multilayer film c...|Multilayer film f...|  B2|        19|     NULL|0czd4qua1jq4un3yq...| 10000043|         B|          B32|    B32B|      B32B7/12|inventional|       1|\n",
      "|utility|2018-06-19 00:00:00|A flow path formi...|Liquid ejecting h...|  B2|        10|     NULL|0gaberuwql2mkj9pe...| 10000060|         B|          B41|    B41J|B41J2002/14241| additional|       5|\n",
      "|utility|2018-06-19 00:00:00|Disclosed are emb...|Washable, waterpr...|  B2|        20|     NULL|0gai8avk9ev5969jc...| 10000033|         B|          B31|    B31B|   B31B2150/00| additional|      33|\n",
      "|utility|2018-06-19 00:00:00|A process for man...|Method for proces...|  B2|        21|     NULL|0gj56k245dotwmulo...| 10000022|         B|          B29|    B29C|    B29C64/153|inventional|       0|\n",
      "|utility|2018-06-19 00:00:00|Disclosed are emb...|Washable, waterpr...|  B2|        20|     NULL|0gzhcpml30ql93qeb...| 10000033|         Y|          Y10|    Y10T|    Y10T156/10| additional|      37|\n",
      "|utility|2018-06-19 00:00:00|Panel, particular...|Panel for making ...|  B2|        13|     NULL|0hlgzlfjzjpn73cj6...| 10000044|         B|          B32|    B32B|   B32B2264/10| additional|      28|\n",
      "|utility|2018-06-19 00:00:00|An apparatus and ...|Apparatus and met...|  B2|        20|     NULL|0lkf7xnr9vhp0ssfz...| 10000023|         B|          B29|    B29C|    B29C64/106|inventional|       0|\n",
      "|utility|2018-06-19 00:00:00|There is provided...|      Transfer sheet|  B2|        18|     NULL|0m9q2aobyeu458s28...| 10000081|         B|          B41|    B41M|     B41M5/423|inventional|       7|\n",
      "|utility|2018-06-19 00:00:00|A multilayer inte...|Multilayer interl...|  B2|        14|     NULL|0ou1s00yemu6817my...| 10000039|         B|          B32|    B32B|  B32B2307/732| additional|      15|\n",
      "|utility|2018-06-19 00:00:00|A film edge seali...|Film edge sealing...|  B2|        22|     NULL|0p3f4fr5e1dub6wkr...| 10000016|         B|          B29|    B29K|   B29K2905/02| additional|      40|\n",
      "|utility|2018-06-19 00:00:00|A composite induc...|Composite inducti...|  B2|        18|     NULL|0q0y10ryobktkqket...| 10000026|         B|          B29|    B29C| B29C2035/0811| additional|       4|\n",
      "|utility|2018-06-19 00:00:00|The present inven...|Method for manufa...|  B2|         9|     NULL|0q2r4mwuw0byd7xst...| 10000002|         B|          B29|    B29L|  B29L2030/008| additional|      23|\n",
      "+-------+-------------------+--------------------+--------------------+----+----------+---------+--------------------+---------+----------+-------------+--------+--------------+-----------+--------+\n",
      "only showing top 20 rows\n",
      "\n"
     ]
    }
   ],
   "source": [
    "ddf.show()"
   ]
  },
  {
   "cell_type": "code",
   "execution_count": null,
   "metadata": {},
   "outputs": [],
   "source": [
    "df_cpc.count()"
   ]
  },
  {
   "cell_type": "code",
   "execution_count": 9,
   "metadata": {},
   "outputs": [
    {
     "data": {
      "text/plain": [
       "6452079"
      ]
     },
     "execution_count": 9,
     "metadata": {},
     "output_type": "execute_result"
    }
   ],
   "source": [
    "df_cpc.select(\"patent_id\").distinct().count()"
   ]
  },
  {
   "cell_type": "code",
   "execution_count": 10,
   "metadata": {},
   "outputs": [
    {
     "name": "stdout",
     "output_type": "stream",
     "text": [
      "+---------+-----+\n",
      "|patent_id|count|\n",
      "+---------+-----+\n",
      "|  6973866|   12|\n",
      "|  9122810|   16|\n",
      "|  7510754|   20|\n",
      "|  9390338|   14|\n",
      "|  9198479|   27|\n",
      "|  9791123|    5|\n",
      "|  5585105|   14|\n",
      "|  6121532|   22|\n",
      "|  5122749|    2|\n",
      "|  4359781|    4|\n",
      "|  9314865|    6|\n",
      "|  7817829|    2|\n",
      "| 10065879|   15|\n",
      "|  6096781|    7|\n",
      "|  6262027|   10|\n",
      "|  7394163|   67|\n",
      "|  5340740|    5|\n",
      "| 10275120|    3|\n",
      "|  7265388|   13|\n",
      "|  8859658|   18|\n",
      "+---------+-----+\n",
      "only showing top 20 rows\n",
      "\n"
     ]
    }
   ],
   "source": [
    "df_cpc.groupby(df_cpc.patent_id).count().show()"
   ]
  },
  {
   "cell_type": "code",
   "execution_count": 11,
   "metadata": {},
   "outputs": [
    {
     "name": "stdout",
     "output_type": "stream",
     "text": [
      "+--------------------+---------+----------+-------------+--------+------------+-----------+--------+\n",
      "|                uuid|patent_id|section_id|subsection_id|group_id| subgroup_id|   category|sequence|\n",
      "+--------------------+---------+----------+-------------+--------+------------+-----------+--------+\n",
      "|jyxz78olyq2fo58oy...|  6121532|         G|          G10|    G10H|  G10H1/0025|inventional|       0|\n",
      "|3t723r37m4i1if7xk...|  6121532|         G|          G10|    G10H|    G10H1/00|inventional|       1|\n",
      "|3bcii7zojwle05qgv...|  6121532|         G|          G10|    G10H|  G10H1/0091|inventional|       2|\n",
      "|wdqqexk2781exxt0z...|  6121532|         G|          G10|    G10H|    G10H1/02|inventional|       3|\n",
      "|l3ti0nnva2l56or8y...|  6121532|         G|          G10|    G10H|  G10H1/0575|inventional|       4|\n",
      "|m7yrepwt46pmoj8su...|  6121532|         G|          G10|    G10H|    G10H1/20|inventional|       5|\n",
      "|00346vpqo7vtf12ok...|  6121532|         G|          G10|    G10H|    G10H1/28|inventional|       6|\n",
      "|nn0nxsiu5n7kctywv...|  6121532|         G|          G10|    G10H|    G10H1/40|inventional|       7|\n",
      "|d2m2vbf8uqwjiqdyr...|  6121532|         G|          G10|    G10H|G10H2210/066| additional|       8|\n",
      "|8ar3ucmsape3zmx22...|  6121532|         G|          G10|    G10H|G10H2210/111| additional|       9|\n",
      "|v2qri32wyl7jm3wdd...|  6121532|         G|          G10|    G10H|G10H2210/141| additional|      10|\n",
      "|u7hs5nfhofznp27fs...|  6121532|         G|          G10|    G10H|G10H2210/151| additional|      11|\n",
      "|wjdq7oaj4y28b25zv...|  6121532|         G|          G10|    G10H|G10H2210/185| additional|      12|\n",
      "|vyclx144j9ullwhy6...|  6121532|         G|          G10|    G10H|G10H2210/225| additional|      13|\n",
      "|itckrhrgm0t07hiob...|  6121532|         G|          G10|    G10H|G10H2210/305| additional|      14|\n",
      "|g10a52a93zt3hy14z...|  6121532|         G|          G10|    G10H|G10H2210/366| additional|      15|\n",
      "|1y8p6gulhjtdtu24i...|  6121532|         G|          G10|    G10H|G10H2230/305| additional|      16|\n",
      "|hu4h855mo71u2xg5g...|  6121532|         G|          G10|    G10H|G10H2230/331| additional|      17|\n",
      "|7gaty71dpfz0wj188...|  6121532|         G|          G10|    G10H|G10H2230/351| additional|      18|\n",
      "|3wwcnd3esnx9lwxyg...|  6121532|         G|          G10|    G10H|G10H2240/056| additional|      19|\n",
      "+--------------------+---------+----------+-------------+--------+------------+-----------+--------+\n",
      "only showing top 20 rows\n",
      "\n"
     ]
    }
   ],
   "source": [
    "df_cpc.filter(df_cpc.patent_id==6121532).sort(df_cpc.sequence.asc()).show()"
   ]
  },
  {
   "cell_type": "code",
   "execution_count": null,
   "metadata": {},
   "outputs": [],
   "source": []
  },
  {
   "cell_type": "code",
   "execution_count": 8,
   "metadata": {},
   "outputs": [
    {
     "name": "stdout",
     "output_type": "stream",
     "text": [
      "root\n",
      " |-- id: string (nullable = true)\n",
      " |-- title: string (nullable = true)\n",
      "\n",
      "line count: 671\n",
      "\n",
      "+----+--------------------+\n",
      "|  id|               title|\n",
      "+----+--------------------+\n",
      "|A01B|SOIL WORKING IN A...|\n",
      "|A01C|PLANTING; SOWING;...|\n",
      "|A01D| HARVESTING; MOWING |\n",
      "|A01F|PROCESSING OF HAR...|\n",
      "|A01G|HORTICULTURE; CUL...|\n",
      "|A01H|NEW PLANTS OR PRO...|\n",
      "|A01J|MANUFACTURE OF DA...|\n",
      "|A01K|ANIMAL HUSBANDRY;...|\n",
      "|A01L| SHOEING OF ANIMALS |\n",
      "|A01M|CATCHING, TRAPPIN...|\n",
      "|A01N|PRESERVATION OF B...|\n",
      "|A21B|BAKERS' OVENS; MA...|\n",
      "|A21C|MACHINES OR EQUIP...|\n",
      "|A21D|TREATMENT, e.g. P...|\n",
      "|A22B|        SLAUGHTERING|\n",
      "|A22C|PROCESSING MEAT, ...|\n",
      "|A23B|PRESERVING, e.g. ...|\n",
      "|A23C|DAIRY PRODUCTS, e...|\n",
      "|A23D|EDIBLE OILS OR FA...|\n",
      "|A23F|COFFEE; TEA; THEI...|\n",
      "+----+--------------------+\n",
      "only showing top 20 rows\n",
      "\n"
     ]
    }
   ],
   "source": [
    "df_cpc_group = spark.read.option(\"inferschema\", \"true\").csv('data/cpc_group.tsv',\n",
    "                    header=True,       # use headers or not\n",
    "                    quote='\"',         # char for quotes\n",
    "                    sep=\"\\t\")          # char for separation  \n",
    "\n",
    "# prints the schema\n",
    "df_cpc_group.printSchema()\n",
    "\n",
    "# some functions are still valid\n",
    "print(\"line count: {}\\n\".format(df_cpc_group.count()))\n",
    "\n",
    "# show the table in a oh-so-nice format\n",
    "df_cpc_group.show()"
   ]
  },
  {
   "cell_type": "code",
   "execution_count": 13,
   "metadata": {},
   "outputs": [
    {
     "name": "stdout",
     "output_type": "stream",
     "text": [
      "root\n",
      " |-- id: string (nullable = true)\n",
      " |-- title: string (nullable = true)\n",
      "\n",
      "line count: 259863\n",
      "\n",
      "+---------+--------------------+\n",
      "|       id|               title|\n",
      "+---------+--------------------+\n",
      "| A01B1/00|         Hand tools |\n",
      "| A01B1/02|Hand tools -Spade...|\n",
      "|A01B1/022|Hand tools -Spade...|\n",
      "|A01B1/024|Hand tools -Spade...|\n",
      "|A01B1/026|Hand tools -Spade...|\n",
      "|A01B1/028|Hand tools -Spade...|\n",
      "| A01B1/04|Hand tools -Spade...|\n",
      "| A01B1/06|Hand tools -Hoes;...|\n",
      "|A01B1/065|Hand tools -Hoes;...|\n",
      "| A01B1/08|Hand tools -Hoes;...|\n",
      "| A01B1/10|Hand tools -Hoes;...|\n",
      "| A01B1/12|Hand tools -Hoes;...|\n",
      "| A01B1/14|Hand tools -Hoes;...|\n",
      "| A01B1/16|Hand tools -Tools...|\n",
      "|A01B1/165|Hand tools -Tools...|\n",
      "| A01B1/18|Hand tools -Tools...|\n",
      "| A01B1/20|Hand tools -Combi...|\n",
      "| A01B1/22|Hand tools -Attac...|\n",
      "|A01B1/222|Hand tools -Attac...|\n",
      "|A01B1/225|Hand tools -Attac...|\n",
      "+---------+--------------------+\n",
      "only showing top 20 rows\n",
      "\n"
     ]
    }
   ],
   "source": [
    "df_cpc_subgroup = spark.read.option(\"inferschema\", \"true\").csv('data/cpc_subgroup.tsv',\n",
    "                    header=True,       # use headers or not\n",
    "                    quote='\"',         # char for quotes\n",
    "                    sep=\"\\t\")          # char for separation  \n",
    "\n",
    "# prints the schema\n",
    "df_cpc_subgroup.printSchema()\n",
    "\n",
    "# some functions are still valid\n",
    "print(\"line count: {}\\n\".format(df_cpc_subgroup.count()))\n",
    "\n",
    "# show the table in a oh-so-nice format\n",
    "df_cpc_subgroup.show()"
   ]
  },
  {
   "cell_type": "code",
   "execution_count": 14,
   "metadata": {},
   "outputs": [
    {
     "name": "stdout",
     "output_type": "stream",
     "text": [
      "root\n",
      " |-- id: string (nullable = true)\n",
      " |-- title: string (nullable = true)\n",
      "\n",
      "line count: 136\n",
      "\n",
      "+---+--------------------+\n",
      "| id|               title|\n",
      "+---+--------------------+\n",
      "|A01|AGRICULTURE; FORE...|\n",
      "|A21|BAKING; EDIBLE DO...|\n",
      "|A22|BUTCHERING; MEAT ...|\n",
      "|A23|FOODS OR FOODSTUF...|\n",
      "|A24|TOBACCO; CIGARS; ...|\n",
      "|A41|     WEARING APPAREL|\n",
      "|A42|            HEADWEAR|\n",
      "|A43|            FOOTWEAR|\n",
      "|A44|HABERDASHERY; JEW...|\n",
      "|A45|HAND OR TRAVELLIN...|\n",
      "|A46|           BRUSHWARE|\n",
      "|A47|FURNITURE; DOMEST...|\n",
      "|A61|MEDICAL OR VETERI...|\n",
      "|A62|LIFE-SAVING; FIRE...|\n",
      "|A63|SPORTS; GAMES; AM...|\n",
      "|A99|SUBJECT MATTER NO...|\n",
      "|B01|PHYSICAL OR CHEMI...|\n",
      "|B02|CRUSHING, PULVERI...|\n",
      "|B03|SEPARATION OF SOL...|\n",
      "|B04|CENTRIFUGAL APPAR...|\n",
      "+---+--------------------+\n",
      "only showing top 20 rows\n",
      "\n"
     ]
    }
   ],
   "source": [
    "df_cpc_subsection = spark.read.option(\"inferschema\", \"true\").csv('data/cpc_subsection.tsv',\n",
    "                    header=True,       # use headers or not\n",
    "                    quote='\"',         # char for quotes\n",
    "                    sep=\"\\t\")          # char for separation  \n",
    "\n",
    "# prints the schema\n",
    "df_cpc_subsection.printSchema()\n",
    "\n",
    "# some functions are still valid\n",
    "print(\"line count: {}\\n\".format(df_cpc_subsection.count()))\n",
    "\n",
    "# show the table in a oh-so-nice format\n",
    "df_cpc_subsection.show()"
   ]
  },
  {
   "cell_type": "code",
   "execution_count": 9,
   "metadata": {},
   "outputs": [
    {
     "ename": "NameError",
     "evalue": "name 'ddf' is not defined",
     "output_type": "error",
     "traceback": [
      "\u001b[0;31m---------------------------------------------------------------------------\u001b[0m",
      "\u001b[0;31mNameError\u001b[0m                                 Traceback (most recent call last)",
      "\u001b[0;32m<ipython-input-9-138775cf60b9>\u001b[0m in \u001b[0;36m<module>\u001b[0;34m\u001b[0m\n\u001b[0;32m----> 1\u001b[0;31m \u001b[0mddf\u001b[0m \u001b[0;34m=\u001b[0m \u001b[0mddf\u001b[0m\u001b[0;34m.\u001b[0m\u001b[0mjoin\u001b[0m\u001b[0;34m(\u001b[0m\u001b[0mdf_cpc_group\u001b[0m\u001b[0;34m.\u001b[0m\u001b[0mselectExpr\u001b[0m\u001b[0;34m(\u001b[0m\u001b[0;34m\"id\"\u001b[0m\u001b[0;34m,\u001b[0m \u001b[0;34m\"title as group_title\"\u001b[0m\u001b[0;34m)\u001b[0m\u001b[0;34m,\u001b[0m \u001b[0mddf\u001b[0m\u001b[0;34m.\u001b[0m\u001b[0mgroup_id\u001b[0m \u001b[0;34m==\u001b[0m \u001b[0mdf_cpc_group\u001b[0m\u001b[0;34m.\u001b[0m\u001b[0mid\u001b[0m\u001b[0;34m)\u001b[0m\u001b[0;34m.\u001b[0m\u001b[0mdrop\u001b[0m\u001b[0;34m(\u001b[0m\u001b[0;34m'id'\u001b[0m\u001b[0;34m)\u001b[0m\u001b[0;34m\u001b[0m\u001b[0;34m\u001b[0m\u001b[0m\n\u001b[0m",
      "\u001b[0;31mNameError\u001b[0m: name 'ddf' is not defined"
     ]
    }
   ],
   "source": [
    "ddf = ddf.join(df_cpc_group.selectExpr(\"id\", \"title as group_title\"), ddf.group_id == df_cpc_group.id).drop('id')"
   ]
  },
  {
   "cell_type": "code",
   "execution_count": 16,
   "metadata": {},
   "outputs": [],
   "source": [
    "ddf = ddf.join(df_cpc_subgroup.selectExpr(\"id\", \"title as subgroup_title\"), ddf.subgroup_id == df_cpc_subgroup.id).drop('id')"
   ]
  },
  {
   "cell_type": "code",
   "execution_count": 17,
   "metadata": {},
   "outputs": [],
   "source": [
    "ddf = ddf.join(df_cpc_subsection.selectExpr(\"id\", \"title as subsection_title\"), ddf.subsection_id == df_cpc_subsection.id).drop('id')"
   ]
  },
  {
   "cell_type": "code",
   "execution_count": 18,
   "metadata": {},
   "outputs": [
    {
     "name": "stdout",
     "output_type": "stream",
     "text": [
      "+-----------------------------------------------------------+----+----------+-----------+--------+---------------------------------------------------------------------------------------------+---------------------------------------------------------------------------------------------------------------------------------------------------------------------------------------------------------------------------------------------------------------------------------------------------------------------------------------------------------------------------------------------------------------------------------------------------------------------------------------------------------------------------------------------------------------------------------------------------------------------------------------------------------------------------------------------------------------------------------------------------------------------------------------------------------------------------------------------------------------------------------------------------------------------------------------------------------------------+-----------------------------------------+\n",
      "|title                                                      |kind|num_claims|category   |sequence|group_title                                                                                  |subgroup_title                                                                                                                                                                                                                                                                                                                                                                                                                                                                                                                                                                                                                                                                                                                                                                                                                                                                                                                                                       |subsection_title                         |\n",
      "+-----------------------------------------------------------+----+----------+-----------+--------+---------------------------------------------------------------------------------------------+---------------------------------------------------------------------------------------------------------------------------------------------------------------------------------------------------------------------------------------------------------------------------------------------------------------------------------------------------------------------------------------------------------------------------------------------------------------------------------------------------------------------------------------------------------------------------------------------------------------------------------------------------------------------------------------------------------------------------------------------------------------------------------------------------------------------------------------------------------------------------------------------------------------------------------------------------------------------+-----------------------------------------+\n",
      "|Method and apparatus for creating a melodic repeated effect|A   |101       |inventional|0       |ELECTROPHONIC MUSICAL INSTRUMENTS                                                            |Details of electrophonic musical instruments -Associated control or indicating means -Automatic or semi-automatic music composition, e.g. producing random music, applying rules from music theory or modifying a musical piece                                                                                                                                                                                                                                                                                                                                                                                                                                                                                                                                                                                                                                                                                                                                      |MUSICAL INSTRUMENTS; ACOUSTICS           |\n",
      "|Method and apparatus for creating a melodic repeated effect|A   |101       |inventional|1       |ELECTROPHONIC MUSICAL INSTRUMENTS                                                            |Details of electrophonic musical instruments                                                                                                                                                                                                                                                                                                                                                                                                                                                                                                                                                                                                                                                                                                                                                                                                                                                                                                                         |MUSICAL INSTRUMENTS; ACOUSTICS           |\n",
      "|Method and apparatus for creating a melodic repeated effect|A   |101       |inventional|2       |ELECTROPHONIC MUSICAL INSTRUMENTS                                                            |Details of electrophonic musical instruments -Means for obtaining special acoustic effects                                                                                                                                                                                                                                                                                                                                                                                                                                                                                                                                                                                                                                                                                                                                                                                                                                                                           |MUSICAL INSTRUMENTS; ACOUSTICS           |\n",
      "|Method and apparatus for creating a melodic repeated effect|A   |101       |inventional|3       |ELECTROPHONIC MUSICAL INSTRUMENTS                                                            |Details of electrophonic musical instruments -Means for controlling the tone frequencies, e.g. attack, decay; Means for producing special musical effects, e.g. vibrato, glissando                                                                                                                                                                                                                                                                                                                                                                                                                                                                                                                                                                                                                                                                                                                                                                                   |MUSICAL INSTRUMENTS; ACOUSTICS           |\n",
      "|Method and apparatus for creating a melodic repeated effect|A   |101       |inventional|4       |ELECTROPHONIC MUSICAL INSTRUMENTS                                                            |Details of electrophonic musical instruments -Means for controlling the tone frequencies, e.g. attack, decay; Means for producing special musical effects, e.g. vibrato, glissando -by additional modulation-during execution only -by envelope-forming circuits-using a data store from which the envelope is synthesized                                                                                                                                                                                                                                                                                                                                                                                                                                                                                                                                                                                                                                           |MUSICAL INSTRUMENTS; ACOUSTICS           |\n",
      "|Method and apparatus for creating a melodic repeated effect|A   |101       |inventional|5       |ELECTROPHONIC MUSICAL INSTRUMENTS                                                            |Details of electrophonic musical instruments -Selecting circuits-for transposition                                                                                                                                                                                                                                                                                                                                                                                                                                                                                                                                                                                                                                                                                                                                                                                                                                                                                   |MUSICAL INSTRUMENTS; ACOUSTICS           |\n",
      "|Method and apparatus for creating a melodic repeated effect|A   |101       |inventional|6       |ELECTROPHONIC MUSICAL INSTRUMENTS                                                            |Details of electrophonic musical instruments -Selecting circuits-for automatically producing a series of tones -to produce arpeggios                                                                                                                                                                                                                                                                                                                                                                                                                                                                                                                                                                                                                                                                                                                                                                                                                                 |MUSICAL INSTRUMENTS; ACOUSTICS           |\n",
      "|Method and apparatus for creating a melodic repeated effect|A   |101       |inventional|7       |ELECTROPHONIC MUSICAL INSTRUMENTS                                                            |Details of electrophonic musical instruments -Accompaniment arrangements-Rhythm                                                                                                                                                                                                                                                                                                                                                                                                                                                                                                                                                                                                                                                                                                                                                                                                                                                                                      |MUSICAL INSTRUMENTS; ACOUSTICS           |\n",
      "|Method and apparatus for creating a melodic repeated effect|A   |101       |additional |8       |ELECTROPHONIC MUSICAL INSTRUMENTS                                                            |Aspects or methods of musical processing having intrinsic musical character, i.e. involving musical theory or musical parameters or relying on musical knowledge, as applied in electrophonic musical tools or instruments -Musical analysis, i.e. isolation, extraction or identification of musical elements or musical parameters from a raw acoustic signal or from an encoded audio signal -for pitch analysis as part of wider processing for musical purposes, e.g. transcription, musical performance evaluation; Pitch recognition, e.g. in polyphonic sounds; Estimation or use of missing fundamental                                                                                                                                                                                                                                                                                                                                                     |MUSICAL INSTRUMENTS; ACOUSTICS           |\n",
      "|Method and apparatus for creating a melodic repeated effect|A   |101       |additional |9       |ELECTROPHONIC MUSICAL INSTRUMENTS                                                            |Aspects or methods of musical processing having intrinsic musical character, i.e. involving musical theory or musical parameters or relying on musical knowledge, as applied in electrophonic musical tools or instruments -Music Composition or musical creation; Tools or processes therefor-Automatic composing, i.e. using predefined musical rules                                                                                                                                                                                                                                                                                                                                                                                                                                                                                                                                                                                                              |MUSICAL INSTRUMENTS; ACOUSTICS           |\n",
      "|Method and apparatus for creating a melodic repeated effect|A   |101       |additional |10      |ELECTROPHONIC MUSICAL INSTRUMENTS                                                            |Aspects or methods of musical processing having intrinsic musical character, i.e. involving musical theory or musical parameters or relying on musical knowledge, as applied in electrophonic musical tools or instruments -Music Composition or musical creation; Tools or processes therefor-Riff, i.e. improvisation, e.g. repeated motif or phrase, automatically added to a piece, e.g. in real time                                                                                                                                                                                                                                                                                                                                                                                                                                                                                                                                                            |MUSICAL INSTRUMENTS; ACOUSTICS           |\n",
      "|Method and apparatus for creating a melodic repeated effect|A   |101       |additional |11      |ELECTROPHONIC MUSICAL INSTRUMENTS                                                            |Aspects or methods of musical processing having intrinsic musical character, i.e. involving musical theory or musical parameters or relying on musical knowledge, as applied in electrophonic musical tools or instruments -Music Composition or musical creation; Tools or processes therefor-using templates, i.e. incomplete musical sections, as a basis for composing                                                                                                                                                                                                                                                                                                                                                                                                                                                                                                                                                                                           |MUSICAL INSTRUMENTS; ACOUSTICS           |\n",
      "|Method and apparatus for creating a melodic repeated effect|A   |101       |additional |12      |ELECTROPHONIC MUSICAL INSTRUMENTS                                                            |Aspects or methods of musical processing having intrinsic musical character, i.e. involving musical theory or musical parameters or relying on musical knowledge, as applied in electrophonic musical tools or instruments -Musical effects-Note sequence effects, i.e. sensing, altering, controlling, processing or synthesising a note trigger selection or sequence, e.g. by altering trigger timing, triggered note values, adding improvisation or ornaments, also rapid repetition of the same note onset, e.g. on a piano, guitar, e.g. rasgueado, drum roll -Arpeggio, i.e. notes played or sung in rapid sequence, one after the other, rather than ringing out simultaneously, e.g. as a chord; Generators therefor, i.e. arpeggiators; Discrete glissando effects on instruments not permitting continuous glissando, e.g. xylophone or piano, with stepwise pitch variation and on which distinct onsets due to successive note triggerings can be heard|MUSICAL INSTRUMENTS; ACOUSTICS           |\n",
      "|Method and apparatus for creating a melodic repeated effect|A   |101       |additional |13      |ELECTROPHONIC MUSICAL INSTRUMENTS                                                            |Aspects or methods of musical processing having intrinsic musical character, i.e. involving musical theory or musical parameters or relying on musical knowledge, as applied in electrophonic musical tools or instruments -Musical effects-Modulation effects, i.e. smooth non-discontinuous variations over a time interval, e.g. within a note, melody or musical transition, of any sound parameter, e.g. amplitude, pitch, spectral response, playback speed -Glissando, i.e. pitch smoothly sliding from one note to another, e.g. gliss, glide, slide, bend, smear, sweep; -Portamento, i.e. smooth continuously variable pitch-bend, without emphasis of each chromatic pitch during the pitch change, which only stops at the end of the pitch shift, as obtained, e.g. by a MIDI pitch wheel or trombone                                                                                                                                                   |MUSICAL INSTRUMENTS; ACOUSTICS           |\n",
      "|Method and apparatus for creating a melodic repeated effect|A   |101       |additional |14      |ELECTROPHONIC MUSICAL INSTRUMENTS                                                            |Aspects or methods of musical processing having intrinsic musical character, i.e. involving musical theory or musical parameters or relying on musical knowledge, as applied in electrophonic musical tools or instruments -Musical effects-Acoustic effect simulation, i.e. volume, spatial, resonance or reverberation effects added to a musical sound, usually by appropriate filtering or delays -Spatial effects, musical uses of multiple audio channels, e.g. stereo -Source positioning in a soundscape, e.g. instrument positioning on a virtual soundstage, stereo panning or related delay or reverberation changes; Changing the stereo width of a musical source                                                                                                                                                                                                                                                                                       |MUSICAL INSTRUMENTS; ACOUSTICS           |\n",
      "|Method and apparatus for creating a melodic repeated effect|A   |101       |additional |15      |ELECTROPHONIC MUSICAL INSTRUMENTS                                                            |Aspects or methods of musical processing having intrinsic musical character, i.e. involving musical theory or musical parameters or relying on musical knowledge, as applied in electrophonic musical tools or instruments -Rhythm pattern selection, synthesis or composition -Random process affecting a selection among a set of pre-established patterns                                                                                                                                                                                                                                                                                                                                                                                                                                                                                                                                                                                                         |MUSICAL INSTRUMENTS; ACOUSTICS           |\n",
      "|Method and apparatus for creating a melodic repeated effect|A   |101       |additional |16      |ELECTROPHONIC MUSICAL INSTRUMENTS                                                            |General physical, ergonomic or hardware implementation of electrophonic musical tools or instruments, e.g. shape or architecture-Special instrument [spint], i.e. mimicking the ergonomy, shape, sound or other characteristic of a specific acoustic musical instrument category-Spint percussion, i.e. mimicking percussion instruments; Electrophonic musical instruments with percussion instrument features; Electrophonic aspects of acoustic percussion instruments, MIDI-like control therefor -Spint drum-Spint drum snare, i.e. mimicking using strands of snares made of curled metal wire, metal cable, plastic cable, or gut cords stretched across the drumhead, e.g. snare drum, side drum, military drum, field drum                                                                                                                                                                                                                                 |MUSICAL INSTRUMENTS; ACOUSTICS           |\n",
      "|Method and apparatus for creating a melodic repeated effect|A   |101       |additional |17      |ELECTROPHONIC MUSICAL INSTRUMENTS                                                            |General physical, ergonomic or hardware implementation of electrophonic musical tools or instruments, e.g. shape or architecture-Special instrument [spint], i.e. mimicking the ergonomy, shape, sound or other characteristic of a specific acoustic musical instrument category-Spint percussion, i.e. mimicking percussion instruments; Electrophonic musical instruments with percussion instrument features; Electrophonic aspects of acoustic percussion instruments, MIDI-like control therefor -Spint cymbal, i.e. mimicking thin center-held gong-like instruments made of copper-based alloys, e.g. ride cymbal, china cymbal, sizzle cymbal, swish cymbal, zill, i.e. finger cymbals-Spint cymbal hihat, e.g. mimicking high-hat cymbal; Details of the pedal interface, of the pedal action emulation or of the generation of the different sounds resulting from this pedal action                                                                      |MUSICAL INSTRUMENTS; ACOUSTICS           |\n",
      "|Method and apparatus for creating a melodic repeated effect|A   |101       |additional |18      |ELECTROPHONIC MUSICAL INSTRUMENTS                                                            |General physical, ergonomic or hardware implementation of electrophonic musical tools or instruments, e.g. shape or architecture-Special instrument [spint], i.e. mimicking the ergonomy, shape, sound or other characteristic of a specific acoustic musical instrument category-Spint percussion, i.e. mimicking percussion instruments; Electrophonic musical instruments with percussion instrument features; Electrophonic aspects of acoustic percussion instruments, MIDI-like control therefor -Spint bell, i.e. mimicking bells, e.g. cow-bells                                                                                                                                                                                                                                                                                                                                                                                                             |MUSICAL INSTRUMENTS; ACOUSTICS           |\n",
      "|Method and apparatus for creating a melodic repeated effect|A   |101       |additional |19      |ELECTROPHONIC MUSICAL INSTRUMENTS                                                            |Data organisation or data communication aspects, specifically adapted for electrophonic musical tools or instruments-Files or data streams containing coded musical information, e.g. for transmission -File format, i.e. specific or non-standard musical file format used in or adapted for electrophonic musical instruments, e.g. in wavetables -MIDI or other note-oriented file format                                                                                                                                                                                                                                                                                                                                                                                                                                                                                                                                                                         |MUSICAL INSTRUMENTS; ACOUSTICS           |\n",
      "|Method and apparatus for creating a melodic repeated effect|A   |101       |additional |20      |ELECTROPHONIC MUSICAL INSTRUMENTS                                                            |Aspects of algorithms or signal processing methods without intrinsic musical character, yet specifically adapted for or used in electrophonic musical processing -Mathematical functions for musical analysis, processing, synthesis or composition -Random number generators, pseudorandom generators, classes of functions therefor                                                                                                                                                                                                                                                                                                                                                                                                                                                                                                                                                                                                                                |MUSICAL INSTRUMENTS; ACOUSTICS           |\n",
      "|Method and apparatus for creating a melodic repeated effect|A   |101       |additional |21      |TECHNICAL SUBJECTS COVERED BY FORMER USPC CROSS-REFERENCE ART COLLECTIONS [XRACs] AND DIGESTS|Music-Side; rhythm and percussion devices                                                                                                                                                                                                                                                                                                                                                                                                                                                                                                                                                                                                                                                                                                                                                                                                                                                                                                                            |TECHNICAL SUBJECTS COVERED BY FORMER USPC|\n",
      "+-----------------------------------------------------------+----+----------+-----------+--------+---------------------------------------------------------------------------------------------+---------------------------------------------------------------------------------------------------------------------------------------------------------------------------------------------------------------------------------------------------------------------------------------------------------------------------------------------------------------------------------------------------------------------------------------------------------------------------------------------------------------------------------------------------------------------------------------------------------------------------------------------------------------------------------------------------------------------------------------------------------------------------------------------------------------------------------------------------------------------------------------------------------------------------------------------------------------------+-----------------------------------------+\n",
      "\n"
     ]
    }
   ],
   "source": [
    "ddf.filter(ddf.patent_id==6121532).sort(ddf.sequence.asc()).select([\"title\",\"kind\",\"num_claims\",\"category\",\"sequence\",\"group_title\",\"subgroup_title\",\"subsection_title\"]).show(99,False)"
   ]
  },
  {
   "cell_type": "code",
   "execution_count": null,
   "metadata": {},
   "outputs": [],
   "source": []
  },
  {
   "cell_type": "code",
   "execution_count": 14,
   "metadata": {},
   "outputs": [
    {
     "data": {
      "text/plain": [
       "['type',\n",
       " 'date',\n",
       " 'abstract',\n",
       " 'title',\n",
       " 'kind',\n",
       " 'num_claims',\n",
       " 'withdrawn',\n",
       " 'uuid',\n",
       " 'patent_id',\n",
       " 'section_id',\n",
       " 'subsection_id',\n",
       " 'group_id',\n",
       " 'subgroup_id',\n",
       " 'category',\n",
       " 'sequence']"
      ]
     },
     "execution_count": 14,
     "metadata": {},
     "output_type": "execute_result"
    }
   ],
   "source": [
    "ddf.columns"
   ]
  },
  {
   "cell_type": "code",
   "execution_count": 20,
   "metadata": {},
   "outputs": [
    {
     "name": "stdout",
     "output_type": "stream",
     "text": [
      "root\n",
      " |-- app_id: integer (nullable = true)\n",
      " |-- ifw_number: string (nullable = true)\n",
      " |-- document_cd: string (nullable = true)\n",
      " |-- mail_dt: timestamp (nullable = true)\n",
      " |-- art_unit: string (nullable = true)\n",
      " |-- uspc_class: string (nullable = true)\n",
      " |-- uspc_subclass: string (nullable = true)\n",
      " |-- header_missing: integer (nullable = true)\n",
      " |-- fp_missing: integer (nullable = true)\n",
      " |-- rejection_fp_mismatch: integer (nullable = true)\n",
      " |-- closing_missing: integer (nullable = true)\n",
      " |-- rejection_101: integer (nullable = true)\n",
      " |-- rejection_102: integer (nullable = true)\n",
      " |-- rejection_103: integer (nullable = true)\n",
      " |-- rejection_112: integer (nullable = true)\n",
      " |-- rejection_dp: integer (nullable = true)\n",
      " |-- objection: integer (nullable = true)\n",
      " |-- allowed_claims: integer (nullable = true)\n",
      " |-- cite102_gt1: integer (nullable = true)\n",
      " |-- cite103_gt3: integer (nullable = true)\n",
      " |-- cite103_eq1: integer (nullable = true)\n",
      " |-- cite103_max: integer (nullable = true)\n",
      " |-- signature_type: integer (nullable = true)\n",
      "\n",
      "line count: 4384532\n",
      "\n",
      "+--------+----------+-----------+-------------------+--------+----------+-------------+--------------+----------+---------------------+---------------+-------------+-------------+-------------+-------------+------------+---------+--------------+-----------+-----------+-----------+-----------+--------------+\n",
      "|  app_id|ifw_number|document_cd|            mail_dt|art_unit|uspc_class|uspc_subclass|header_missing|fp_missing|rejection_fp_mismatch|closing_missing|rejection_101|rejection_102|rejection_103|rejection_112|rejection_dp|objection|allowed_claims|cite102_gt1|cite103_gt3|cite103_eq1|cite103_max|signature_type|\n",
      "+--------+----------+-----------+-------------------+--------+----------+-------------+--------------+----------+---------------------+---------------+-------------+-------------+-------------+-------------+------------+---------+--------------+-----------+-----------+-----------+-----------+--------------+\n",
      "|14150981| 100867762|       CTFR|2015-10-15 00:00:00|    2632|       375|       219000|             0|         0|                    0|              0|            0|            0|            1|            0|           0|        0|             0|          0|          0|          1|          2|             1|\n",
      "|14198961| 100867788|       CTFR|2015-10-15 00:00:00|    2699|       345|       173000|             0|         0|                    0|              0|            0|            1|            1|            0|           0|        0|             0|          0|          0|          0|          2|             1|\n",
      "|13796589| 100867794|       CTNF|2015-10-15 00:00:00|    3776|       606|       159000|             0|         0|                    0|              0|            0|            0|            1|            0|           0|        0|             0|          0|          0|          0|          3|             3|\n",
      "|14673475| 100867844|       CTNF|2015-10-15 00:00:00|    2627|       345|       175000|             0|         0|                    0|              0|            0|            1|            1|            1|           1|        0|             0|          0|          1|          0|          4|             1|\n",
      "|14669113| 100867850|       CTNF|2015-10-15 00:00:00|    2666|       382|       118000|             0|         0|                    0|              0|            1|            0|            0|            1|           1|        0|             0|          0|          0|          0|          0|             1|\n",
      "|14209884| 100867853|       CTFR|2015-10-15 00:00:00|    2676|       358|       001140|             0|         0|                    0|              0|            0|            0|            1|            0|           0|        1|             1|          0|          0|          0|          3|             3|\n",
      "|14109101| 100867858|       CTFR|2015-10-15 00:00:00|    2657|       704|       243000|             0|         0|                    0|              0|            0|            0|            1|            0|           0|        0|             0|          0|          0|          0|          3|             3|\n",
      "|13245100| 100867884|       CTNF|2015-10-15 00:00:00|    1789|       442|       181000|             1|         0|                    0|              0|            0|            0|            1|            1|           0|        0|             0|          0|          0|          0|          2|             1|\n",
      "|13152349| 100867886|       CTFR|2015-10-13 00:00:00|    2443|       709|       226000|             0|         0|                    0|              0|            0|            0|            1|            0|           0|        0|             0|          0|          0|          0|          3|             2|\n",
      "|13841526| 100867893|       CTFR|2015-10-15 00:00:00|    1736|       502|       400000|             0|         1|                    0|              0|            0|            0|            1|            0|           0|        0|             0|          0|          0|          0|          2|             1|\n",
      "|14391270| 100867897|       CTNF|2015-10-15 00:00:00|    2649|       455|       500000|             0|         0|                    0|              0|            0|            0|            1|            1|           0|        1|             0|          0|          0|          0|          3|             1|\n",
      "|13942041| 100867902|       CTFR|2015-10-15 00:00:00|    1774|       366|       130000|             0|         0|                    0|              0|            0|            1|            1|            1|           0|        0|             0|          0|          0|          0|          2|             2|\n",
      "|14374927| 100867903|       CTNF|2015-10-15 00:00:00|    2838|       323|       285000|             1|         0|                    0|              0|            0|            0|            1|            0|           0|        0|             0|          0|          0|          0|          2|             1|\n",
      "|13570511| 100867908|       CTFR|2015-10-15 00:00:00|    1711|       134|       178000|             0|         0|                    0|              0|            0|            1|            1|            1|           0|        1|             0|          1|          1|          1|          4|             1|\n",
      "|14521411| 100867910|       CTNF|2015-10-15 00:00:00|    2648|       455|       095000|             0|         0|                    0|              0|            0|            1|            1|            0|           0|        0|             0|          0|          0|          0|          3|             3|\n",
      "|14578149| 100867921|       CTNF|2015-10-15 00:00:00|    3992|       715|       727000|             0|         0|                    0|              0|            0|            0|            0|            1|           0|        0|             0|          0|          0|          0|          0|             0|\n",
      "|13679514| 100867922|       CTNF|2015-10-13 00:00:00|    2653|       348|       014030|             0|         0|                    0|              0|            0|            0|            1|            1|           0|        0|             0|          0|          1|          0|          6|             1|\n",
      "|13710935| 100867953|       CTFR|2015-10-15 00:00:00|    3726|       029|       450000|             0|         0|                    0|              0|            0|            0|            1|            0|           0|        1|             0|          0|          0|          0|          3|             1|\n",
      "|14476684| 100867958|       CTNF|2015-10-15 00:00:00|    2668|       382|       141000|             0|         0|                    0|              0|            0|            0|            1|            0|           0|        1|             0|          0|          1|          0|          4|             2|\n",
      "|14114389| 100867963|       CTNF|2015-10-15 00:00:00|    1759|       422|       186030|             1|         0|                    0|              0|            0|            0|            1|            0|           0|        1|             0|          0|          0|          1|          1|             1|\n",
      "+--------+----------+-----------+-------------------+--------+----------+-------------+--------------+----------+---------------------+---------------+-------------+-------------+-------------+-------------+------------+---------+--------------+-----------+-----------+-----------+-----------+--------------+\n",
      "only showing top 20 rows\n",
      "\n"
     ]
    }
   ],
   "source": [
    "df_actions = spark.read.option(\"inferschema\", \"true\").csv('data/office_actions.csv',\n",
    "                    header=True,       # use headers or not\n",
    "                    quote='\"',         # char for quotes\n",
    "                    sep=\",\")          # char for separation  \n",
    "\n",
    "# prints the schema\n",
    "df_actions.printSchema()\n",
    "\n",
    "# some functions are still valid\n",
    "print(\"line count: {}\\n\".format(df_actions.count()))\n",
    "\n",
    "# show the table in a oh-so-nice format\n",
    "df_actions.show()"
   ]
  },
  {
   "cell_type": "code",
   "execution_count": 25,
   "metadata": {},
   "outputs": [],
   "source": [
    "df_patents_with_actions = df.join(df_actions, df.id == df_actions.app_id).drop('id')"
   ]
  },
  {
   "cell_type": "code",
   "execution_count": 27,
   "metadata": {},
   "outputs": [
    {
     "name": "stdout",
     "output_type": "stream",
     "text": [
      "+--------+-------+--------+-------+-------------------+--------------------+--------------------+----+----------+-------------+---------+\n",
      "|      id|   type|  number|country|               date|            abstract|               title|kind|num_claims|     filename|withdrawn|\n",
      "+--------+-------+--------+-------+-------------------+--------------------+--------------------+----+----------+-------------+---------+\n",
      "|10000000|utility|10000000|     US|2018-06-19 00:00:00|A frequency modul...|Coherent LADAR us...|  B2|        20|ipg180619.xml|     NULL|\n",
      "|10000001|utility|10000001|     US|2018-06-19 00:00:00|The injection mol...|Injection molding...|  B2|        12|ipg180619.xml|     NULL|\n",
      "|10000002|utility|10000002|     US|2018-06-19 00:00:00|The present inven...|Method for manufa...|  B2|         9|ipg180619.xml|     NULL|\n",
      "|10000003|utility|10000003|     US|2018-06-19 00:00:00|The invention rel...|Method for produc...|  B2|        18|ipg180619.xml|     NULL|\n",
      "|10000004|utility|10000004|     US|2018-06-19 00:00:00|The present inven...|Process of obtain...|  B2|         6|ipg180619.xml|     NULL|\n",
      "|10000005|utility|10000005|     US|2018-06-19 00:00:00|A vacuum forming ...|Article vacuum fo...|  B2|         4|ipg180619.xml|     NULL|\n",
      "|10000006|utility|10000006|     US|2018-06-19 00:00:00|A thermoforming m...|Thermoforming mol...|  B2|         8|ipg180619.xml|     NULL|\n",
      "|10000007|utility|10000007|     US|2018-06-19 00:00:00|An expanding tool...|  PEX expanding tool|  B2|        24|ipg180619.xml|     NULL|\n",
      "|10000008|utility|10000008|     US|2018-06-19 00:00:00|A decorated strip...|Bracelet mold and...|  B2|        11|ipg180619.xml|     NULL|\n",
      "|10000009|utility|10000009|     US|2018-06-19 00:00:00|In sterile, addit...|Sterile environme...|  B2|        21|ipg180619.xml|     NULL|\n",
      "|10000010|utility|10000010|     US|2018-06-19 00:00:00|3-D printing syst...|3-D electrostatic...|  B2|        20|ipg180619.xml|     NULL|\n",
      "|10000011|utility|10000011|     US|2018-06-19 00:00:00|To reduce distort...|Supports for sint...|  B1|        30|ipg180619.xml|     NULL|\n",
      "|10000014|utility|10000014|     US|2018-06-19 00:00:00|The present inven...|Method for produc...|  B2|        21|ipg180619.xml|     NULL|\n",
      "|10000015|utility|10000015|     US|2018-06-19 00:00:00|A hermetically se...|Methods for makin...|  B2|         6|ipg180619.xml|     NULL|\n",
      "|10000016|utility|10000016|     US|2018-06-19 00:00:00|A film edge seali...|Film edge sealing...|  B2|        22|ipg180619.xml|     NULL|\n",
      "|10000017|utility|10000017|     US|2018-06-19 00:00:00|The invention rel...|Method for mounti...|  B2|        21|ipg180619.xml|     NULL|\n",
      "|10000018|utility|10000018|     US|2018-06-19 00:00:00|A stretch release...|Pull tab design f...|  B2|        13|ipg180619.xml|     NULL|\n",
      "|10000019|utility|10000019|     US|2018-06-19 00:00:00|An installation a...|Installation asse...|  B2|        11|ipg180619.xml|     NULL|\n",
      "|10000020|utility|10000020|     US|2018-06-19 00:00:00|A three-dimension...|Method and device...|  B2|         7|ipg180619.xml|     NULL|\n",
      "|10000021|utility|10000021|     US|2018-06-19 00:00:00|There is provided...|Method for manufa...|  B2|         4|ipg180619.xml|     NULL|\n",
      "+--------+-------+--------+-------+-------------------+--------------------+--------------------+----+----------+-------------+---------+\n",
      "only showing top 20 rows\n",
      "\n"
     ]
    }
   ],
   "source": [
    "df.show(20)"
   ]
  },
  {
   "cell_type": "code",
   "execution_count": 32,
   "metadata": {},
   "outputs": [
    {
     "name": "stdout",
     "output_type": "stream",
     "text": [
      "+--------------------+-------+\n",
      "|                type|  count|\n",
      "+--------------------+-------+\n",
      "|defensive publica...|    509|\n",
      "|             utility|6476514|\n",
      "|               plant|  26892|\n",
      "|             reissue|  18799|\n",
      "|statutory inventi...|   2258|\n",
      "|                TVPP|      3|\n",
      "|              design| 619450|\n",
      "+--------------------+-------+\n",
      "\n"
     ]
    }
   ],
   "source": [
    "df.groupby('type').count().show()"
   ]
  },
  {
   "cell_type": "code",
   "execution_count": 33,
   "metadata": {},
   "outputs": [
    {
     "name": "stdout",
     "output_type": "stream",
     "text": [
      "+--------+------+\n",
      "|group_id| count|\n",
      "+--------+------+\n",
      "|    D06M| 25983|\n",
      "|    C05C|  2511|\n",
      "|    C12H|   905|\n",
      "|    A01B| 11305|\n",
      "|    B60T| 60771|\n",
      "|    B63B| 36225|\n",
      "|    C23C|140387|\n",
      "|    D06G|   113|\n",
      "|    A63K|   237|\n",
      "|    B60Y| 12721|\n",
      "|    E06B| 40053|\n",
      "|    E03C|  9036|\n",
      "|    B27H|   106|\n",
      "|    A24F|  4581|\n",
      "|    A21C|  4541|\n",
      "|    G21G|  1197|\n",
      "|    A46B| 21483|\n",
      "|    B03C| 13000|\n",
      "|    C10M|206384|\n",
      "|    F41C|  5928|\n",
      "+--------+------+\n",
      "only showing top 20 rows\n",
      "\n"
     ]
    }
   ],
   "source": [
    "ddf.groupby('group_id').count().show()"
   ]
  },
  {
   "cell_type": "code",
   "execution_count": 34,
   "metadata": {},
   "outputs": [
    {
     "name": "stdout",
     "output_type": "stream",
     "text": [
      "+-------------------+--------+-----+\n",
      "|               date|group_id|count|\n",
      "+-------------------+--------+-----+\n",
      "|2012-07-31 00:00:00|    A01F|    9|\n",
      "|2005-08-30 00:00:00|    A01K|   21|\n",
      "|2005-01-11 00:00:00|    A01M|   11|\n",
      "|2018-06-26 00:00:00|    A22B|    2|\n",
      "|1999-05-25 00:00:00|    A23P|    1|\n",
      "|2015-10-27 00:00:00|    A43B|   43|\n",
      "|1986-05-13 00:00:00|    A44B|    7|\n",
      "|2013-10-15 00:00:00|    A44D|    1|\n",
      "|2009-01-06 00:00:00|    A47D|    5|\n",
      "|1993-08-03 00:00:00|    A47F|    9|\n",
      "|2000-06-27 00:00:00|    A47J|   33|\n",
      "|1977-02-08 00:00:00|    A47L|   13|\n",
      "|2000-03-21 00:00:00|    A61H|   35|\n",
      "|2018-10-09 00:00:00|    A61H|  155|\n",
      "|2001-02-27 00:00:00|    A61H|   19|\n",
      "|2005-09-06 00:00:00|    A61H|   66|\n",
      "|2013-12-31 00:00:00|    A61K| 1312|\n",
      "|2017-12-26 00:00:00|    A61K| 1579|\n",
      "|2001-06-12 00:00:00|    A61L|   91|\n",
      "|2015-02-17 00:00:00|    A63F|  157|\n",
      "+-------------------+--------+-----+\n",
      "only showing top 20 rows\n",
      "\n"
     ]
    }
   ],
   "source": [
    "ddf.groupby(['date','group_id']).count().show()"
   ]
  },
  {
   "cell_type": "code",
   "execution_count": 36,
   "metadata": {},
   "outputs": [
    {
     "name": "stdout",
     "output_type": "stream",
     "text": [
      "+-------------------+--------+-----+\n",
      "|               date|group_id|count|\n",
      "+-------------------+--------+-----+\n",
      "|2019-09-24 00:00:00|    H05G|    7|\n",
      "|2019-09-24 00:00:00|    G02F|  185|\n",
      "|2019-09-24 00:00:00|    F02B|   43|\n",
      "|2019-09-24 00:00:00|    F28F|   63|\n",
      "|2019-09-24 00:00:00|    E05D|   32|\n",
      "|2019-09-24 00:00:00|    B07B|    4|\n",
      "|2019-09-24 00:00:00|    H02G|   33|\n",
      "|2019-09-24 00:00:00|    B01F|   55|\n",
      "|2019-09-24 00:00:00|    B21B|    9|\n",
      "|2019-09-24 00:00:00|    E06C|    7|\n",
      "|2019-09-24 00:00:00|    A61Q|   23|\n",
      "|2019-09-24 00:00:00|    B61L|   16|\n",
      "|2019-09-24 00:00:00|    F25J|    9|\n",
      "|2019-09-24 00:00:00|    F16K|   70|\n",
      "|2019-09-24 00:00:00|    B22C|   10|\n",
      "|2019-09-24 00:00:00|    H04W| 1425|\n",
      "|2019-09-24 00:00:00|    B81C|   11|\n",
      "|2019-09-24 00:00:00|    H01C|    4|\n",
      "|2019-09-24 00:00:00|    F42C|    2|\n",
      "|2019-09-24 00:00:00|    B27G|    1|\n",
      "|2019-09-24 00:00:00|    C12Q|  212|\n",
      "|2019-09-24 00:00:00|    F24S|   14|\n",
      "|2019-09-24 00:00:00|    A47F|   20|\n",
      "|2019-09-24 00:00:00|    F05D|  223|\n",
      "|2019-09-24 00:00:00|    C01G|   12|\n",
      "|2019-09-24 00:00:00|    G06N|  119|\n",
      "|2019-09-24 00:00:00|    H04S|   55|\n",
      "|2019-09-24 00:00:00|    A63C|   16|\n",
      "|2019-09-24 00:00:00|    A01B|   16|\n",
      "|2019-09-24 00:00:00|    B41C|    1|\n",
      "|2019-09-24 00:00:00|    E01F|   15|\n",
      "|2019-09-24 00:00:00|    C30B|   14|\n",
      "|2019-09-24 00:00:00|    H04N| 1407|\n",
      "|2019-09-24 00:00:00|    G01V|  154|\n",
      "|2019-09-24 00:00:00|    B29D|   40|\n",
      "|2019-09-24 00:00:00|    H01B|   39|\n",
      "|2019-09-24 00:00:00|    C22F|    5|\n",
      "|2019-09-24 00:00:00|    F15D|    4|\n",
      "|2019-09-24 00:00:00|    A63F|  120|\n",
      "|2019-09-24 00:00:00|    G01B|  121|\n",
      "|2019-09-24 00:00:00|    B01L|   92|\n",
      "|2019-09-24 00:00:00|    F25C|    4|\n",
      "|2019-09-24 00:00:00|    H02P|   65|\n",
      "|2019-09-24 00:00:00|    B41J|  228|\n",
      "|2019-09-24 00:00:00|    C09B|    7|\n",
      "|2019-09-24 00:00:00|    G10C|    4|\n",
      "|2019-09-24 00:00:00|    E02B|   10|\n",
      "|2019-09-24 00:00:00|    G21F|    1|\n",
      "|2019-09-24 00:00:00|    F03G|    2|\n",
      "|2019-09-24 00:00:00|    G21G|    1|\n",
      "|2019-09-24 00:00:00|    B44D|    3|\n",
      "|2019-09-24 00:00:00|    G08B|  133|\n",
      "|2019-09-24 00:00:00|    G10K|   35|\n",
      "|2019-09-24 00:00:00|    E03D|    5|\n",
      "|2019-09-24 00:00:00|    G21K|   11|\n",
      "|2019-09-24 00:00:00|    A61G|   59|\n",
      "|2019-09-24 00:00:00|    C12Y|   29|\n",
      "|2019-09-24 00:00:00|    F02C|   60|\n",
      "|2019-09-24 00:00:00|    G04F|    1|\n",
      "|2019-09-24 00:00:00|    F02P|   19|\n",
      "|2019-09-24 00:00:00|    G21C|   11|\n",
      "|2019-09-24 00:00:00|    B32B|  522|\n",
      "|2019-09-24 00:00:00|    F01K|   16|\n",
      "|2019-09-24 00:00:00|    B60Q|   91|\n",
      "|2019-09-24 00:00:00|    F01M|    8|\n",
      "|2019-09-24 00:00:00|    A43D|    1|\n",
      "|2019-09-24 00:00:00|    B22F|  129|\n",
      "|2019-09-24 00:00:00|    B61B|    2|\n",
      "|2019-09-24 00:00:00|    A42B|   10|\n",
      "|2019-09-24 00:00:00|    Y02W|   15|\n",
      "|2019-09-24 00:00:00|    F41G|    2|\n",
      "|2019-09-24 00:00:00|    Y02A|   56|\n",
      "|2019-09-24 00:00:00|    G01S|  342|\n",
      "|2019-09-24 00:00:00|    F23K|    5|\n",
      "|2019-09-24 00:00:00|    B61K|    4|\n",
      "|2019-09-24 00:00:00|    F24T|    2|\n",
      "|2019-09-24 00:00:00|    B64C|  127|\n",
      "|2019-09-24 00:00:00|    F15C|    1|\n",
      "|2019-09-24 00:00:00|    B23K|  248|\n",
      "|2019-09-24 00:00:00|    B23D|    7|\n",
      "|2019-09-24 00:00:00|    B60N|   62|\n",
      "|2019-09-24 00:00:00|    C03C|   42|\n",
      "|2019-09-24 00:00:00|    G21D|    2|\n",
      "|2019-09-24 00:00:00|    F17C|  191|\n",
      "|2019-09-24 00:00:00|    G06G|    1|\n",
      "|2019-09-24 00:00:00|    A47C|   14|\n",
      "|2019-09-24 00:00:00|    G11C|  453|\n",
      "|2019-09-24 00:00:00|    B25F|    6|\n",
      "|2019-09-24 00:00:00|    B27C|    1|\n",
      "|2019-09-24 00:00:00|    A61M|  637|\n",
      "|2019-09-24 00:00:00|    F41H|    2|\n",
      "|2019-09-24 00:00:00|    C08H|    5|\n",
      "|2019-09-24 00:00:00|    A61H|  153|\n",
      "|2019-09-24 00:00:00|    C06B|    7|\n",
      "|2019-09-24 00:00:00|    A47B|   37|\n",
      "|2019-09-24 00:00:00|    B60W|  225|\n",
      "|2019-09-24 00:00:00|    G01G|   17|\n",
      "|2019-09-24 00:00:00|    H03M|  182|\n",
      "|2019-09-24 00:00:00|    B24B|   23|\n",
      "|2019-09-24 00:00:00|    H02S|   13|\n",
      "|2019-09-24 00:00:00|    H03L|   34|\n",
      "|2019-09-24 00:00:00|    C01D|    3|\n",
      "|2019-09-24 00:00:00|    G07C|  131|\n",
      "|2019-09-24 00:00:00|    G01W|    5|\n",
      "|2019-09-24 00:00:00|    C05C|    2|\n",
      "|2019-09-24 00:00:00|    G21H|    3|\n",
      "|2019-09-24 00:00:00|    C23F|   10|\n",
      "|2019-09-24 00:00:00|    F25D|   75|\n",
      "|2019-09-24 00:00:00|    H02M|  139|\n",
      "|2019-09-24 00:00:00|    F24F|  104|\n",
      "|2019-09-24 00:00:00|    B67D|   20|\n",
      "|2019-09-24 00:00:00|    B60P|   33|\n",
      "|2019-09-24 00:00:00|    B21J|    3|\n",
      "|2019-09-24 00:00:00|    B63B|   44|\n",
      "|2019-09-24 00:00:00|    B27N|    9|\n",
      "|2019-09-24 00:00:00|    G02B|  667|\n",
      "|2019-09-24 00:00:00|    G10D|    5|\n",
      "|2019-09-24 00:00:00|    F04D|   82|\n",
      "|2019-09-24 00:00:00|    A47G|   35|\n",
      "|2019-09-24 00:00:00|    A45D|   14|\n",
      "|2019-09-24 00:00:00|    C08F|  172|\n",
      "|2019-09-24 00:00:00|    G08C|   20|\n",
      "|2019-09-24 00:00:00|    B65G|   98|\n",
      "|2019-09-24 00:00:00|    E04G|   11|\n",
      "|2019-09-24 00:00:00|    B60S|   10|\n",
      "|2019-09-24 00:00:00|    F01B|    2|\n",
      "|2019-09-24 00:00:00|    A43B|   72|\n",
      "|2019-09-24 00:00:00|    C21C|    1|\n",
      "|2019-09-24 00:00:00|    A23V|   30|\n",
      "|2019-09-24 00:00:00|    G06K|  469|\n",
      "|2019-09-24 00:00:00|    B44F|    5|\n",
      "|2019-09-24 00:00:00|    B21D|   28|\n",
      "|2019-09-24 00:00:00|    A63K|    1|\n",
      "|2019-09-24 00:00:00|    F03D|   24|\n",
      "|2019-09-24 00:00:00|    D01H|    1|\n",
      "|2019-09-24 00:00:00|    A61K| 1546|\n",
      "|2019-09-24 00:00:00|    B05C|   27|\n",
      "|2019-09-24 00:00:00|    C22C|   63|\n",
      "|2019-09-24 00:00:00|    H05H|   15|\n",
      "|2019-09-24 00:00:00|    B28C|    6|\n",
      "|2019-09-24 00:00:00|    B23G|    8|\n",
      "|2019-09-24 00:00:00|    G01H|    1|\n",
      "|2019-09-24 00:00:00|    A23F|    1|\n",
      "|2019-09-24 00:00:00|    F16N|    8|\n",
      "|2019-09-24 00:00:00|    E05C|    7|\n",
      "|2019-09-24 00:00:00|    C09D|  153|\n",
      "|2019-09-24 00:00:00|    A23G|    8|\n",
      "|2019-09-24 00:00:00|    H02H|   73|\n",
      "|2019-09-24 00:00:00|    F16D|   73|\n",
      "|2019-09-24 00:00:00|    F01N|  109|\n",
      "|2019-09-24 00:00:00|    F23G|    8|\n",
      "|2019-09-24 00:00:00|    F24H|    5|\n",
      "|2019-09-24 00:00:00|    G09B|   51|\n",
      "|2019-09-24 00:00:00|    D04B|   10|\n",
      "|2019-09-24 00:00:00|    F41J|    5|\n",
      "|2019-09-24 00:00:00|    G16B|   22|\n",
      "|2019-09-24 00:00:00|    Y02E|  103|\n",
      "|2019-09-24 00:00:00|    B60Y|   28|\n",
      "|2019-09-24 00:00:00|    H01P|   15|\n",
      "|2019-09-24 00:00:00|    F04C|   44|\n",
      "|2019-09-24 00:00:00|    G01R|  182|\n",
      "|2019-09-24 00:00:00|    B42B|    2|\n",
      "|2019-09-24 00:00:00|    C09J|   87|\n",
      "|2019-09-24 00:00:00|    A01M|   21|\n",
      "|2019-09-24 00:00:00|    C25B|   21|\n",
      "|2019-09-24 00:00:00|    F22G|    1|\n",
      "|2019-09-24 00:00:00|    F42B|   20|\n",
      "|2019-09-24 00:00:00|    C10K|    1|\n",
      "|2019-09-24 00:00:00|    C21B|    8|\n",
      "|2019-09-24 00:00:00|    D06N|    2|\n",
      "|2019-09-24 00:00:00|    H02B|   10|\n",
      "|2019-09-24 00:00:00|    E04B|   84|\n",
      "|2019-09-24 00:00:00|    H04J|   54|\n",
      "|2019-09-24 00:00:00|    C10M|  111|\n",
      "|2019-09-24 00:00:00|    H04R|  319|\n",
      "|2019-09-24 00:00:00|    B24D|    5|\n",
      "|2019-09-24 00:00:00|    F04F|    4|\n",
      "|2019-09-24 00:00:00|    A61F|  546|\n",
      "|2019-09-24 00:00:00|    B26F|    6|\n",
      "|2019-09-24 00:00:00|    F24D|    1|\n",
      "|2019-09-24 00:00:00|    F05B|   36|\n",
      "|2019-09-24 00:00:00|    Y02C|    6|\n",
      "|2019-09-24 00:00:00|    G01T|   31|\n",
      "|2019-09-24 00:00:00|    A47D|    2|\n",
      "|2019-09-24 00:00:00|    B01D|  339|\n",
      "|2019-09-24 00:00:00|    F23N|   16|\n",
      "|2019-09-24 00:00:00|    H04L| 2386|\n",
      "|2019-09-24 00:00:00|    D21F|   10|\n",
      "|2019-09-24 00:00:00|    F27D|   16|\n",
      "|2019-09-24 00:00:00|    A21C|    5|\n",
      "|2019-09-24 00:00:00|    B64D|   74|\n",
      "|2019-09-24 00:00:00|    G06F| 3399|\n",
      "|2019-09-24 00:00:00|    A47J|   33|\n",
      "|2019-09-24 00:00:00|    B25B|   20|\n",
      "|2019-09-24 00:00:00|    B42D|   23|\n",
      "|2019-09-24 00:00:00|    A23B|    3|\n",
      "|2019-09-24 00:00:00|    C12F|    1|\n",
      "|2019-09-24 00:00:00|    B03D|    3|\n",
      "|2019-09-24 00:00:00|    C05D|    4|\n",
      "|2019-09-24 00:00:00|    B27B|    9|\n",
      "+-------------------+--------+-----+\n",
      "only showing top 200 rows\n",
      "\n"
     ]
    }
   ],
   "source": [
    "ddf.groupby(['date','group_id']).count().sort(ddf.date.desc()).show(200)"
   ]
  },
  {
   "cell_type": "code",
   "execution_count": 40,
   "metadata": {},
   "outputs": [
    {
     "name": "stdout",
     "output_type": "stream",
     "text": [
      "+-------+--------+-------+-------------------+--------------------+--------------------+----+----------+--------------------+---------+--------------------+---------+----------+-------------+--------+-----------+-----------+--------+--------------------+--------------------+--------------------+------------+\n",
      "|   type|  number|country|               date|            abstract|               title|kind|num_claims|            filename|withdrawn|                uuid|patent_id|section_id|subsection_id|group_id|subgroup_id|   category|sequence|         group_title|      subgroup_title|    subsection_title|group_id_tag|\n",
      "+-------+--------+-------+-------------------+--------------------+--------------------+----+----------+--------------------+---------+--------------------+---------+----------+-------------+--------+-----------+-----------+--------+--------------------+--------------------+--------------------+------------+\n",
      "|utility|10257972|     US|2019-04-16 00:00:00|An agricultural t...|Flexible wing sec...|  B2|         3|       ipg190416.xml|        0|j8ywlojctkn3pqsj9...| 10257972|         A|          A01|    A01B|  A01B63/16|inventional|       2|SOIL WORKING IN A...|Lifting or adjust...|AGRICULTURE; FORE...|          01|\n",
      "|utility| 9334003|     US|2016-05-10 00:00:00|A road trailer (1...|Road trailer with...|  B2|        14|       ipg160510.xml|        0|1fafzedmlfmhq1wv0...|  9334003|         A|          A01|    A01B|  A01B63/16|inventional|       2|SOIL WORKING IN A...|Lifting or adjust...|AGRICULTURE; FORE...|          01|\n",
      "|utility| 6595526|     US|2003-07-22 00:00:00|A two wheeled, he...|Animal drawn adju...|  B1|        21|        pg030722.zip|        0|xn9yt59jqbtfrfr8k...|  6595526|         A|          A01|    A01B|  A01B63/16|inventional|       0|SOIL WORKING IN A...|Lifting or adjust...|AGRICULTURE; FORE...|          01|\n",
      "|utility| 5097908|     US|1992-03-24 00:00:00| The farm machine...|Farm machine for ...|   A|         3|pftaps19920324_wk...|        0|yzsaa5fz2d6p3dp36...|  5097908|         A|          A01|    A01B|  A01B63/16|inventional|       4|SOIL WORKING IN A...|Lifting or adjust...|AGRICULTURE; FORE...|          01|\n",
      "|utility|10368473|     US|2019-08-06 00:00:00|An agricultural m...|Tread width conne...|  B2|        20|       ipg190806.xml|        0|sjjyvb8pa0nx9vlsq...| 10368473|         A|          A01|    A01B|  A01B63/16|inventional|       0|SOIL WORKING IN A...|Lifting or adjust...|AGRICULTURE; FORE...|          01|\n",
      "|utility|10178824|     US|2019-01-15 00:00:00|A sweep plow impl...|Sweep plow implement|  B1|         5|       ipg190115.xml|        0|hqlzfq8niytpr3sfs...| 10178824|         A|          A01|    A01B|  A01B63/16|inventional|       0|SOIL WORKING IN A...|Lifting or adjust...|AGRICULTURE; FORE...|          01|\n",
      "|utility| 5366336|     US|1994-11-22 00:00:00| A towed rotary c...|Leveling rod asse...|   A|         6|pftaps19941122_wk...|        0|2s85nalgjpjxh4x8w...|  5366336|         A|          A01|    A01B|  A01B63/16|inventional|       0|SOIL WORKING IN A...|Lifting or adjust...|AGRICULTURE; FORE...|          01|\n",
      "|utility|10172275|     US|2019-01-08 00:00:00|In one embodiment...|Pivotable lift as...|  B2|        17|       ipg190108.xml|        0|bjx52aqssxxtghhn4...| 10172275|         A|          A01|    A01B|  A01B63/16|inventional|       0|SOIL WORKING IN A...|Lifting or adjust...|AGRICULTURE; FORE...|          01|\n",
      "|utility|10225983|     US|2019-03-12 00:00:00|A remotely positi...|Remote hydraulic ...|  B2|        20|       ipg190312.xml|        0|dke6s3uppk51cq8qv...| 10225983|         A|          A01|    A01B|  A01B63/16|inventional|       3|SOIL WORKING IN A...|Lifting or adjust...|AGRICULTURE; FORE...|          01|\n",
      "|utility| 9872422|     US|2018-01-23 00:00:00|An agricultural t...|Flexible wing sec...|  B2|        15|       ipg180123.xml|        0|kqhr32einwjljs0g6...|  9872422|         A|          A01|    A01B|  A01B63/16|inventional|       2|SOIL WORKING IN A...|Lifting or adjust...|AGRICULTURE; FORE...|          01|\n",
      "|utility| 8453754|     US|2013-06-04 00:00:00|A system for corr...|Agricultural impl...|  B2|        20|       ipg130604.xml|        0|jxypenngp5tugyqja...|  8453754|         A|          A01|    A01B|  A01B63/16|inventional|       1|SOIL WORKING IN A...|Lifting or adjust...|AGRICULTURE; FORE...|          01|\n",
      "|utility|10412876|     US|2019-09-17 00:00:00|An agricultural t...|Flexible wing sec...|  B2|         5|       ipg190917.xml|        0|7xan4nukv3l0l8ymr...| 10412876|         A|          A01|    A01B|  A01B63/16|inventional|       2|SOIL WORKING IN A...|Lifting or adjust...|AGRICULTURE; FORE...|          01|\n",
      "|utility| 8186449|     US|2012-05-29 00:00:00|An implement whee...|Agricultural impl...|  B2|        19|       ipg120529.xml|        0|8ebo3f8s1671qvipn...|  8186449|         A|          A01|    A01B|  A01B63/16|inventional|       1|SOIL WORKING IN A...|Lifting or adjust...|AGRICULTURE; FORE...|          01|\n",
      "|utility| 9924621|     US|2018-03-27 00:00:00|An agricultural t...|Lift system for a...|  B2|        16|       ipg180327.xml|        0|7hm442m7zhe834kxb...|  9924621|         A|          A01|    A01B|  A01B63/16|inventional|       3|SOIL WORKING IN A...|Lifting or adjust...|AGRICULTURE; FORE...|          01|\n",
      "|utility| 9253937|     US|2016-02-09 00:00:00|A towed agricultu...|Towed agricultura...|  B2|        11|       ipg160209.xml|        0|w3rwvdawq2dw7cce1...|  9253937|         A|          A01|    A01B|  A01B63/16|inventional|       2|SOIL WORKING IN A...|Lifting or adjust...|AGRICULTURE; FORE...|          01|\n",
      "|utility| 4585076|     US|1986-04-29 00:00:00| An apparatus for...|Implement and tra...|   A|         2|pftaps19860429_wk...|        0|cntt40uwz8uuokoxi...|  4585076|         A|          A01|    A01B|  A01B63/16|inventional|       1|SOIL WORKING IN A...|Lifting or adjust...|AGRICULTURE; FORE...|          01|\n",
      "|utility| 8342255|     US|2013-01-01 00:00:00|An agricultural i...|Steerable agricul...|  B2|        19|       ipg130101.xml|        0|c02yenxqpn2hqqu3i...|  8342255|         A|          A01|    A01B|  A01B63/16|inventional|       2|SOIL WORKING IN A...|Lifting or adjust...|AGRICULTURE; FORE...|          01|\n",
      "|utility| 9386742|     US|2016-07-12 00:00:00|A pull-type rotar...|Pull-type disk mo...|  B1|        21|       ipg160712.xml|        0|mcv164yakakh8ed65...|  9386742|         A|          A01|    A01B|  A01B63/16|inventional|       2|SOIL WORKING IN A...|Lifting or adjust...|AGRICULTURE; FORE...|          01|\n",
      "|utility| 9545049|     US|2017-01-17 00:00:00|A pull-type crop ...|Pull-type disk mo...|  B2|        31|       ipg170117.xml|        0|c4003k98ssu8dbv7v...|  9545049|         A|          A01|    A01B|  A01B63/16|inventional|       2|SOIL WORKING IN A...|Lifting or adjust...|AGRICULTURE; FORE...|          01|\n",
      "|utility| 9072214|     US|2015-07-07 00:00:00|An agricultural i...|Steerable agricul...|  B2|        19|       ipg150707.xml|        0|8zxhh0ivxj7spisgn...|  9072214|         A|          A01|    A01B|  A01B63/16|inventional|       0|SOIL WORKING IN A...|Lifting or adjust...|AGRICULTURE; FORE...|          01|\n",
      "+-------+--------+-------+-------------------+--------------------+--------------------+----+----------+--------------------+---------+--------------------+---------+----------+-------------+--------+-----------+-----------+--------+--------------------+--------------------+--------------------+------------+\n",
      "only showing top 20 rows\n",
      "\n"
     ]
    }
   ],
   "source": [
    "from pyspark.sql.types import StringType\n",
    "from pyspark.sql.functions import udf\n",
    "\n",
    "udf1 = udf(lambda x:x[1:-1],StringType())\n",
    "ddf.withColumn('group_id_tag',udf1('group_id')).show()"
   ]
  },
  {
   "cell_type": "code",
   "execution_count": 41,
   "metadata": {},
   "outputs": [
    {
     "name": "stdout",
     "output_type": "stream",
     "text": [
      "+----+--------+\n",
      "|kind|   count|\n",
      "+----+--------+\n",
      "|  I5|      12|\n",
      "|  B2|25352109|\n",
      "|   E|     150|\n",
      "|  B1| 3479343|\n",
      "|   A|10834269|\n",
      "|   S|      46|\n",
      "|   P|       5|\n",
      "+----+--------+\n",
      "\n"
     ]
    }
   ],
   "source": [
    "ddf.groupby('kind').count().show(40)"
   ]
  },
  {
   "cell_type": "code",
   "execution_count": 15,
   "metadata": {},
   "outputs": [
    {
     "name": "stdout",
     "output_type": "stream",
     "text": [
      "+-------+-------------------+--------------------+--------------------+----+----------+---------+--------------------+---------+----------+-------------+--------+-------------+-----------+--------+--------------+\n",
      "|   type|               date|            abstract|               title|kind|num_claims|withdrawn|                uuid|patent_id|section_id|subsection_id|group_id|  subgroup_id|   category|sequence|group_id_first|\n",
      "+-------+-------------------+--------------------+--------------------+----+----------+---------+--------------------+---------+----------+-------------+--------+-------------+-----------+--------+--------------+\n",
      "|utility|2018-06-19 00:00:00|Boron nitride nan...|High kinetic ener...|  B2|        20|     NULL|00j2efp5di8xb7jyc...| 10000036|         F|          F41|    F41H|   F41H5/0471|inventional|       7|             F|\n",
      "|utility|2018-06-19 00:00:00|A pneumatic tire ...|      Pneumatic tire|  B2|         8|     NULL|01h8whavwsry5jx7t...| 10000092|         B|          B60|    B60C| B60C2011/039| additional|       6|             B|\n",
      "|utility|2018-06-19 00:00:00|Provided is an al...|Alloy plate coate...|  B2|         7|     NULL|0375j2wnp7qdprlyv...| 10000038|         H|          H01|    H01M|H01M2008/1095| additional|       7|             H|\n",
      "|utility|2018-06-19 00:00:00|The invention rel...|Method for detach...|  B2|         7|     NULL|04toqb7xj9ctaf8o9...| 10000087|         G|          G09|    G09F|G09F2007/1856| additional|       8|             G|\n",
      "|utility|2018-06-19 00:00:00|A decorated strip...|Bracelet mold and...|  B2|        11|     NULL|08iqfen79lrehob31...| 10000008|         B|          B29|    B29K|  B29K2105/02| additional|       7|             B|\n",
      "+-------+-------------------+--------------------+--------------------+----+----------+---------+--------------------+---------+----------+-------------+--------+-------------+-----------+--------+--------------+\n",
      "only showing top 5 rows\n",
      "\n"
     ]
    }
   ],
   "source": [
    "from pyspark.sql.functions import substring\n",
    "ddf = ddf.withColumn(\"group_id_first\", ddf.group_id.substr(0,1)).show(5)"
   ]
  },
  {
   "cell_type": "code",
   "execution_count": 16,
   "metadata": {},
   "outputs": [
    {
     "ename": "AttributeError",
     "evalue": "'NoneType' object has no attribute 'show'",
     "output_type": "error",
     "traceback": [
      "\u001b[0;31m---------------------------------------------------------------------------\u001b[0m",
      "\u001b[0;31mAttributeError\u001b[0m                            Traceback (most recent call last)",
      "\u001b[0;32m<ipython-input-16-952b999c9c3f>\u001b[0m in \u001b[0;36m<module>\u001b[0;34m\u001b[0m\n\u001b[0;32m----> 1\u001b[0;31m \u001b[0mddf\u001b[0m\u001b[0;34m.\u001b[0m\u001b[0mshow\u001b[0m\u001b[0;34m(\u001b[0m\u001b[0;36m5\u001b[0m\u001b[0;34m)\u001b[0m\u001b[0;34m\u001b[0m\u001b[0;34m\u001b[0m\u001b[0m\n\u001b[0m",
      "\u001b[0;31mAttributeError\u001b[0m: 'NoneType' object has no attribute 'show'"
     ]
    }
   ],
   "source": [
    "ddf.show(5)"
   ]
  },
  {
   "cell_type": "code",
   "execution_count": 56,
   "metadata": {},
   "outputs": [],
   "source": [
    "#ddf_limit = df.sort('id', ascending=False).limit(1000)\n",
    "from pyspark.sql.functions import rand\n",
    "\n",
    "ddf_limit = ddf.orderBy(rand()).limit(100)"
   ]
  },
  {
   "cell_type": "code",
   "execution_count": 57,
   "metadata": {},
   "outputs": [
    {
     "name": "stdout",
     "output_type": "stream",
     "text": [
      "+-------+--------+-------+-------------------+--------------------+--------------------+----+----------+--------------------+---------+--------------------+---------+----------+-------------+--------+-------------+-----------+--------+--------------------+--------------------+--------------------+\n",
      "|   type|  number|country|               date|            abstract|               title|kind|num_claims|            filename|withdrawn|                uuid|patent_id|section_id|subsection_id|group_id|  subgroup_id|   category|sequence|         group_title|      subgroup_title|    subsection_title|\n",
      "+-------+--------+-------+-------------------+--------------------+--------------------+----+----------+--------------------+---------+--------------------+---------+----------+-------------+--------+-------------+-----------+--------+--------------------+--------------------+--------------------+\n",
      "|utility| 6307107|     US|2001-10-23 00:00:00| A process for hy...|Hydroformylation ...|   A|        10|pftaps20011023_wk...|        0|4fdh0lgwmh1zi9a20...|  6307107|         C|          C07|    C07F|    C07F9/117|inventional|       4|ACYCLIC, CARBOCYC...|Compounds contain...|   ORGANIC CHEMISTRY|\n",
      "|utility|10058437|     US|2018-08-28 00:00:00|A method of formi...|Surface structure...|  B2|         7|       ipg180828.xml|     NULL|kfyo74yknpcaof2n9...| 10058437|         A|          A61|    A61L|   A61L31/088|inventional|       3|METHODS OR APPARA...|Materials for oth...|MEDICAL OR VETERI...|\n",
      "|utility| 9355584|     US|2016-05-31 00:00:00|A system to impro...|System and method...|  B2|         6|       ipg160531.xml|        0|uzejc4ivpo4u4n7kb...|  9355584|         G|          G09|    G09G|  G09G2310/08| additional|      14|ARRANGEMENTS OR C...|Command of the di...|EDUCATION; CRYPTO...|\n",
      "|utility| 5114617|     US|1992-05-19 00:00:00| A high strength ...|High strength str...|   A|        21|pftaps19920519_wk...|        0|awy22tqx7efn1y4xt...|  5114617|         C|          C04|    C04B|  C04B2201/50| additional|      27|LIME, MAGNESIA; S...|Mortars, concrete...|CEMENTS; CONCRETE...|\n",
      "|utility| 4720868|     US|1988-01-19 00:00:00| A dynamic speake...|Dynamic transduce...|   A|        18|pftaps19880119_wk...|        0|0nye7n34m4pbab9em...|  4720868|         H|          H04|    H04R|  H04R2400/03| additional|       3|LOUDSPEAKERS, MIC...|Loudspeakers-Tran...|ELECTRIC COMMUNIC...|\n",
      "|utility| 7863721|     US|2011-01-04 00:00:00|A semiconductor d...|Method and appara...|  B2|        25|       ipg110104.xml|        0|xmc6gzk4jzo93p6b7...|  7863721|         H|          H01|    H01L|  H01L2924/14| additional|      68|SEMICONDUCTOR DEV...|Indexing scheme f...|BASIC ELECTRIC EL...|\n",
      "|utility| 7566981|     US|2009-07-28 00:00:00|An actuating driv...|Actuating drive a...|  B2|        17|       ipg090728.xml|        0|llx4wykesyvhuu8ob...|  7566981|         H|          H02|    H02J|   H02J7/0024|inventional|       0|CIRCUIT ARRANGEME...|Circuit arrangeme...|GENERATION; CONVE...|\n",
      "|utility| 9361217|     US|2016-06-07 00:00:00|Methods, articles...|Methods and appar...|  B2|        20|       ipg160607.xml|        0|pofhv0e249016rfyf...|  9361217|         G|          G06|    G06F|    G06F3/067|inventional|       7|ELECTRIC DIGITAL ...|Input arrangement...|COMPUTING; CALCUL...|\n",
      "|utility| 7870423|     US|2011-01-11 00:00:00|The invention is ...|Data processing s...|  B2|        12|       ipg110111.xml|        0|u0uj69ox4cki2161u...|  7870423|         G|          G06|    G06F|  G06F11/2074| additional|       7|ELECTRIC DIGITAL ...|Error detection; ...|COMPUTING; CALCUL...|\n",
      "|utility| 6078046|     US|2000-06-20 00:00:00| In an apparatus ...|Apparatus for mea...|   A|        13|pftaps20000620_wk...|        0|h0d5ntsdz8blknqx1...|  6078046|         H|          H01|    H01J|   H01J37/244|inventional|       0|ELECTRIC DISCHARG...|Discharge tubes w...|BASIC ELECTRIC EL...|\n",
      "|utility| 5457854|     US|1995-10-17 00:00:00| A draw-cord asse...|Draw-cord and met...|   A|         9|pftaps19951017_wk...|        0|tap84urhottuewj4p...|  5457854|         Y|          Y10|    Y10T|    Y10T24/37| additional|       3|TECHNICAL SUBJECT...|Buckles, buttons,...|TECHNICAL SUBJECT...|\n",
      "|utility| 8201405|     US|2012-06-19 00:00:00|A crossover for d...|Crossover exhaust...|  B2|        13|       ipg120619.xml|        0|4a2bpcrsugpbneb4m...|  8201405|         F|          F02|    F02B|  F02B29/0425| additional|       6|INTERNAL-COMBUSTI...|Engines character...|COMBUSTION ENGINE...|\n",
      "|utility| 4011638|     US|1977-03-15 00:00:00| A joint clamp pa...|Joint clamp for j...|   A|         5|pftaps19770315_wk...|        0|303w6opln0qvro53t...|  4011638|         E|          E04|    E04G|     E04G7/16|inventional|       1|SCAFFOLDING; FORM...|Connections betwe...|            BUILDING|\n",
      "|utility| 9129843|     US|2015-09-08 00:00:00|A method of formi...| Integrated inductor|  B1|        17|       ipg150908.xml|        0|oddczsxrhffb3t3j2...|  9129843|         H|          H01|    H01L|  H01L27/0617|inventional|       9|SEMICONDUCTOR DEV...|Devices consistin...|BASIC ELECTRIC EL...|\n",
      "|utility| 9653382|     US|2017-05-16 00:00:00|A semiconductor l...|Semiconductor las...|  B2|        12|       ipg170516.xml|        0|uf2s78ost0aa6f4aw...|  9653382|         H|          H01|    H01L|  H01L2224/80| additional|      94|SEMICONDUCTOR DEV...|Indexing scheme f...|BASIC ELECTRIC EL...|\n",
      "|utility| 5588368|     US|1996-12-31 00:00:00| The body of a ra...|Secondary suspens...|   A|         4|pftaps19961231_wk...|        0|bg1f371ll9xlxyl93...|  5588368|         B|          B60|    B60G|   B60G17/017|inventional|       3|VEHICLE SUSPENSIO...|Resilient suspens...| VEHICLES IN GENERAL|\n",
      "|utility| 6126931|     US|2000-10-03 00:00:00| Contact killing ...|Contact-killing a...|   A|        12|pftaps20001003_wk...|        0|qxbbttn58ri8phy07...|  6126931|         B|          B01|    B01D|B01D2239/0471| additional|      15|         SEPARATION |Aspects relating ...|PHYSICAL OR CHEMI...|\n",
      "|utility| 7738260|     US|2010-06-15 00:00:00|A grounding conne...|Grounding connect...|  B2|        20|       ipg100615.xml|        0|ebi9r4rfr5ztmljm6...|  7738260|         H|          H04|    H04M|   H04M1/0225|inventional|       0|TELEPHONIC COMMUN...|Substation equipm...|ELECTRIC COMMUNIC...|\n",
      "|utility| 7645757|     US|2010-01-12 00:00:00|The present inven...|Derivatives of he...|  B2|         7|       ipg100112.xml|        0|qgww6avp8qw2zrf8c...|  7645757|         C|          C07|    C07D|   C07D213/40|inventional|       3|HETEROCYCLIC COMP...|Heterocyclic comp...|   ORGANIC CHEMISTRY|\n",
      "|utility| 5869792|     US|1999-02-09 00:00:00| An acoustic duct...|Reactive acoustic...|   A|        17|pftaps19990209_wk...|        0|kgq46cjomhhtsdsv2...|  5869792|         F|          F16|    F16L|  F16L55/0333|inventional|       5|PIPES; JOINTS OR ...|Devices or appurt...|ENGINEERING ELEME...|\n",
      "+-------+--------+-------+-------------------+--------------------+--------------------+----+----------+--------------------+---------+--------------------+---------+----------+-------------+--------+-------------+-----------+--------+--------------------+--------------------+--------------------+\n",
      "only showing top 20 rows\n",
      "\n"
     ]
    }
   ],
   "source": [
    "ddf_limit.show()"
   ]
  },
  {
   "cell_type": "code",
   "execution_count": 64,
   "metadata": {},
   "outputs": [
    {
     "name": "stdout",
     "output_type": "stream",
     "text": [
      "+-------------------+--------------+-----+\n",
      "|               date|group_id_first|count|\n",
      "+-------------------+--------------+-----+\n",
      "|2018-07-24 00:00:00|             C|    1|\n",
      "|2010-08-17 00:00:00|             A|    1|\n",
      "|2015-08-25 00:00:00|             G|    1|\n",
      "|2014-09-30 00:00:00|             C|    1|\n",
      "|1988-01-19 00:00:00|             H|    1|\n",
      "|2010-07-06 00:00:00|             H|    1|\n",
      "|2017-11-07 00:00:00|             H|    2|\n",
      "|2012-09-11 00:00:00|             G|    1|\n",
      "|1997-01-07 00:00:00|             G|    1|\n",
      "|2003-11-04 00:00:00|             H|    1|\n",
      "|2015-09-22 00:00:00|             Y|    1|\n",
      "|2010-05-18 00:00:00|             F|    1|\n",
      "|2016-09-13 00:00:00|             E|    1|\n",
      "|2013-07-16 00:00:00|             H|    1|\n",
      "|2017-09-12 00:00:00|             H|    2|\n",
      "|1996-11-12 00:00:00|             B|    1|\n",
      "|2009-12-29 00:00:00|             B|    1|\n",
      "|2017-03-14 00:00:00|             H|    1|\n",
      "|1992-10-27 00:00:00|             C|    1|\n",
      "|2003-12-02 00:00:00|             F|    1|\n",
      "+-------------------+--------------+-----+\n",
      "only showing top 20 rows\n",
      "\n"
     ]
    }
   ],
   "source": [
    "ddf_limit.withColumn(\"group_id_first\", ddf_limit.group_id.substr(0,1)).groupby(['date','group_id_first']).count().show()"
   ]
  },
  {
   "cell_type": "code",
   "execution_count": 61,
   "metadata": {},
   "outputs": [
    {
     "data": {
      "text/plain": [
       "100"
      ]
     },
     "execution_count": 61,
     "metadata": {},
     "output_type": "execute_result"
    }
   ],
   "source": [
    "ddf_limit.count()"
   ]
  },
  {
   "cell_type": "code",
   "execution_count": 62,
   "metadata": {},
   "outputs": [
    {
     "data": {
      "text/plain": [
       "['type',\n",
       " 'number',\n",
       " 'country',\n",
       " 'date',\n",
       " 'abstract',\n",
       " 'title',\n",
       " 'kind',\n",
       " 'num_claims',\n",
       " 'filename',\n",
       " 'withdrawn',\n",
       " 'uuid',\n",
       " 'patent_id',\n",
       " 'section_id',\n",
       " 'subsection_id',\n",
       " 'group_id',\n",
       " 'subgroup_id',\n",
       " 'category',\n",
       " 'sequence',\n",
       " 'group_title',\n",
       " 'subgroup_title',\n",
       " 'subsection_title']"
      ]
     },
     "execution_count": 62,
     "metadata": {},
     "output_type": "execute_result"
    }
   ],
   "source": [
    "ddf_limit.columns"
   ]
  },
  {
   "cell_type": "code",
   "execution_count": 17,
   "metadata": {},
   "outputs": [
    {
     "ename": "AttributeError",
     "evalue": "'NoneType' object has no attribute 'filter'",
     "output_type": "error",
     "traceback": [
      "\u001b[0;31m---------------------------------------------------------------------------\u001b[0m",
      "\u001b[0;31mAttributeError\u001b[0m                            Traceback (most recent call last)",
      "\u001b[0;32m<ipython-input-17-bbacaad11c94>\u001b[0m in \u001b[0;36m<module>\u001b[0;34m\u001b[0m\n\u001b[1;32m      1\u001b[0m \u001b[0;31m#ddf_latest = ddf.sort(ddf.date.desc()).limit(2000)\u001b[0m\u001b[0;34m\u001b[0m\u001b[0;34m\u001b[0m\u001b[0;34m\u001b[0m\u001b[0m\n\u001b[1;32m      2\u001b[0m \u001b[0;32mfrom\u001b[0m \u001b[0mpyspark\u001b[0m\u001b[0;34m.\u001b[0m\u001b[0msql\u001b[0m\u001b[0;34m.\u001b[0m\u001b[0mfunctions\u001b[0m \u001b[0;32mimport\u001b[0m \u001b[0munix_timestamp\u001b[0m\u001b[0;34m,\u001b[0m \u001b[0mlit\u001b[0m\u001b[0;34m\u001b[0m\u001b[0;34m\u001b[0m\u001b[0m\n\u001b[0;32m----> 3\u001b[0;31m \u001b[0mddf_latest\u001b[0m \u001b[0;34m=\u001b[0m \u001b[0mddf\u001b[0m\u001b[0;34m.\u001b[0m\u001b[0mfilter\u001b[0m\u001b[0;34m(\u001b[0m\u001b[0mddf\u001b[0m\u001b[0;34m.\u001b[0m\u001b[0mdate\u001b[0m \u001b[0;34m>\u001b[0m \u001b[0;34m\"2019-09-01\"\u001b[0m\u001b[0;34m)\u001b[0m\u001b[0;34m\u001b[0m\u001b[0;34m\u001b[0m\u001b[0m\n\u001b[0m",
      "\u001b[0;31mAttributeError\u001b[0m: 'NoneType' object has no attribute 'filter'"
     ]
    }
   ],
   "source": [
    "#ddf_latest = ddf.sort(ddf.date.desc()).limit(2000)\n",
    "from pyspark.sql.functions import unix_timestamp, lit\n",
    "ddf_latest = ddf.filter(ddf.date > \"2019-09-01\")\n"
   ]
  },
  {
   "cell_type": "code",
   "execution_count": null,
   "metadata": {},
   "outputs": [],
   "source": []
  },
  {
   "cell_type": "code",
   "execution_count": 28,
   "metadata": {},
   "outputs": [],
   "source": [
    "ddf_latest = ddf.withColumn(\"group_id_first\", ddf.group_id.substr(0,1)).groupby(['date','group_id_first']).count().sort(ddf.date.desc())"
   ]
  },
  {
   "cell_type": "code",
   "execution_count": 11,
   "metadata": {},
   "outputs": [
    {
     "data": {
      "text/plain": [
       "242338"
      ]
     },
     "execution_count": 11,
     "metadata": {},
     "output_type": "execute_result"
    }
   ],
   "source": [
    "ddf_latest.count()"
   ]
  },
  {
   "cell_type": "code",
   "execution_count": 33,
   "metadata": {},
   "outputs": [],
   "source": [
    "import matplotlib.pyplot as plt\n",
    "import pandas as pd"
   ]
  },
  {
   "cell_type": "code",
   "execution_count": 13,
   "metadata": {},
   "outputs": [],
   "source": [
    "plt.style.use('ggplot')"
   ]
  },
  {
   "cell_type": "code",
   "execution_count": 29,
   "metadata": {},
   "outputs": [],
   "source": [
    "pddf = ddf_latest.toPandas()"
   ]
  },
  {
   "cell_type": "code",
   "execution_count": 42,
   "metadata": {},
   "outputs": [
    {
     "ename": "KeyError",
     "evalue": "'group_id'",
     "output_type": "error",
     "traceback": [
      "\u001b[0;31m---------------------------------------------------------------------------\u001b[0m",
      "\u001b[0;31mKeyError\u001b[0m                                  Traceback (most recent call last)",
      "\u001b[0;32m/opt/conda/lib/python3.7/site-packages/pandas/core/indexes/base.py\u001b[0m in \u001b[0;36mget_loc\u001b[0;34m(self, key, method, tolerance)\u001b[0m\n\u001b[1;32m   2896\u001b[0m             \u001b[0;32mtry\u001b[0m\u001b[0;34m:\u001b[0m\u001b[0;34m\u001b[0m\u001b[0;34m\u001b[0m\u001b[0m\n\u001b[0;32m-> 2897\u001b[0;31m                 \u001b[0;32mreturn\u001b[0m \u001b[0mself\u001b[0m\u001b[0;34m.\u001b[0m\u001b[0m_engine\u001b[0m\u001b[0;34m.\u001b[0m\u001b[0mget_loc\u001b[0m\u001b[0;34m(\u001b[0m\u001b[0mkey\u001b[0m\u001b[0;34m)\u001b[0m\u001b[0;34m\u001b[0m\u001b[0;34m\u001b[0m\u001b[0m\n\u001b[0m\u001b[1;32m   2898\u001b[0m             \u001b[0;32mexcept\u001b[0m \u001b[0mKeyError\u001b[0m\u001b[0;34m:\u001b[0m\u001b[0;34m\u001b[0m\u001b[0;34m\u001b[0m\u001b[0m\n",
      "\u001b[0;32mpandas/_libs/index.pyx\u001b[0m in \u001b[0;36mpandas._libs.index.IndexEngine.get_loc\u001b[0;34m()\u001b[0m\n",
      "\u001b[0;32mpandas/_libs/index.pyx\u001b[0m in \u001b[0;36mpandas._libs.index.IndexEngine.get_loc\u001b[0;34m()\u001b[0m\n",
      "\u001b[0;32mpandas/_libs/hashtable_class_helper.pxi\u001b[0m in \u001b[0;36mpandas._libs.hashtable.PyObjectHashTable.get_item\u001b[0;34m()\u001b[0m\n",
      "\u001b[0;32mpandas/_libs/hashtable_class_helper.pxi\u001b[0m in \u001b[0;36mpandas._libs.hashtable.PyObjectHashTable.get_item\u001b[0;34m()\u001b[0m\n",
      "\u001b[0;31mKeyError\u001b[0m: 'group_id'",
      "\nDuring handling of the above exception, another exception occurred:\n",
      "\u001b[0;31mKeyError\u001b[0m                                  Traceback (most recent call last)",
      "\u001b[0;32m<ipython-input-42-4270928ca72e>\u001b[0m in \u001b[0;36m<module>\u001b[0;34m\u001b[0m\n\u001b[1;32m      1\u001b[0m \u001b[0mfig\u001b[0m\u001b[0;34m,\u001b[0m\u001b[0max\u001b[0m \u001b[0;34m=\u001b[0m \u001b[0mplt\u001b[0m\u001b[0;34m.\u001b[0m\u001b[0msubplots\u001b[0m\u001b[0;34m(\u001b[0m\u001b[0;34m)\u001b[0m\u001b[0;34m\u001b[0m\u001b[0;34m\u001b[0m\u001b[0m\n\u001b[0;32m----> 2\u001b[0;31m \u001b[0max\u001b[0m\u001b[0;34m.\u001b[0m\u001b[0mhist\u001b[0m\u001b[0;34m(\u001b[0m\u001b[0mpddf\u001b[0m\u001b[0;34m[\u001b[0m\u001b[0;34m'group_id'\u001b[0m\u001b[0;34m]\u001b[0m\u001b[0;34m,\u001b[0m\u001b[0mpddf\u001b[0m\u001b[0;34m[\u001b[0m\u001b[0;34m'count'\u001b[0m\u001b[0;34m]\u001b[0m\u001b[0;34m)\u001b[0m\u001b[0;34m\u001b[0m\u001b[0;34m\u001b[0m\u001b[0m\n\u001b[0m",
      "\u001b[0;32m/opt/conda/lib/python3.7/site-packages/pandas/core/frame.py\u001b[0m in \u001b[0;36m__getitem__\u001b[0;34m(self, key)\u001b[0m\n\u001b[1;32m   2993\u001b[0m             \u001b[0;32mif\u001b[0m \u001b[0mself\u001b[0m\u001b[0;34m.\u001b[0m\u001b[0mcolumns\u001b[0m\u001b[0;34m.\u001b[0m\u001b[0mnlevels\u001b[0m \u001b[0;34m>\u001b[0m \u001b[0;36m1\u001b[0m\u001b[0;34m:\u001b[0m\u001b[0;34m\u001b[0m\u001b[0;34m\u001b[0m\u001b[0m\n\u001b[1;32m   2994\u001b[0m                 \u001b[0;32mreturn\u001b[0m \u001b[0mself\u001b[0m\u001b[0;34m.\u001b[0m\u001b[0m_getitem_multilevel\u001b[0m\u001b[0;34m(\u001b[0m\u001b[0mkey\u001b[0m\u001b[0;34m)\u001b[0m\u001b[0;34m\u001b[0m\u001b[0;34m\u001b[0m\u001b[0m\n\u001b[0;32m-> 2995\u001b[0;31m             \u001b[0mindexer\u001b[0m \u001b[0;34m=\u001b[0m \u001b[0mself\u001b[0m\u001b[0;34m.\u001b[0m\u001b[0mcolumns\u001b[0m\u001b[0;34m.\u001b[0m\u001b[0mget_loc\u001b[0m\u001b[0;34m(\u001b[0m\u001b[0mkey\u001b[0m\u001b[0;34m)\u001b[0m\u001b[0;34m\u001b[0m\u001b[0;34m\u001b[0m\u001b[0m\n\u001b[0m\u001b[1;32m   2996\u001b[0m             \u001b[0;32mif\u001b[0m \u001b[0mis_integer\u001b[0m\u001b[0;34m(\u001b[0m\u001b[0mindexer\u001b[0m\u001b[0;34m)\u001b[0m\u001b[0;34m:\u001b[0m\u001b[0;34m\u001b[0m\u001b[0;34m\u001b[0m\u001b[0m\n\u001b[1;32m   2997\u001b[0m                 \u001b[0mindexer\u001b[0m \u001b[0;34m=\u001b[0m \u001b[0;34m[\u001b[0m\u001b[0mindexer\u001b[0m\u001b[0;34m]\u001b[0m\u001b[0;34m\u001b[0m\u001b[0;34m\u001b[0m\u001b[0m\n",
      "\u001b[0;32m/opt/conda/lib/python3.7/site-packages/pandas/core/indexes/base.py\u001b[0m in \u001b[0;36mget_loc\u001b[0;34m(self, key, method, tolerance)\u001b[0m\n\u001b[1;32m   2897\u001b[0m                 \u001b[0;32mreturn\u001b[0m \u001b[0mself\u001b[0m\u001b[0;34m.\u001b[0m\u001b[0m_engine\u001b[0m\u001b[0;34m.\u001b[0m\u001b[0mget_loc\u001b[0m\u001b[0;34m(\u001b[0m\u001b[0mkey\u001b[0m\u001b[0;34m)\u001b[0m\u001b[0;34m\u001b[0m\u001b[0;34m\u001b[0m\u001b[0m\n\u001b[1;32m   2898\u001b[0m             \u001b[0;32mexcept\u001b[0m \u001b[0mKeyError\u001b[0m\u001b[0;34m:\u001b[0m\u001b[0;34m\u001b[0m\u001b[0;34m\u001b[0m\u001b[0m\n\u001b[0;32m-> 2899\u001b[0;31m                 \u001b[0;32mreturn\u001b[0m \u001b[0mself\u001b[0m\u001b[0;34m.\u001b[0m\u001b[0m_engine\u001b[0m\u001b[0;34m.\u001b[0m\u001b[0mget_loc\u001b[0m\u001b[0;34m(\u001b[0m\u001b[0mself\u001b[0m\u001b[0;34m.\u001b[0m\u001b[0m_maybe_cast_indexer\u001b[0m\u001b[0;34m(\u001b[0m\u001b[0mkey\u001b[0m\u001b[0;34m)\u001b[0m\u001b[0;34m)\u001b[0m\u001b[0;34m\u001b[0m\u001b[0;34m\u001b[0m\u001b[0m\n\u001b[0m\u001b[1;32m   2900\u001b[0m         \u001b[0mindexer\u001b[0m \u001b[0;34m=\u001b[0m \u001b[0mself\u001b[0m\u001b[0;34m.\u001b[0m\u001b[0mget_indexer\u001b[0m\u001b[0;34m(\u001b[0m\u001b[0;34m[\u001b[0m\u001b[0mkey\u001b[0m\u001b[0;34m]\u001b[0m\u001b[0;34m,\u001b[0m \u001b[0mmethod\u001b[0m\u001b[0;34m=\u001b[0m\u001b[0mmethod\u001b[0m\u001b[0;34m,\u001b[0m \u001b[0mtolerance\u001b[0m\u001b[0;34m=\u001b[0m\u001b[0mtolerance\u001b[0m\u001b[0;34m)\u001b[0m\u001b[0;34m\u001b[0m\u001b[0;34m\u001b[0m\u001b[0m\n\u001b[1;32m   2901\u001b[0m         \u001b[0;32mif\u001b[0m \u001b[0mindexer\u001b[0m\u001b[0;34m.\u001b[0m\u001b[0mndim\u001b[0m \u001b[0;34m>\u001b[0m \u001b[0;36m1\u001b[0m \u001b[0;32mor\u001b[0m \u001b[0mindexer\u001b[0m\u001b[0;34m.\u001b[0m\u001b[0msize\u001b[0m \u001b[0;34m>\u001b[0m \u001b[0;36m1\u001b[0m\u001b[0;34m:\u001b[0m\u001b[0;34m\u001b[0m\u001b[0;34m\u001b[0m\u001b[0m\n",
      "\u001b[0;32mpandas/_libs/index.pyx\u001b[0m in \u001b[0;36mpandas._libs.index.IndexEngine.get_loc\u001b[0;34m()\u001b[0m\n",
      "\u001b[0;32mpandas/_libs/index.pyx\u001b[0m in \u001b[0;36mpandas._libs.index.IndexEngine.get_loc\u001b[0;34m()\u001b[0m\n",
      "\u001b[0;32mpandas/_libs/hashtable_class_helper.pxi\u001b[0m in \u001b[0;36mpandas._libs.hashtable.PyObjectHashTable.get_item\u001b[0;34m()\u001b[0m\n",
      "\u001b[0;32mpandas/_libs/hashtable_class_helper.pxi\u001b[0m in \u001b[0;36mpandas._libs.hashtable.PyObjectHashTable.get_item\u001b[0;34m()\u001b[0m\n",
      "\u001b[0;31mKeyError\u001b[0m: 'group_id'"
     ]
    },
    {
     "data": {
      "image/png": "[encoded data removed]",
      "text/plain": [
       "<Figure size 432x288 with 1 Axes>"
      ]
     },
     "metadata": {
      "needs_background": "light"
     },
     "output_type": "display_data"
    }
   ],
   "source": [
    "fig,ax = plt.subplots()\n",
    "ax.hist(pddf['group_id'],pddf['count'])"
   ]
  },
  {
   "cell_type": "code",
   "execution_count": 30,
   "metadata": {},
   "outputs": [
    {
     "data": {
      "text/html": [
       "<div>\n",
       "<style scoped>\n",
       "    .dataframe tbody tr th:only-of-type {\n",
       "        vertical-align: middle;\n",
       "    }\n",
       "\n",
       "    .dataframe tbody tr th {\n",
       "        vertical-align: top;\n",
       "    }\n",
       "\n",
       "    .dataframe thead th {\n",
       "        text-align: right;\n",
       "    }\n",
       "</style>\n",
       "<table border=\"1\" class=\"dataframe\">\n",
       "  <thead>\n",
       "    <tr style=\"text-align: right;\">\n",
       "      <th></th>\n",
       "      <th>date</th>\n",
       "      <th>group_id_first</th>\n",
       "      <th>count</th>\n",
       "    </tr>\n",
       "  </thead>\n",
       "  <tbody>\n",
       "    <tr>\n",
       "      <th>0</th>\n",
       "      <td>2018-06-19</td>\n",
       "      <td>E</td>\n",
       "      <td>6</td>\n",
       "    </tr>\n",
       "    <tr>\n",
       "      <th>1</th>\n",
       "      <td>2018-06-19</td>\n",
       "      <td>Y</td>\n",
       "      <td>49</td>\n",
       "    </tr>\n",
       "    <tr>\n",
       "      <th>2</th>\n",
       "      <td>2018-06-19</td>\n",
       "      <td>C</td>\n",
       "      <td>21</td>\n",
       "    </tr>\n",
       "    <tr>\n",
       "      <th>3</th>\n",
       "      <td>2018-06-19</td>\n",
       "      <td>G</td>\n",
       "      <td>39</td>\n",
       "    </tr>\n",
       "    <tr>\n",
       "      <th>4</th>\n",
       "      <td>2018-06-19</td>\n",
       "      <td>H</td>\n",
       "      <td>20</td>\n",
       "    </tr>\n",
       "  </tbody>\n",
       "</table>\n",
       "</div>"
      ],
      "text/plain": [
       "        date group_id_first  count\n",
       "0 2018-06-19              E      6\n",
       "1 2018-06-19              Y     49\n",
       "2 2018-06-19              C     21\n",
       "3 2018-06-19              G     39\n",
       "4 2018-06-19              H     20"
      ]
     },
     "execution_count": 30,
     "metadata": {},
     "output_type": "execute_result"
    }
   ],
   "source": [
    "pddf.head()"
   ]
  },
  {
   "cell_type": "code",
   "execution_count": null,
   "metadata": {},
   "outputs": [],
   "source": []
  },
  {
   "cell_type": "code",
   "execution_count": null,
   "metadata": {},
   "outputs": [],
   "source": [
    "### group by company then run clustering to find inherent features of a companys patents, determine how similar another company is based on those features"
   ]
  },
  {
   "cell_type": "code",
   "execution_count": 1,
   "metadata": {},
   "outputs": [],
   "source": []
  },
  {
   "cell_type": "code",
   "execution_count": 3,
   "metadata": {},
   "outputs": [],
   "source": [
    "import pandas as pd\n",
    "train = pd.read_csv(\"data/temp/train_pd.csv\",sep=\"|\")\n",
    "cols= ['Unnamed: 0.1','id','date','abstract','title']\n",
    "train.drop(cols,axis=1,inplace=True)\n",
    "train = train.fillna(0)\n",
    "train = pd.get_dummies(train,drop_first=True)"
   ]
  },
  {
   "cell_type": "code",
   "execution_count": 4,
   "metadata": {},
   "outputs": [
    {
     "data": {
      "image/png": "[encoded data removed]",
      "text/plain": [
       "<Figure size 2448x2448 with 400 Axes>"
      ]
     },
     "metadata": {},
     "output_type": "display_data"
    }
   ],
   "source": [
    "import matplotlib.pyplot as plt\n",
    "pd.plotting.scatter_matrix(train, alpha=0.2, figsize=(34,34))\n",
    "plt.show()"
   ]
  },
  {
   "cell_type": "code",
   "execution_count": 3,
   "metadata": {},
   "outputs": [],
   "source": []
  },
  {
   "cell_type": "code",
   "execution_count": 4,
   "metadata": {},
   "outputs": [],
   "source": []
  },
  {
   "cell_type": "code",
   "execution_count": 5,
   "metadata": {},
   "outputs": [],
   "source": []
  },
  {
   "cell_type": "code",
   "execution_count": 6,
   "metadata": {},
   "outputs": [],
   "source": []
  },
  {
   "cell_type": "code",
   "execution_count": null,
   "metadata": {},
   "outputs": [],
   "source": []
  },
  {
   "cell_type": "code",
   "execution_count": 23,
   "metadata": {},
   "outputs": [],
   "source": []
  },
  {
   "cell_type": "code",
   "execution_count": null,
   "metadata": {},
   "outputs": [],
   "source": []
  },
  {
   "cell_type": "code",
   "execution_count": null,
   "metadata": {},
   "outputs": [],
   "source": []
  },
  {
   "cell_type": "code",
   "execution_count": null,
   "metadata": {},
   "outputs": [],
   "source": []
  },
  {
   "cell_type": "code",
   "execution_count": null,
   "metadata": {},
   "outputs": [],
   "source": []
  },
  {
   "cell_type": "code",
   "execution_count": null,
   "metadata": {},
   "outputs": [],
   "source": []
  }
 ],
 "metadata": {
  "kernelspec": {
   "display_name": "conda_python3",
   "language": "python",
   "name": "conda_python3"
  },
  "language_info": {
   "codemirror_mode": {
    "name": "ipython",
    "version": 3
   },
   "file_extension": ".py",
   "mimetype": "text/x-python",
   "name": "python",
   "nbconvert_exporter": "python",
   "pygments_lexer": "ipython3",
   "version": "3.6.5"
  }
 },
 "nbformat": 4,
 "nbformat_minor": 4
}
