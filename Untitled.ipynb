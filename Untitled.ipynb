{
 "cells": [
  {
   "cell_type": "code",
   "execution_count": 1,
   "metadata": {},
   "outputs": [
    {
     "name": "stderr",
     "output_type": "stream",
     "text": [
      "[nltk_data] Downloading package stopwords to /home/jovyan/nltk_data...\n",
      "[nltk_data]   Package stopwords is already up-to-date!\n",
      "[nltk_data] Downloading package punkt to /home/jovyan/nltk_data...\n",
      "[nltk_data]   Package punkt is already up-to-date!\n",
      "[nltk_data] Downloading package wordnet to /home/jovyan/nltk_data...\n",
      "[nltk_data]   Package wordnet is already up-to-date!\n",
      "[nltk_data] Downloading package averaged_perceptron_tagger to\n",
      "[nltk_data]     /home/jovyan/nltk_data...\n",
      "[nltk_data]   Package averaged_perceptron_tagger is already up-to-\n",
      "[nltk_data]       date!\n",
      "[nltk_data] Downloading package maxent_treebank_pos_tagger to\n",
      "[nltk_data]     /home/jovyan/nltk_data...\n",
      "[nltk_data]   Package maxent_treebank_pos_tagger is already up-to-\n",
      "[nltk_data]       date!\n"
     ]
    }
   ],
   "source": [
    "from src.Import_Patent_Data import import_data\n",
    "#%load Import_Patent_Data.py \n",
    "from src.Clean_Abstracts import *"
   ]
  },
  {
   "cell_type": "code",
   "execution_count": 2,
   "metadata": {},
   "outputs": [],
   "source": [
    "df = import_data()"
   ]
  },
  {
   "cell_type": "code",
   "execution_count": 3,
   "metadata": {},
   "outputs": [],
   "source": [
    "#df.show()"
   ]
  },
  {
   "cell_type": "code",
   "execution_count": 4,
   "metadata": {},
   "outputs": [],
   "source": [
    "df_2019_A = patent_data_by_year_and_section(df,'2019','A')"
   ]
  },
  {
   "cell_type": "code",
   "execution_count": 5,
   "metadata": {},
   "outputs": [],
   "source": [
    "cleaned_df = clean_and_tokenize_abstract(df_2019_A)"
   ]
  },
  {
   "cell_type": "code",
   "execution_count": 6,
   "metadata": {},
   "outputs": [],
   "source": [
    "#cleaned_df.show()"
   ]
  },
  {
   "cell_type": "code",
   "execution_count": 7,
   "metadata": {},
   "outputs": [],
   "source": [
    "lem_df = lem_abstract(cleaned_df)"
   ]
  },
  {
   "cell_type": "code",
   "execution_count": 8,
   "metadata": {},
   "outputs": [
    {
     "name": "stdout",
     "output_type": "stream",
     "text": [
      "+-------+-------------------+--------------------+--------------------+----+----------+---------+--------------------+---------+----------+-------------+--------+--------------+-----------+--------+--------------------+--------------------+\n",
      "|   type|               date|            abstract|               title|kind|num_claims|withdrawn|                uuid|patent_id|section_id|subsection_id|group_id|   subgroup_id|   category|sequence|    abstract_cleaned|     abstract_lemmed|\n",
      "+-------+-------------------+--------------------+--------------------+----+----------+---------+--------------------+---------+----------+-------------+--------+--------------+-----------+--------+--------------------+--------------------+\n",
      "|utility|2019-01-01 00:00:00|The invention dis...|Animal models and...|  B2|        16|        0|1dlyg2eadxa2l6vm2...| 10165763|         A|          A01|    A01K|   A01K67/0271|inventional|       1|[invention, discl...|[invention, discl...|\n",
      "|utility|2019-01-01 00:00:00|The invention dis...|Animal models and...|  B2|        16|        0|2uu2ja8hkcch5m0ag...| 10165763|         A|          A01|    A01K|   A01K67/0278|inventional|       0|[invention, discl...|[invention, discl...|\n",
      "|utility|2019-01-01 00:00:00|The invention dis...|Animal models and...|  B2|        16|        0|36yr3kedt5l0ktx8c...| 10165763|         A|          A01|    A01K|  A01K2217/075| additional|      14|[invention, discl...|[invention, discl...|\n",
      "|utility|2019-01-01 00:00:00|The invention dis...|Animal models and...|  B2|        16|        0|80tzluma23miy9y03...| 10165763|         A|          A61|    A61K|  A61K2039/505| additional|      18|[invention, discl...|[invention, discl...|\n",
      "|utility|2019-01-01 00:00:00|The invention dis...|Animal models and...|  B2|        16|        0|9b2i6k8o8fgjtb2bm...| 10165763|         A|          A01|    A01K|   A01K67/0275|inventional|       2|[invention, discl...|[invention, discl...|\n",
      "|utility|2019-01-01 00:00:00|The invention dis...|Animal models and...|  B2|        16|        0|9m06ocygbapyr3fw2...| 10165763|         A|          A61|    A61K|     A61K39/35|inventional|       5|[invention, discl...|[invention, discl...|\n",
      "|utility|2019-01-01 00:00:00|The invention dis...|Animal models and...|  B2|        16|        0|bkol5j6xwetu6yk4q...| 10165763|         A|          A61|    A61K|    A61K39/107|inventional|       4|[invention, discl...|[invention, discl...|\n",
      "|utility|2019-01-01 00:00:00|The invention dis...|Animal models and...|  B2|        16|        0|gp716bcbhp4el9rb9...| 10165763|         A|          A01|    A01K|   A01K67/0276|inventional|       3|[invention, discl...|[invention, discl...|\n",
      "|utility|2019-01-01 00:00:00|The invention dis...|Animal models and...|  B2|        16|        0|hwhvlbd1v47k3h8sh...| 10165763|         A|          A01|    A01K|   A01K2207/15| additional|      12|[invention, discl...|[invention, discl...|\n",
      "|utility|2019-01-01 00:00:00|The invention dis...|Animal models and...|  B2|        16|        0|n6e84pgt8g4by8c4y...| 10165763|         A|          A01|    A01K|  A01K2217/072| additional|      13|[invention, discl...|[invention, discl...|\n",
      "|utility|2019-01-01 00:00:00|The invention dis...|Animal models and...|  B2|        16|        0|showa5kvo03u92ju4...| 10165763|         A|          A01|    A01K|  A01K2227/105| additional|      16|[invention, discl...|[invention, discl...|\n",
      "|utility|2019-01-01 00:00:00|The invention dis...|Animal models and...|  B2|        16|        0|xblci0lskp6h8z2vh...| 10165763|         A|          A01|    A01K|   A01K2267/01| additional|      17|[invention, discl...|[invention, discl...|\n",
      "|utility|2019-01-01 00:00:00|The invention dis...|Animal models and...|  B2|        16|        0|yq4mtaqe8wwaqht1d...| 10165763|         A|          A01|    A01K|   A01K2217/15| additional|      15|[invention, discl...|[invention, discl...|\n",
      "|utility|2019-01-01 00:00:00|A hookah system f...|       Hookah system|  B2|        15|        0|1w0a6493sy0rfwsud...| 10165796|         A|          A24|    A24F|      A24F1/30|inventional|       2|[hookah, system, ...|[hookah, system, ...|\n",
      "|utility|2019-01-01 00:00:00|A hookah system f...|       Hookah system|  B2|        15|        0|orw008upj6m2ig1sz...| 10165796|         A|          A24|    A24D|      A24D1/14|inventional|       1|[hookah, system, ...|[hookah, system, ...|\n",
      "|utility|2019-01-01 00:00:00|A hookah system f...|       Hookah system|  B2|        15|        0|rxdqy4jjuwr567wch...| 10165796|         A|          A24|    A24F|      A24F5/00|inventional|       0|[hookah, system, ...|[hookah, system, ...|\n",
      "|utility|2019-01-01 00:00:00|The present inven...|Minimally invasiv...|  B2|        12|        0|1qqfbttpydc7detwx...| 10166075|         A|          A61|    A61B|     A61B34/71|inventional|       0|[present, inventi...|[present, inventi...|\n",
      "|utility|2019-01-01 00:00:00|The present inven...|Minimally invasiv...|  B2|        12|        0|52hfn2cavdkm31jkw...| 10166075|         A|          A61|    A61B|A61B2017/00398| additional|       2|[present, inventi...|[present, inventi...|\n",
      "|utility|2019-01-01 00:00:00|The present inven...|Minimally invasiv...|  B2|        12|        0|8p5b436rl96ironwi...| 10166075|         A|          A61|    A61B| A61B2017/2925| additional|       3|[present, inventi...|[present, inventi...|\n",
      "|utility|2019-01-01 00:00:00|The present inven...|Minimally invasiv...|  B2|        12|        0|guivv0nmqt602g7jp...| 10166075|         A|          A61|    A61B| A61B2017/2927| additional|       4|[present, inventi...|[present, inventi...|\n",
      "+-------+-------------------+--------------------+--------------------+----+----------+---------+--------------------+---------+----------+-------------+--------+--------------+-----------+--------+--------------------+--------------------+\n",
      "only showing top 20 rows\n",
      "\n"
     ]
    }
   ],
   "source": [
    "lem_df.show()"
   ]
  },
  {
   "cell_type": "code",
   "execution_count": null,
   "metadata": {},
   "outputs": [],
   "source": []
  }
 ],
 "metadata": {
  "kernelspec": {
   "display_name": "Python 3",
   "language": "python",
   "name": "python3"
  },
  "language_info": {
   "codemirror_mode": {
    "name": "ipython",
    "version": 3
   },
   "file_extension": ".py",
   "mimetype": "text/x-python",
   "name": "python",
   "nbconvert_exporter": "python",
   "pygments_lexer": "ipython3",
   "version": "3.7.3"
  }
 },
 "nbformat": 4,
 "nbformat_minor": 4
}
