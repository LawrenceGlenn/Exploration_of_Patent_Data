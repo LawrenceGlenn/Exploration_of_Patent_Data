{
 "cells": [
  {
   "cell_type": "code",
   "execution_count": 1,
   "metadata": {},
   "outputs": [
    {
     "name": "stderr",
     "output_type": "stream",
     "text": [
      "[nltk_data] Downloading package stopwords to /home/jovyan/nltk_data...\n",
      "[nltk_data]   Package stopwords is already up-to-date!\n",
      "[nltk_data] Downloading package punkt to /home/jovyan/nltk_data...\n",
      "[nltk_data]   Package punkt is already up-to-date!\n",
      "[nltk_data] Downloading package wordnet to /home/jovyan/nltk_data...\n",
      "[nltk_data]   Package wordnet is already up-to-date!\n",
      "[nltk_data] Downloading package averaged_perceptron_tagger to\n",
      "[nltk_data]     /home/jovyan/nltk_data...\n",
      "[nltk_data]   Package averaged_perceptron_tagger is already up-to-\n",
      "[nltk_data]       date!\n",
      "[nltk_data] Downloading package maxent_treebank_pos_tagger to\n",
      "[nltk_data]     /home/jovyan/nltk_data...\n",
      "[nltk_data]   Package maxent_treebank_pos_tagger is already up-to-\n",
      "[nltk_data]       date!\n"
     ]
    }
   ],
   "source": [
    "from src.Import_Patent_Data import import_data\n",
    "#%load Import_Patent_Data.py \n",
    "from src.Clean_Abstracts import *"
   ]
  },
  {
   "cell_type": "code",
   "execution_count": 2,
   "metadata": {},
   "outputs": [],
   "source": [
    "df = import_data()"
   ]
  },
  {
   "cell_type": "code",
   "execution_count": 3,
   "metadata": {},
   "outputs": [],
   "source": [
    "#df.show()"
   ]
  },
  {
   "cell_type": "code",
   "execution_count": 4,
   "metadata": {},
   "outputs": [],
   "source": [
    "df_2019_A = patent_data_by_year_and_section(df,'2019','A')"
   ]
  },
  {
   "cell_type": "code",
   "execution_count": 17,
   "metadata": {},
   "outputs": [
    {
     "name": "stdout",
     "output_type": "stream",
     "text": [
      "+-------+-------------------+--------------------+--------------------+----+----------+---------+--------------------+---------+----------+-------------+--------+-----------+-----------+--------+\n",
      "|   type|               date|            abstract|               title|kind|num_claims|withdrawn|                uuid|patent_id|section_id|subsection_id|group_id|subgroup_id|   category|sequence|\n",
      "+-------+-------------------+--------------------+--------------------+----+----------+---------+--------------------+---------+----------+-------------+--------+-----------+-----------+--------+\n",
      "|utility|2019-01-01 00:00:00|A disc holder and...|Disc holder and s...|  B2|         4|        0|vk0js94mikipl2ol4...| 10165721|         A|          A01|    A01B| A01B21/086|inventional|       1|\n",
      "|utility|2019-01-01 00:00:00|A disc holder and...|Disc holder and s...|  B2|         4|        0|maldy8wnhwono3epy...| 10165721|         A|          A01|    A01B|  A01B23/06|inventional|       0|\n",
      "|utility|2019-01-01 00:00:00|Embodiments inclu...|    Scouting systems|  B2|        10|        0|lqt7b9w66da3dl2f3...| 10165722|         A|          A01|    A01B| A01B69/008|inventional|       0|\n",
      "|utility|2019-01-01 00:00:00|A seed treatment ...|Seed treatment ap...|  B2|        17|        0|gxvpzmv7y4uwgqxa5...| 10165723|         A|          A01|    A01C|   A01C1/06|inventional|       0|\n",
      "|utility|2019-01-01 00:00:00|A seed treatment ...|Seed treatment ap...|  B2|        17|        0|adflw2xfj9gnowtaq...| 10165723|         A|          A01|    A01C|   A01C1/08|inventional|       1|\n",
      "|utility|2019-01-01 00:00:00|A potato seed pla...|Potato seed plant...|  B2|        20|        0|zoaany23p7ozwvgtq...| 10165724|         A|          A01|    A01C|  A01C5/066|inventional|       2|\n",
      "|utility|2019-01-01 00:00:00|A potato seed pla...|Potato seed plant...|  B2|        20|        0|agqswksw5oxsw4kuy...| 10165724|         A|          A01|    A01C|   A01C9/08|inventional|       5|\n",
      "|utility|2019-01-01 00:00:00|A potato seed pla...|Potato seed plant...|  B2|        20|        0|cbwk1vmmijsh79i8m...| 10165724|         A|          A01|    A01C|   A01C9/02|inventional|       4|\n",
      "|utility|2019-01-01 00:00:00|A potato seed pla...|Potato seed plant...|  B2|        20|        0|y4az5djxe2p5vuv4k...| 10165724|         A|          A01|    A01C|  A01C19/02|inventional|       6|\n",
      "|utility|2019-01-01 00:00:00|A potato seed pla...|Potato seed plant...|  B2|        20|        0|pa4qng9472kc0eokt...| 10165724|         A|          A01|    A01C|  A01C7/042|inventional|       3|\n",
      "|utility|2019-01-01 00:00:00|A potato seed pla...|Potato seed plant...|  B2|        20|        0|gkfpz6hxe9kkam685...| 10165724|         A|          A01|    A01C| A01C21/005|inventional|       7|\n",
      "|utility|2019-01-01 00:00:00|A potato seed pla...|Potato seed plant...|  B2|        20|        0|27i5llx1uahhfml6k...| 10165724|         A|          A01|    A01C|  A01C5/062|inventional|       1|\n",
      "|utility|2019-01-01 00:00:00|A potato seed pla...|Potato seed plant...|  B2|        20|        0|nrb5ivpt0fqbncsoz...| 10165724|         A|          A01|    A01C|  A01C7/102|inventional|       0|\n",
      "|utility|2019-01-01 00:00:00|An agricultural m...|Controlling groun...|  B2|        18|        0|y4awq3hf9qq23gkp5...| 10165725|         A|          A01|    A01C| A01C23/007|inventional|       4|\n",
      "|utility|2019-01-01 00:00:00|An agricultural m...|Controlling groun...|  B2|        18|        0|5ne8foulaqt1tdooi...| 10165725|         A|          A01|    A01B| A01B79/005|inventional|       1|\n",
      "|utility|2019-01-01 00:00:00|An agricultural m...|Controlling groun...|  B2|        18|        0|lhy934ni6tqhl0ydj...| 10165725|         A|          A01|    A01C|  A01C14/00|inventional|       2|\n",
      "|utility|2019-01-01 00:00:00|An agricultural m...|Controlling groun...|  B2|        18|        0|uochbket62k0ijjm1...| 10165725|         A|          A01|    A01C|  A01C21/00|inventional|       3|\n",
      "|utility|2019-01-01 00:00:00|An agricultural m...|Controlling groun...|  B2|        18|        0|pkm9g1anz4lt4ljxp...| 10165725|         A|          A01|    A01C| A01C21/005|inventional|       0|\n",
      "|utility|2019-01-01 00:00:00|An agricultural v...|Agricultural head...|  B2|        18|        0|0affxunjj6b462382...| 10165726|         A|          A01|    A01D|A01D2101/00| additional|       3|\n",
      "|utility|2019-01-01 00:00:00|An agricultural v...|Agricultural head...|  B2|        18|        0|t9r2xqlrg5asnom12...| 10165726|         A|          A01|    A01D|  A01D41/06|inventional|       2|\n",
      "+-------+-------------------+--------------------+--------------------+----+----------+---------+--------------------+---------+----------+-------------+--------+-----------+-----------+--------+\n",
      "only showing top 20 rows\n",
      "\n"
     ]
    }
   ],
   "source": [
    "#df_2019_A.sort(col(\"patent_id\").asc()).show(20)"
   ]
  },
  {
   "cell_type": "code",
   "execution_count": 25,
   "metadata": {},
   "outputs": [
    {
     "name": "stdout",
     "output_type": "stream",
     "text": [
      "+---------+-------------+\n",
      "|patent_id|max(sequence)|\n",
      "+---------+-------------+\n",
      "| 10165763|           18|\n",
      "| 10165796|            2|\n",
      "| 10166075|            4|\n",
      "| 10166414|            0|\n",
      "| 10166456|            7|\n",
      "| 10166019|           49|\n",
      "| 10166051|            4|\n",
      "| 10166076|            6|\n",
      "| 10166210|            0|\n",
      "| 10166403|            0|\n",
      "| 10165758|            1|\n",
      "| 10165918|            4|\n",
      "| 10165964|           11|\n",
      "| 10166045|            2|\n",
      "| 10169534|            8|\n",
      "| 10165782|            0|\n",
      "| 10166148|           18|\n",
      "| 10168774|            4|\n",
      "| 10165889|            3|\n",
      "| 10166310|            3|\n",
      "+---------+-------------+\n",
      "only showing top 20 rows\n",
      "\n"
     ]
    }
   ],
   "source": [
    "#from pyspark.sql.functions import max\n",
    "#df_2019_A.groupby('patent_id').agg(max('sequence')).show(20)"
   ]
  },
  {
   "cell_type": "code",
   "execution_count": 28,
   "metadata": {},
   "outputs": [],
   "source": [
    "\n",
    "#mx = df_2019_A.groupby('patent_id').agg(max('sequence').alias(\"mx\")).select('mx')\n"
   ]
  },
  {
   "cell_type": "code",
   "execution_count": null,
   "metadata": {},
   "outputs": [],
   "source": []
  },
  {
   "cell_type": "code",
   "execution_count": 5,
   "metadata": {},
   "outputs": [],
   "source": [
    "cleaned_df = clean_and_tokenize_abstract(df_2019_A)"
   ]
  },
  {
   "cell_type": "code",
   "execution_count": 6,
   "metadata": {},
   "outputs": [],
   "source": [
    "#cleaned_df.show()"
   ]
  },
  {
   "cell_type": "code",
   "execution_count": 7,
   "metadata": {},
   "outputs": [],
   "source": [
    "lem_df = lem_abstract(cleaned_df)"
   ]
  },
  {
   "cell_type": "code",
   "execution_count": null,
   "metadata": {},
   "outputs": [],
   "source": [
    "#lem_df.show()"
   ]
  },
  {
   "cell_type": "code",
   "execution_count": 10,
   "metadata": {},
   "outputs": [
    {
     "name": "stdout",
     "output_type": "stream",
     "text": [
      "+-----------------------------------------------------------------------------------------------------------------------------------------------------------------------------------------------------------------------------------------------------------------------------------------------------------------------------------------------------------------------------------------------------------------------------------------------------------------------------------------------------------------------------------------------------------------------------------------------------------+\n",
      "|abstract_lemmed                                                                                                                                                                                                                                                                                                                                                                                                                                                                                                                                                                                            |\n",
      "+-----------------------------------------------------------------------------------------------------------------------------------------------------------------------------------------------------------------------------------------------------------------------------------------------------------------------------------------------------------------------------------------------------------------------------------------------------------------------------------------------------------------------------------------------------------------------------------------------------------+\n",
      "|[invention, discloses, method, generation, chimaeric, human, non, human, antibody, chimaeric, antibody, chain, antibody, antibody, chain, produced, derivative, thereof, including, fully, humanized, antibody, composition, comprising, said, antibody, antibody, chain, derivative, well, cell, non, human, mammal, vector, suitable, use, said, method]                                                                                                                                                                                                                                                 |\n",
      "|[invention, discloses, method, generation, chimaeric, human, non, human, antibody, chimaeric, antibody, chain, antibody, antibody, chain, produced, derivative, thereof, including, fully, humanized, antibody, composition, comprising, said, antibody, antibody, chain, derivative, well, cell, non, human, mammal, vector, suitable, use, said, method]                                                                                                                                                                                                                                                 |\n",
      "|[invention, discloses, method, generation, chimaeric, human, non, human, antibody, chimaeric, antibody, chain, antibody, antibody, chain, produced, derivative, thereof, including, fully, humanized, antibody, composition, comprising, said, antibody, antibody, chain, derivative, well, cell, non, human, mammal, vector, suitable, use, said, method]                                                                                                                                                                                                                                                 |\n",
      "|[invention, discloses, method, generation, chimaeric, human, non, human, antibody, chimaeric, antibody, chain, antibody, antibody, chain, produced, derivative, thereof, including, fully, humanized, antibody, composition, comprising, said, antibody, antibody, chain, derivative, well, cell, non, human, mammal, vector, suitable, use, said, method]                                                                                                                                                                                                                                                 |\n",
      "|[invention, discloses, method, generation, chimaeric, human, non, human, antibody, chimaeric, antibody, chain, antibody, antibody, chain, produced, derivative, thereof, including, fully, humanized, antibody, composition, comprising, said, antibody, antibody, chain, derivative, well, cell, non, human, mammal, vector, suitable, use, said, method]                                                                                                                                                                                                                                                 |\n",
      "|[invention, discloses, method, generation, chimaeric, human, non, human, antibody, chimaeric, antibody, chain, antibody, antibody, chain, produced, derivative, thereof, including, fully, humanized, antibody, composition, comprising, said, antibody, antibody, chain, derivative, well, cell, non, human, mammal, vector, suitable, use, said, method]                                                                                                                                                                                                                                                 |\n",
      "|[invention, discloses, method, generation, chimaeric, human, non, human, antibody, chimaeric, antibody, chain, antibody, antibody, chain, produced, derivative, thereof, including, fully, humanized, antibody, composition, comprising, said, antibody, antibody, chain, derivative, well, cell, non, human, mammal, vector, suitable, use, said, method]                                                                                                                                                                                                                                                 |\n",
      "|[invention, discloses, method, generation, chimaeric, human, non, human, antibody, chimaeric, antibody, chain, antibody, antibody, chain, produced, derivative, thereof, including, fully, humanized, antibody, composition, comprising, said, antibody, antibody, chain, derivative, well, cell, non, human, mammal, vector, suitable, use, said, method]                                                                                                                                                                                                                                                 |\n",
      "|[invention, discloses, method, generation, chimaeric, human, non, human, antibody, chimaeric, antibody, chain, antibody, antibody, chain, produced, derivative, thereof, including, fully, humanized, antibody, composition, comprising, said, antibody, antibody, chain, derivative, well, cell, non, human, mammal, vector, suitable, use, said, method]                                                                                                                                                                                                                                                 |\n",
      "|[invention, discloses, method, generation, chimaeric, human, non, human, antibody, chimaeric, antibody, chain, antibody, antibody, chain, produced, derivative, thereof, including, fully, humanized, antibody, composition, comprising, said, antibody, antibody, chain, derivative, well, cell, non, human, mammal, vector, suitable, use, said, method]                                                                                                                                                                                                                                                 |\n",
      "|[invention, discloses, method, generation, chimaeric, human, non, human, antibody, chimaeric, antibody, chain, antibody, antibody, chain, produced, derivative, thereof, including, fully, humanized, antibody, composition, comprising, said, antibody, antibody, chain, derivative, well, cell, non, human, mammal, vector, suitable, use, said, method]                                                                                                                                                                                                                                                 |\n",
      "|[invention, discloses, method, generation, chimaeric, human, non, human, antibody, chimaeric, antibody, chain, antibody, antibody, chain, produced, derivative, thereof, including, fully, humanized, antibody, composition, comprising, said, antibody, antibody, chain, derivative, well, cell, non, human, mammal, vector, suitable, use, said, method]                                                                                                                                                                                                                                                 |\n",
      "|[invention, discloses, method, generation, chimaeric, human, non, human, antibody, chimaeric, antibody, chain, antibody, antibody, chain, produced, derivative, thereof, including, fully, humanized, antibody, composition, comprising, said, antibody, antibody, chain, derivative, well, cell, non, human, mammal, vector, suitable, use, said, method]                                                                                                                                                                                                                                                 |\n",
      "|[hookah, system, smoking, product, may, comprise, head, assembly, base, assembly, head, assembly, may, include, capsule, cavity, member, bowl, ring, capsule, may, include, capsule, base, capsule, sidewall, capsule, interlock, capsule, shelf, cavity, member, may, include, cavity, base, shaft, extending, therefrom, axis, cavity, sidewall, cavity, interlock, configured, positioned, least, portion, capsule, interlock, cavity, shelf, bowl, may, include, bowl, sidewall, bowl, base, configured, engage, shaft, ring, may, configured, positioned, cavity, member, bowl]                       |\n",
      "|[hookah, system, smoking, product, may, comprise, head, assembly, base, assembly, head, assembly, may, include, capsule, cavity, member, bowl, ring, capsule, may, include, capsule, base, capsule, sidewall, capsule, interlock, capsule, shelf, cavity, member, may, include, cavity, base, shaft, extending, therefrom, axis, cavity, sidewall, cavity, interlock, configured, positioned, least, portion, capsule, interlock, cavity, shelf, bowl, may, include, bowl, sidewall, bowl, base, configured, engage, shaft, ring, may, configured, positioned, cavity, member, bowl]                       |\n",
      "|[hookah, system, smoking, product, may, comprise, head, assembly, base, assembly, head, assembly, may, include, capsule, cavity, member, bowl, ring, capsule, may, include, capsule, base, capsule, sidewall, capsule, interlock, capsule, shelf, cavity, member, may, include, cavity, base, shaft, extending, therefrom, axis, cavity, sidewall, cavity, interlock, configured, positioned, least, portion, capsule, interlock, cavity, shelf, bowl, may, include, bowl, sidewall, bowl, base, configured, engage, shaft, ring, may, configured, positioned, cavity, member, bowl]                       |\n",
      "|[present, invention, relates, minimally, invasive, surgical, instrument, implementing, motor, according, one, embodiment, present, invention, minimally, invasive, surgical, instrument, comprises, shaft, end, effector, connected, one, end, shaft, handle, unit, connected, end, shaft, handle, unit, includes, pair, linearly, moving, member, least, one, rotating, member, moving, pair, linear, moving, member, away, opposite, direction, driving, element, driving, said, least, one, rotating, member, pair, linearly, moving, member, operates, end, effector, pitch, direction, yaw, direction]|\n",
      "|[present, invention, relates, minimally, invasive, surgical, instrument, implementing, motor, according, one, embodiment, present, invention, minimally, invasive, surgical, instrument, comprises, shaft, end, effector, connected, one, end, shaft, handle, unit, connected, end, shaft, handle, unit, includes, pair, linearly, moving, member, least, one, rotating, member, moving, pair, linear, moving, member, away, opposite, direction, driving, element, driving, said, least, one, rotating, member, pair, linearly, moving, member, operates, end, effector, pitch, direction, yaw, direction]|\n",
      "|[present, invention, relates, minimally, invasive, surgical, instrument, implementing, motor, according, one, embodiment, present, invention, minimally, invasive, surgical, instrument, comprises, shaft, end, effector, connected, one, end, shaft, handle, unit, connected, end, shaft, handle, unit, includes, pair, linearly, moving, member, least, one, rotating, member, moving, pair, linear, moving, member, away, opposite, direction, driving, element, driving, said, least, one, rotating, member, pair, linearly, moving, member, operates, end, effector, pitch, direction, yaw, direction]|\n",
      "|[present, invention, relates, minimally, invasive, surgical, instrument, implementing, motor, according, one, embodiment, present, invention, minimally, invasive, surgical, instrument, comprises, shaft, end, effector, connected, one, end, shaft, handle, unit, connected, end, shaft, handle, unit, includes, pair, linearly, moving, member, least, one, rotating, member, moving, pair, linear, moving, member, away, opposite, direction, driving, element, driving, said, least, one, rotating, member, pair, linearly, moving, member, operates, end, effector, pitch, direction, yaw, direction]|\n",
      "+-----------------------------------------------------------------------------------------------------------------------------------------------------------------------------------------------------------------------------------------------------------------------------------------------------------------------------------------------------------------------------------------------------------------------------------------------------------------------------------------------------------------------------------------------------------------------------------------------------------+\n",
      "only showing top 20 rows\n",
      "\n"
     ]
    }
   ],
   "source": [
    "#lem_df.select('abstract_lemmed').show(20,False)"
   ]
  },
  {
   "cell_type": "code",
   "execution_count": 8,
   "metadata": {},
   "outputs": [],
   "source": [
    "from pyspark.ml.feature import CountVectorizer, IDF, Tokenizer\n",
    "def count_vectors(df):\n",
    "# vectorize\n",
    "    vectorizer = CountVectorizer(inputCol='abstract_lemmed', outputCol='abstract_vectorized').fit(df)\n",
    "    return vectorizer.transform(df)\n"
   ]
  },
  {
   "cell_type": "code",
   "execution_count": null,
   "metadata": {},
   "outputs": [],
   "source": [
    "vector_df = count_vectors(lem_df)"
   ]
  },
  {
   "cell_type": "code",
   "execution_count": 15,
   "metadata": {},
   "outputs": [
    {
     "name": "stdout",
     "output_type": "stream",
     "text": [
      "+----------------------------------------------------------------------------------------------------------------------------------------------------------------------------------------------------------------------------------------------------------------------------------------------------------------------------------------------------------+-------------------------------------------------------------------------------------------------------------------------------------------------------------------------------------------------------+\n",
      "|abstract_lemmed                                                                                                                                                                                                                                                                                                                                           |abstract_vectorized                                                                                                                                                                                    |\n",
      "+----------------------------------------------------------------------------------------------------------------------------------------------------------------------------------------------------------------------------------------------------------------------------------------------------------------------------------------------------------+-------------------------------------------------------------------------------------------------------------------------------------------------------------------------------------------------------+\n",
      "|[invention, discloses, method, generation, chimaeric, human, non, human, antibody, chimaeric, antibody, chain, antibody, antibody, chain, produced, derivative, thereof, including, fully, humanized, antibody, composition, comprising, said, antibody, antibody, chain, derivative, well, cell, non, human, mammal, vector, suitable, use, said, method]|(6854,[3,14,17,27,35,45,57,103,128,135,181,267,469,483,490,495,556,680,845,1712,1713,1733,2535,3725],[2.0,1.0,1.0,1.0,1.0,1.0,2.0,2.0,1.0,1.0,3.0,1.0,7.0,1.0,3.0,1.0,2.0,1.0,1.0,1.0,1.0,1.0,2.0,1.0])|\n",
      "|[invention, discloses, method, generation, chimaeric, human, non, human, antibody, chimaeric, antibody, chain, antibody, antibody, chain, produced, derivative, thereof, including, fully, humanized, antibody, composition, comprising, said, antibody, antibody, chain, derivative, well, cell, non, human, mammal, vector, suitable, use, said, method]|(6854,[3,14,17,27,35,45,57,103,128,135,181,267,469,483,490,495,556,680,845,1712,1713,1733,2535,3725],[2.0,1.0,1.0,1.0,1.0,1.0,2.0,2.0,1.0,1.0,3.0,1.0,7.0,1.0,3.0,1.0,2.0,1.0,1.0,1.0,1.0,1.0,2.0,1.0])|\n",
      "|[invention, discloses, method, generation, chimaeric, human, non, human, antibody, chimaeric, antibody, chain, antibody, antibody, chain, produced, derivative, thereof, including, fully, humanized, antibody, composition, comprising, said, antibody, antibody, chain, derivative, well, cell, non, human, mammal, vector, suitable, use, said, method]|(6854,[3,14,17,27,35,45,57,103,128,135,181,267,469,483,490,495,556,680,845,1712,1713,1733,2535,3725],[2.0,1.0,1.0,1.0,1.0,1.0,2.0,2.0,1.0,1.0,3.0,1.0,7.0,1.0,3.0,1.0,2.0,1.0,1.0,1.0,1.0,1.0,2.0,1.0])|\n",
      "|[invention, discloses, method, generation, chimaeric, human, non, human, antibody, chimaeric, antibody, chain, antibody, antibody, chain, produced, derivative, thereof, including, fully, humanized, antibody, composition, comprising, said, antibody, antibody, chain, derivative, well, cell, non, human, mammal, vector, suitable, use, said, method]|(6854,[3,14,17,27,35,45,57,103,128,135,181,267,469,483,490,495,556,680,845,1712,1713,1733,2535,3725],[2.0,1.0,1.0,1.0,1.0,1.0,2.0,2.0,1.0,1.0,3.0,1.0,7.0,1.0,3.0,1.0,2.0,1.0,1.0,1.0,1.0,1.0,2.0,1.0])|\n",
      "|[invention, discloses, method, generation, chimaeric, human, non, human, antibody, chimaeric, antibody, chain, antibody, antibody, chain, produced, derivative, thereof, including, fully, humanized, antibody, composition, comprising, said, antibody, antibody, chain, derivative, well, cell, non, human, mammal, vector, suitable, use, said, method]|(6854,[3,14,17,27,35,45,57,103,128,135,181,267,469,483,490,495,556,680,845,1712,1713,1733,2535,3725],[2.0,1.0,1.0,1.0,1.0,1.0,2.0,2.0,1.0,1.0,3.0,1.0,7.0,1.0,3.0,1.0,2.0,1.0,1.0,1.0,1.0,1.0,2.0,1.0])|\n",
      "+----------------------------------------------------------------------------------------------------------------------------------------------------------------------------------------------------------------------------------------------------------------------------------------------------------------------------------------------------------+-------------------------------------------------------------------------------------------------------------------------------------------------------------------------------------------------------+\n",
      "only showing top 5 rows\n",
      "\n"
     ]
    }
   ],
   "source": [
    "vector_df.select('abstract_lemmed','abstract_vectorized').show(5,False)"
   ]
  },
  {
   "cell_type": "code",
   "execution_count": null,
   "metadata": {},
   "outputs": [],
   "source": []
  }
 ],
 "metadata": {
  "kernelspec": {
   "display_name": "Python 3",
   "language": "python",
   "name": "python3"
  },
  "language_info": {
   "codemirror_mode": {
    "name": "ipython",
    "version": 3
   },
   "file_extension": ".py",
   "mimetype": "text/x-python",
   "name": "python",
   "nbconvert_exporter": "python",
   "pygments_lexer": "ipython3",
   "version": "3.7.3"
  }
 },
 "nbformat": 4,
 "nbformat_minor": 4
}
