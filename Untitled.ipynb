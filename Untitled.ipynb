{
 "cells": [
  {
   "cell_type": "code",
   "execution_count": 1,
   "metadata": {},
   "outputs": [
    {
     "name": "stderr",
     "output_type": "stream",
     "text": [
      "[nltk_data] Downloading package stopwords to /home/jovyan/nltk_data...\n",
      "[nltk_data]   Package stopwords is already up-to-date!\n",
      "[nltk_data] Downloading package punkt to /home/jovyan/nltk_data...\n",
      "[nltk_data]   Package punkt is already up-to-date!\n",
      "[nltk_data] Downloading package wordnet to /home/jovyan/nltk_data...\n",
      "[nltk_data]   Package wordnet is already up-to-date!\n",
      "[nltk_data] Downloading package averaged_perceptron_tagger to\n",
      "[nltk_data]     /home/jovyan/nltk_data...\n",
      "[nltk_data]   Package averaged_perceptron_tagger is already up-to-\n",
      "[nltk_data]       date!\n",
      "[nltk_data] Downloading package maxent_treebank_pos_tagger to\n",
      "[nltk_data]     /home/jovyan/nltk_data...\n",
      "[nltk_data]   Package maxent_treebank_pos_tagger is already up-to-\n",
      "[nltk_data]       date!\n"
     ]
    }
   ],
   "source": [
    "from src.Import_Patent_Data import import_data\n",
    "#%load Import_Patent_Data.py \n",
    "from src.Clean_Abstracts import *\n",
    "from src.Tfidf_on_Pandas import *\n",
    "from src.NMF_Analysis import *\n",
    "import matplotlib.pyplot as plt"
   ]
  },
  {
   "cell_type": "code",
   "execution_count": 20,
   "metadata": {},
   "outputs": [],
   "source": [
    "df = import_data()"
   ]
  },
  {
   "cell_type": "code",
   "execution_count": 21,
   "metadata": {},
   "outputs": [],
   "source": [
    "#df.show()"
   ]
  },
  {
   "cell_type": "code",
   "execution_count": 22,
   "metadata": {},
   "outputs": [],
   "source": [
    "df_2019_A = patent_data_by_year_and_section(df,'2019','A')"
   ]
  },
  {
   "cell_type": "code",
   "execution_count": 23,
   "metadata": {},
   "outputs": [],
   "source": [
    "#df_2019_A.sort(col(\"patent_id\").asc()).show(20)"
   ]
  },
  {
   "cell_type": "code",
   "execution_count": 24,
   "metadata": {},
   "outputs": [],
   "source": [
    "#from pyspark.sql.functions import max\n",
    "#df_2019_A.groupby('patent_id').agg(max('sequence')).show(20)"
   ]
  },
  {
   "cell_type": "code",
   "execution_count": 25,
   "metadata": {},
   "outputs": [],
   "source": [
    "\n",
    "#mx = df_2019_A.groupby('patent_id').agg(max('sequence').alias(\"mx\")).select('mx')\n"
   ]
  },
  {
   "cell_type": "code",
   "execution_count": null,
   "metadata": {},
   "outputs": [],
   "source": []
  },
  {
   "cell_type": "code",
   "execution_count": 26,
   "metadata": {},
   "outputs": [],
   "source": [
    "cleaned_df = clean_and_tokenize_abstract(df_2019_A)"
   ]
  },
  {
   "cell_type": "code",
   "execution_count": 27,
   "metadata": {},
   "outputs": [],
   "source": [
    "#cleaned_df.show()"
   ]
  },
  {
   "cell_type": "code",
   "execution_count": 28,
   "metadata": {},
   "outputs": [],
   "source": [
    "lem_df = lem_abstract(cleaned_df)"
   ]
  },
  {
   "cell_type": "code",
   "execution_count": 29,
   "metadata": {},
   "outputs": [],
   "source": [
    "#lem_df.show()"
   ]
  },
  {
   "cell_type": "code",
   "execution_count": 30,
   "metadata": {},
   "outputs": [],
   "source": [
    "#lem_df.select('abstract_lemmed').show(20,False)"
   ]
  },
  {
   "cell_type": "code",
   "execution_count": 31,
   "metadata": {},
   "outputs": [],
   "source": [
    "pd_df = lem_df.toPandas()"
   ]
  },
  {
   "cell_type": "code",
   "execution_count": 42,
   "metadata": {},
   "outputs": [],
   "source": [
    "pd_df.to_csv(\"data/temp/pd_2019_A.csv\", index=False, sep=\"|\")"
   ]
  },
  {
   "cell_type": "code",
   "execution_count": null,
   "metadata": {},
   "outputs": [],
   "source": []
  },
  {
   "cell_type": "code",
   "execution_count": null,
   "metadata": {},
   "outputs": [],
   "source": []
  },
  {
   "cell_type": "code",
   "execution_count": null,
   "metadata": {},
   "outputs": [],
   "source": []
  },
  {
   "cell_type": "code",
   "execution_count": null,
   "metadata": {},
   "outputs": [],
   "source": []
  },
  {
   "cell_type": "code",
   "execution_count": null,
   "metadata": {},
   "outputs": [],
   "source": []
  },
  {
   "cell_type": "code",
   "execution_count": null,
   "metadata": {},
   "outputs": [],
   "source": []
  },
  {
   "cell_type": "code",
   "execution_count": 2,
   "metadata": {},
   "outputs": [],
   "source": [
    "pd_df = pd.read_csv(\"data/temp/pd_2019_A.csv\", sep=\"|\")"
   ]
  },
  {
   "cell_type": "code",
   "execution_count": 3,
   "metadata": {},
   "outputs": [],
   "source": [
    "pd_df['abstract_lemmed'] = pd_df['abstract_lemmed'].str[1:-1]\n",
    "pd_df['abstract_lemmed'] = pd_df['abstract_lemmed'].str.replace(\"'\" ,\"\")\n",
    "pd_df['abstract_lemmed'] = pd_df['abstract_lemmed'].str.split(\", \")"
   ]
  },
  {
   "cell_type": "code",
   "execution_count": 4,
   "metadata": {},
   "outputs": [],
   "source": [
    "tfidf_matrix = tfidf_vector_matrix(pd_df,1,2)"
   ]
  },
  {
   "cell_type": "code",
   "execution_count": 5,
   "metadata": {},
   "outputs": [
    {
     "data": {
      "image/png": "[encoded data removed]",
      "text/plain": [
       "<Figure size 432x288 with 1 Axes>"
      ]
     },
     "metadata": {
      "needs_background": "light"
     },
     "output_type": "display_data"
    }
   ],
   "source": [
    "fig,ax = plt.subplots()\n",
    "plot_nmf_tfidf(ax,tfidf_matrix, 5)"
   ]
  },
  {
   "cell_type": "code",
   "execution_count": 6,
   "metadata": {},
   "outputs": [],
   "source": [
    "components = 2\n",
    "nmf=fit_nmf_tfidf(tfidf_matrix, components)\n",
    "W = nmf.transform(tfidf_matrix)\n",
    "H = nmf.components_\n"
   ]
  },
  {
   "cell_type": "code",
   "execution_count": 7,
   "metadata": {},
   "outputs": [
    {
     "data": {
      "text/html": [
       "<div>\n",
       "<style scoped>\n",
       "    .dataframe tbody tr th:only-of-type {\n",
       "        vertical-align: middle;\n",
       "    }\n",
       "\n",
       "    .dataframe tbody tr th {\n",
       "        vertical-align: top;\n",
       "    }\n",
       "\n",
       "    .dataframe thead th {\n",
       "        text-align: right;\n",
       "    }\n",
       "</style>\n",
       "<table border=\"1\" class=\"dataframe\">\n",
       "  <thead>\n",
       "    <tr style=\"text-align: right;\">\n",
       "      <th></th>\n",
       "      <th>0</th>\n",
       "      <th>1</th>\n",
       "    </tr>\n",
       "    <tr>\n",
       "      <th>title</th>\n",
       "      <th></th>\n",
       "      <th></th>\n",
       "    </tr>\n",
       "  </thead>\n",
       "  <tbody>\n",
       "    <tr>\n",
       "      <th>Disc holder and scraper construction for disc harrows</th>\n",
       "      <td>0.03</td>\n",
       "      <td>0.00</td>\n",
       "    </tr>\n",
       "    <tr>\n",
       "      <th>Seed treatment apparatus</th>\n",
       "      <td>0.02</td>\n",
       "      <td>0.05</td>\n",
       "    </tr>\n",
       "    <tr>\n",
       "      <th>Potato seed planting apparatus and method of planting potato seed using the apparatus</th>\n",
       "      <td>0.06</td>\n",
       "      <td>0.00</td>\n",
       "    </tr>\n",
       "    <tr>\n",
       "      <th>Agricultural header with multiple knife drives</th>\n",
       "      <td>0.07</td>\n",
       "      <td>0.00</td>\n",
       "    </tr>\n",
       "    <tr>\n",
       "      <th>Trimmer head</th>\n",
       "      <td>0.06</td>\n",
       "      <td>0.00</td>\n",
       "    </tr>\n",
       "    <tr>\n",
       "      <th>...</th>\n",
       "      <td>...</td>\n",
       "      <td>...</td>\n",
       "    </tr>\n",
       "    <tr>\n",
       "      <th>Wearable computing device for monitoring hazards</th>\n",
       "      <td>0.07</td>\n",
       "      <td>0.06</td>\n",
       "    </tr>\n",
       "    <tr>\n",
       "      <th>Conflict resolution enhancement system</th>\n",
       "      <td>0.04</td>\n",
       "      <td>0.05</td>\n",
       "    </tr>\n",
       "    <tr>\n",
       "      <th>Motion information display apparatus and method</th>\n",
       "      <td>0.03</td>\n",
       "      <td>0.02</td>\n",
       "    </tr>\n",
       "    <tr>\n",
       "      <th>Multi-dimensional surgical safety countermeasure system</th>\n",
       "      <td>0.03</td>\n",
       "      <td>0.03</td>\n",
       "    </tr>\n",
       "    <tr>\n",
       "      <th>Ignition suppression circuiting technology</th>\n",
       "      <td>0.04</td>\n",
       "      <td>0.00</td>\n",
       "    </tr>\n",
       "  </tbody>\n",
       "</table>\n",
       "<p>578 rows × 2 columns</p>\n",
       "</div>"
      ],
      "text/plain": [
       "                                                       0     1\n",
       "title                                                         \n",
       "Disc holder and scraper construction for disc h...  0.03  0.00\n",
       "Seed treatment apparatus                            0.02  0.05\n",
       "Potato seed planting apparatus and method of pl...  0.06  0.00\n",
       "Agricultural header with multiple knife drives      0.07  0.00\n",
       "Trimmer head                                        0.06  0.00\n",
       "...                                                  ...   ...\n",
       "Wearable computing device for monitoring hazards    0.07  0.06\n",
       "Conflict resolution enhancement system              0.04  0.05\n",
       "Motion information display apparatus and method     0.03  0.02\n",
       "Multi-dimensional surgical safety countermeasur...  0.03  0.03\n",
       "Ignition suppression circuiting technology          0.04  0.00\n",
       "\n",
       "[578 rows x 2 columns]"
      ]
     },
     "metadata": {},
     "output_type": "display_data"
    },
    {
     "data": {
      "text/html": [
       "<div>\n",
       "<style scoped>\n",
       "    .dataframe tbody tr th:only-of-type {\n",
       "        vertical-align: middle;\n",
       "    }\n",
       "\n",
       "    .dataframe tbody tr th {\n",
       "        vertical-align: top;\n",
       "    }\n",
       "\n",
       "    .dataframe thead th {\n",
       "        text-align: right;\n",
       "    }\n",
       "</style>\n",
       "<table border=\"1\" class=\"dataframe\">\n",
       "  <thead>\n",
       "    <tr style=\"text-align: right;\">\n",
       "      <th></th>\n",
       "      <th>aa</th>\n",
       "      <th>aa phosphatidylcholine</th>\n",
       "      <th>abdomen</th>\n",
       "      <th>abdomen food</th>\n",
       "      <th>abdomen manner</th>\n",
       "      <th>abdominal</th>\n",
       "      <th>abdominal part</th>\n",
       "      <th>abdominal surgery</th>\n",
       "      <th>abdominal wall</th>\n",
       "      <th>aberrant</th>\n",
       "      <th>...</th>\n",
       "      <th>zone dental</th>\n",
       "      <th>zone disposed</th>\n",
       "      <th>zone forward</th>\n",
       "      <th>zone guidance</th>\n",
       "      <th>zone head</th>\n",
       "      <th>zone identified</th>\n",
       "      <th>zone implanted</th>\n",
       "      <th>zone second</th>\n",
       "      <th>zone third</th>\n",
       "      <th>zone wherein</th>\n",
       "    </tr>\n",
       "  </thead>\n",
       "  <tbody>\n",
       "    <tr>\n",
       "      <th>0</th>\n",
       "      <td>0.00</td>\n",
       "      <td>0.00</td>\n",
       "      <td>0.0</td>\n",
       "      <td>0.0</td>\n",
       "      <td>0.0</td>\n",
       "      <td>0.0</td>\n",
       "      <td>0.0</td>\n",
       "      <td>0.0</td>\n",
       "      <td>0.0</td>\n",
       "      <td>0.00</td>\n",
       "      <td>...</td>\n",
       "      <td>0.0</td>\n",
       "      <td>0.0</td>\n",
       "      <td>0.0</td>\n",
       "      <td>0.0</td>\n",
       "      <td>0.0</td>\n",
       "      <td>0.0</td>\n",
       "      <td>0.0</td>\n",
       "      <td>0.0</td>\n",
       "      <td>0.0</td>\n",
       "      <td>0.0</td>\n",
       "    </tr>\n",
       "    <tr>\n",
       "      <th>1</th>\n",
       "      <td>0.01</td>\n",
       "      <td>0.01</td>\n",
       "      <td>0.0</td>\n",
       "      <td>0.0</td>\n",
       "      <td>0.0</td>\n",
       "      <td>0.0</td>\n",
       "      <td>0.0</td>\n",
       "      <td>0.0</td>\n",
       "      <td>0.0</td>\n",
       "      <td>0.01</td>\n",
       "      <td>...</td>\n",
       "      <td>0.0</td>\n",
       "      <td>0.0</td>\n",
       "      <td>0.0</td>\n",
       "      <td>0.0</td>\n",
       "      <td>0.0</td>\n",
       "      <td>0.0</td>\n",
       "      <td>0.0</td>\n",
       "      <td>0.0</td>\n",
       "      <td>0.0</td>\n",
       "      <td>0.0</td>\n",
       "    </tr>\n",
       "  </tbody>\n",
       "</table>\n",
       "<p>2 rows × 28932 columns</p>\n",
       "</div>"
      ],
      "text/plain": [
       "     aa  aa phosphatidylcholine  abdomen  abdomen food  abdomen manner  \\\n",
       "0  0.00                    0.00      0.0           0.0             0.0   \n",
       "1  0.01                    0.01      0.0           0.0             0.0   \n",
       "\n",
       "   abdominal  abdominal part  abdominal surgery  abdominal wall  aberrant  \\\n",
       "0        0.0             0.0                0.0             0.0      0.00   \n",
       "1        0.0             0.0                0.0             0.0      0.01   \n",
       "\n",
       "   ...  zone dental  zone disposed  zone forward  zone guidance  zone head  \\\n",
       "0  ...          0.0            0.0           0.0            0.0        0.0   \n",
       "1  ...          0.0            0.0           0.0            0.0        0.0   \n",
       "\n",
       "   zone identified  zone implanted  zone second  zone third  zone wherein  \n",
       "0              0.0             0.0          0.0         0.0           0.0  \n",
       "1              0.0             0.0          0.0         0.0           0.0  \n",
       "\n",
       "[2 rows x 28932 columns]"
      ]
     },
     "metadata": {},
     "output_type": "display_data"
    }
   ],
   "source": [
    "display_W_H(W,H,pd_df['title'],tfidf_matrix.columns, components)"
   ]
  },
  {
   "cell_type": "code",
   "execution_count": 8,
   "metadata": {},
   "outputs": [
    {
     "name": "stdout",
     "output_type": "stream",
     "text": [
      "      first    second   portion       end    member    device      body  \\\n",
      "0  0.490587  0.420552  0.362084  0.310741  0.266561  0.266193  0.256943   \n",
      "\n",
      "   includes       one  assembly  \n",
      "0  0.228276  0.223573  0.216247  \n",
      "   composition  invention  compound  present  present invention    method  \\\n",
      "1     0.453442   0.315404  0.277982  0.27768           0.262001  0.247419   \n",
      "\n",
      "    relates  comprising  invention relates  thereof  \n",
      "1  0.218378     0.18907           0.184814  0.18391  \n"
     ]
    }
   ],
   "source": [
    "top_words(H,tfidf_matrix.columns,10)"
   ]
  },
  {
   "cell_type": "code",
   "execution_count": 12,
   "metadata": {},
   "outputs": [
    {
     "name": "stderr",
     "output_type": "stream",
     "text": [
      "/home/jovyan/work/src/NMF_Analysis.py:39: SettingWithCopyWarning: \n",
      "A value is trying to be set on a copy of a slice from a DataFrame\n",
      "\n",
      "See the caveats in the documentation: http://pandas.pydata.org/pandas-docs/stable/user_guide/indexing.html#returning-a-view-versus-a-copy\n",
      "  df['abstract_lemmed'][i]=[x for x in row if x not in rm]\n"
     ]
    },
    {
     "data": {
      "image/png": "[encoded data removed]",
      "text/plain": [
       "<Figure size 432x288 with 1 Axes>"
      ]
     },
     "metadata": {
      "needs_background": "light"
     },
     "output_type": "display_data"
    }
   ],
   "source": [
    "remove_words = ['first','second','invention']\n",
    "temp_df = remove_words_from_df(pd_df,remove_words)\n",
    "tfidf_matrix = tfidf_vector_matrix(temp_df,1,2)\n",
    "fig,ax = plt.subplots()\n",
    "plot_nmf_tfidf(ax,tfidf_matrix, 5)"
   ]
  },
  {
   "cell_type": "code",
   "execution_count": 13,
   "metadata": {},
   "outputs": [
    {
     "name": "stdout",
     "output_type": "stream",
     "text": [
      "    portion       end    member    device      body      one  includes  \\\n",
      "0  0.396599  0.340514  0.301832  0.294076  0.273294  0.24703  0.243666   \n",
      "\n",
      "   assembly     least   surface  \n",
      "0  0.227038  0.225744  0.218236  \n",
      "   composition  compound    method   present   relates   thereof  comprising  \\\n",
      "1     0.467553  0.286846  0.255112  0.237968  0.192223  0.187236    0.185047   \n",
      "\n",
      "   pharmaceutical   subject  treatment  \n",
      "1        0.173587  0.170971   0.168409  \n"
     ]
    }
   ],
   "source": [
    "components = 2\n",
    "nmf=fit_nmf_tfidf(tfidf_matrix, components)\n",
    "W = nmf.transform(tfidf_matrix)\n",
    "H = nmf.components_\n",
    "top_words(H,tfidf_matrix.columns,10)"
   ]
  },
  {
   "cell_type": "code",
   "execution_count": 14,
   "metadata": {},
   "outputs": [
    {
     "data": {
      "text/html": [
       "<div>\n",
       "<style scoped>\n",
       "    .dataframe tbody tr th:only-of-type {\n",
       "        vertical-align: middle;\n",
       "    }\n",
       "\n",
       "    .dataframe tbody tr th {\n",
       "        vertical-align: top;\n",
       "    }\n",
       "\n",
       "    .dataframe thead th {\n",
       "        text-align: right;\n",
       "    }\n",
       "</style>\n",
       "<table border=\"1\" class=\"dataframe\">\n",
       "  <thead>\n",
       "    <tr style=\"text-align: right;\">\n",
       "      <th></th>\n",
       "      <th>type</th>\n",
       "      <th>date</th>\n",
       "      <th>abstract</th>\n",
       "      <th>title</th>\n",
       "      <th>kind</th>\n",
       "      <th>num_claims</th>\n",
       "      <th>withdrawn</th>\n",
       "      <th>uuid</th>\n",
       "      <th>patent_id</th>\n",
       "      <th>section_id</th>\n",
       "      <th>subsection_id</th>\n",
       "      <th>group_id</th>\n",
       "      <th>subgroup_id</th>\n",
       "      <th>category</th>\n",
       "      <th>sequence</th>\n",
       "      <th>abstract_lemmed</th>\n",
       "    </tr>\n",
       "  </thead>\n",
       "  <tbody>\n",
       "    <tr>\n",
       "      <th>0</th>\n",
       "      <td>utility</td>\n",
       "      <td>2019-01-01</td>\n",
       "      <td>A disc holder and scraper construction for dis...</td>\n",
       "      <td>Disc holder and scraper construction for disc ...</td>\n",
       "      <td>B2</td>\n",
       "      <td>4</td>\n",
       "      <td>0</td>\n",
       "      <td>vk0js94mikipl2ol4x2i4v9x0</td>\n",
       "      <td>10165721</td>\n",
       "      <td>A</td>\n",
       "      <td>A01</td>\n",
       "      <td>A01B</td>\n",
       "      <td>A01B21/086</td>\n",
       "      <td>inventional</td>\n",
       "      <td>1</td>\n",
       "      <td>[disc, holder, scraper, construction, disc, ha...</td>\n",
       "    </tr>\n",
       "    <tr>\n",
       "      <th>1</th>\n",
       "      <td>utility</td>\n",
       "      <td>2019-01-01</td>\n",
       "      <td>A seed treatment apparatus provides for minima...</td>\n",
       "      <td>Seed treatment apparatus</td>\n",
       "      <td>B2</td>\n",
       "      <td>17</td>\n",
       "      <td>0</td>\n",
       "      <td>adflw2xfj9gnowtaqvkwdu7jy</td>\n",
       "      <td>10165723</td>\n",
       "      <td>A</td>\n",
       "      <td>A01</td>\n",
       "      <td>A01C</td>\n",
       "      <td>A01C1/08</td>\n",
       "      <td>inventional</td>\n",
       "      <td>1</td>\n",
       "      <td>[seed, treatment, apparatus, provides, minimal...</td>\n",
       "    </tr>\n",
       "    <tr>\n",
       "      <th>2</th>\n",
       "      <td>utility</td>\n",
       "      <td>2019-01-01</td>\n",
       "      <td>A potato seed planting apparatus has: a frame ...</td>\n",
       "      <td>Potato seed planting apparatus and method of p...</td>\n",
       "      <td>B2</td>\n",
       "      <td>20</td>\n",
       "      <td>0</td>\n",
       "      <td>gkfpz6hxe9kkam6856tccnwt4</td>\n",
       "      <td>10165724</td>\n",
       "      <td>A</td>\n",
       "      <td>A01</td>\n",
       "      <td>A01C</td>\n",
       "      <td>A01C21/005</td>\n",
       "      <td>inventional</td>\n",
       "      <td>7</td>\n",
       "      <td>[potato, seed, planting, apparatus, frame, con...</td>\n",
       "    </tr>\n",
       "    <tr>\n",
       "      <th>3</th>\n",
       "      <td>utility</td>\n",
       "      <td>2019-01-01</td>\n",
       "      <td>An agricultural vehicle that includes a chassi...</td>\n",
       "      <td>Agricultural header with multiple knife drives</td>\n",
       "      <td>B2</td>\n",
       "      <td>18</td>\n",
       "      <td>0</td>\n",
       "      <td>0affxunjj6b462382o8g0s2ht</td>\n",
       "      <td>10165726</td>\n",
       "      <td>A</td>\n",
       "      <td>A01</td>\n",
       "      <td>A01D</td>\n",
       "      <td>A01D2101/00</td>\n",
       "      <td>additional</td>\n",
       "      <td>3</td>\n",
       "      <td>[agricultural, vehicle, includes, chassis, hea...</td>\n",
       "    </tr>\n",
       "    <tr>\n",
       "      <th>4</th>\n",
       "      <td>utility</td>\n",
       "      <td>2019-01-01</td>\n",
       "      <td>A trimmer head that includes a casing to be co...</td>\n",
       "      <td>Trimmer head</td>\n",
       "      <td>B2</td>\n",
       "      <td>7</td>\n",
       "      <td>0</td>\n",
       "      <td>gkj3i3i6t66j48axvswbhjsnv</td>\n",
       "      <td>10165727</td>\n",
       "      <td>A</td>\n",
       "      <td>A01</td>\n",
       "      <td>A01D</td>\n",
       "      <td>A01D34/4166</td>\n",
       "      <td>inventional</td>\n",
       "      <td>2</td>\n",
       "      <td>[trimmer, head, includes, casing, coupled, dri...</td>\n",
       "    </tr>\n",
       "  </tbody>\n",
       "</table>\n",
       "</div>"
      ],
      "text/plain": [
       "      type        date                                           abstract  \\\n",
       "0  utility  2019-01-01  A disc holder and scraper construction for dis...   \n",
       "1  utility  2019-01-01  A seed treatment apparatus provides for minima...   \n",
       "2  utility  2019-01-01  A potato seed planting apparatus has: a frame ...   \n",
       "3  utility  2019-01-01  An agricultural vehicle that includes a chassi...   \n",
       "4  utility  2019-01-01  A trimmer head that includes a casing to be co...   \n",
       "\n",
       "                                               title kind  num_claims  \\\n",
       "0  Disc holder and scraper construction for disc ...   B2           4   \n",
       "1                           Seed treatment apparatus   B2          17   \n",
       "2  Potato seed planting apparatus and method of p...   B2          20   \n",
       "3     Agricultural header with multiple knife drives   B2          18   \n",
       "4                                       Trimmer head   B2           7   \n",
       "\n",
       "   withdrawn                       uuid  patent_id section_id subsection_id  \\\n",
       "0          0  vk0js94mikipl2ol4x2i4v9x0   10165721          A           A01   \n",
       "1          0  adflw2xfj9gnowtaqvkwdu7jy   10165723          A           A01   \n",
       "2          0  gkfpz6hxe9kkam6856tccnwt4   10165724          A           A01   \n",
       "3          0  0affxunjj6b462382o8g0s2ht   10165726          A           A01   \n",
       "4          0  gkj3i3i6t66j48axvswbhjsnv   10165727          A           A01   \n",
       "\n",
       "  group_id  subgroup_id     category  sequence  \\\n",
       "0     A01B   A01B21/086  inventional         1   \n",
       "1     A01C     A01C1/08  inventional         1   \n",
       "2     A01C   A01C21/005  inventional         7   \n",
       "3     A01D  A01D2101/00   additional         3   \n",
       "4     A01D  A01D34/4166  inventional         2   \n",
       "\n",
       "                                     abstract_lemmed  \n",
       "0  [disc, holder, scraper, construction, disc, ha...  \n",
       "1  [seed, treatment, apparatus, provides, minimal...  \n",
       "2  [potato, seed, planting, apparatus, frame, con...  \n",
       "3  [agricultural, vehicle, includes, chassis, hea...  \n",
       "4  [trimmer, head, includes, casing, coupled, dri...  "
      ]
     },
     "execution_count": 14,
     "metadata": {},
     "output_type": "execute_result"
    }
   ],
   "source": []
  },
  {
   "cell_type": "code",
   "execution_count": null,
   "metadata": {},
   "outputs": [],
   "source": []
  },
  {
   "cell_type": "code",
   "execution_count": 23,
   "metadata": {},
   "outputs": [
    {
     "data": {
      "text/html": [
       "<div>\n",
       "<style scoped>\n",
       "    .dataframe tbody tr th:only-of-type {\n",
       "        vertical-align: middle;\n",
       "    }\n",
       "\n",
       "    .dataframe tbody tr th {\n",
       "        vertical-align: top;\n",
       "    }\n",
       "\n",
       "    .dataframe thead th {\n",
       "        text-align: right;\n",
       "    }\n",
       "</style>\n",
       "<table border=\"1\" class=\"dataframe\">\n",
       "  <thead>\n",
       "    <tr style=\"text-align: right;\">\n",
       "      <th></th>\n",
       "      <th>first</th>\n",
       "      <th>second</th>\n",
       "      <th>portion</th>\n",
       "      <th>end</th>\n",
       "      <th>member</th>\n",
       "      <th>body</th>\n",
       "      <th>device</th>\n",
       "      <th>surface</th>\n",
       "      <th>includes</th>\n",
       "      <th>assembly</th>\n",
       "    </tr>\n",
       "  </thead>\n",
       "  <tbody>\n",
       "    <tr>\n",
       "      <th>0</th>\n",
       "      <td>0.630832</td>\n",
       "      <td>0.536768</td>\n",
       "      <td>0.467392</td>\n",
       "      <td>0.393686</td>\n",
       "      <td>0.361</td>\n",
       "      <td>0.333459</td>\n",
       "      <td>0.328426</td>\n",
       "      <td>0.284906</td>\n",
       "      <td>0.281161</td>\n",
       "      <td>0.26625</td>\n",
       "    </tr>\n",
       "    <tr>\n",
       "      <th>1</th>\n",
       "      <td>0.000000</td>\n",
       "      <td>0.000000</td>\n",
       "      <td>0.000000</td>\n",
       "      <td>0.000000</td>\n",
       "      <td>0.000</td>\n",
       "      <td>0.000000</td>\n",
       "      <td>0.088416</td>\n",
       "      <td>0.000000</td>\n",
       "      <td>0.030250</td>\n",
       "      <td>0.00000</td>\n",
       "    </tr>\n",
       "  </tbody>\n",
       "</table>\n",
       "</div>"
      ],
      "text/plain": [
       "      first    second   portion       end  member      body    device  \\\n",
       "0  0.630832  0.536768  0.467392  0.393686   0.361  0.333459  0.328426   \n",
       "1  0.000000  0.000000  0.000000  0.000000   0.000  0.000000  0.088416   \n",
       "\n",
       "    surface  includes  assembly  \n",
       "0  0.284906  0.281161   0.26625  \n",
       "1  0.000000  0.030250   0.00000  "
      ]
     },
     "execution_count": 23,
     "metadata": {},
     "output_type": "execute_result"
    }
   ],
   "source": [
    "H.sort_values(by=0, ascending=False,axis=1).iloc[:,:10]"
   ]
  },
  {
   "cell_type": "code",
   "execution_count": 25,
   "metadata": {},
   "outputs": [
    {
     "name": "stdout",
     "output_type": "stream",
     "text": [
      "   composition  invention  compound    method   present   relates  comprising  \\\n",
      "1     0.621202   0.388406   0.38435  0.342035  0.337365  0.268296    0.250998   \n",
      "\n",
      "    thereof  treatment  pharmaceutical  \n",
      "1  0.250159   0.233263        0.225105  \n"
     ]
    }
   ],
   "source": [
    "print(H.sort_values(by=1, ascending=False,axis=1).iloc[1:2,:10])"
   ]
  },
  {
   "cell_type": "code",
   "execution_count": null,
   "metadata": {},
   "outputs": [],
   "source": []
  }
 ],
 "metadata": {
  "kernelspec": {
   "display_name": "Python 3",
   "language": "python",
   "name": "python3"
  },
  "language_info": {
   "codemirror_mode": {
    "name": "ipython",
    "version": 3
   },
   "file_extension": ".py",
   "mimetype": "text/x-python",
   "name": "python",
   "nbconvert_exporter": "python",
   "pygments_lexer": "ipython3",
   "version": "3.7.3"
  }
 },
 "nbformat": 4,
 "nbformat_minor": 4
}
