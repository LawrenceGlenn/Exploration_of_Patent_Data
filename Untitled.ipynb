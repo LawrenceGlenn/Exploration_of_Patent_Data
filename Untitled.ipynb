{
 "cells": [
  {
   "cell_type": "code",
   "execution_count": 1,
   "metadata": {},
   "outputs": [
    {
     "name": "stderr",
     "output_type": "stream",
     "text": [
      "[nltk_data] Downloading package stopwords to /home/jovyan/nltk_data...\n",
      "[nltk_data]   Package stopwords is already up-to-date!\n",
      "[nltk_data] Downloading package punkt to /home/jovyan/nltk_data...\n",
      "[nltk_data]   Package punkt is already up-to-date!\n",
      "[nltk_data] Downloading package wordnet to /home/jovyan/nltk_data...\n",
      "[nltk_data]   Package wordnet is already up-to-date!\n",
      "[nltk_data] Downloading package averaged_perceptron_tagger to\n",
      "[nltk_data]     /home/jovyan/nltk_data...\n",
      "[nltk_data]   Package averaged_perceptron_tagger is already up-to-\n",
      "[nltk_data]       date!\n",
      "[nltk_data] Downloading package maxent_treebank_pos_tagger to\n",
      "[nltk_data]     /home/jovyan/nltk_data...\n",
      "[nltk_data]   Package maxent_treebank_pos_tagger is already up-to-\n",
      "[nltk_data]       date!\n"
     ]
    }
   ],
   "source": [
    "from src.Import_Patent_Data import import_data\n",
    "#%load Import_Patent_Data.py \n",
    "from src.Clean_Abstracts import *\n",
    "from src.Tfidf_on_Pandas import *\n",
    "from src.NMF_Analysis import *\n",
    "import matplotlib.pyplot as plt"
   ]
  },
  {
   "cell_type": "code",
   "execution_count": 20,
   "metadata": {},
   "outputs": [],
   "source": [
    "df = import_data()"
   ]
  },
  {
   "cell_type": "code",
   "execution_count": 21,
   "metadata": {},
   "outputs": [],
   "source": [
    "#df.show()"
   ]
  },
  {
   "cell_type": "code",
   "execution_count": 22,
   "metadata": {},
   "outputs": [],
   "source": [
    "df_2019_A = patent_data_by_year_and_section(df,'2019','A')"
   ]
  },
  {
   "cell_type": "code",
   "execution_count": 23,
   "metadata": {},
   "outputs": [],
   "source": [
    "#df_2019_A.sort(col(\"patent_id\").asc()).show(20)"
   ]
  },
  {
   "cell_type": "code",
   "execution_count": 24,
   "metadata": {},
   "outputs": [],
   "source": [
    "#from pyspark.sql.functions import max\n",
    "#df_2019_A.groupby('patent_id').agg(max('sequence')).show(20)"
   ]
  },
  {
   "cell_type": "code",
   "execution_count": 25,
   "metadata": {},
   "outputs": [],
   "source": [
    "\n",
    "#mx = df_2019_A.groupby('patent_id').agg(max('sequence').alias(\"mx\")).select('mx')\n"
   ]
  },
  {
   "cell_type": "code",
   "execution_count": null,
   "metadata": {},
   "outputs": [],
   "source": []
  },
  {
   "cell_type": "code",
   "execution_count": 26,
   "metadata": {},
   "outputs": [],
   "source": [
    "cleaned_df = clean_and_tokenize_abstract(df_2019_A)"
   ]
  },
  {
   "cell_type": "code",
   "execution_count": 27,
   "metadata": {},
   "outputs": [],
   "source": [
    "#cleaned_df.show()"
   ]
  },
  {
   "cell_type": "code",
   "execution_count": 28,
   "metadata": {},
   "outputs": [],
   "source": [
    "lem_df = lem_abstract(cleaned_df)"
   ]
  },
  {
   "cell_type": "code",
   "execution_count": 29,
   "metadata": {},
   "outputs": [],
   "source": [
    "#lem_df.show()"
   ]
  },
  {
   "cell_type": "code",
   "execution_count": 30,
   "metadata": {},
   "outputs": [],
   "source": [
    "#lem_df.select('abstract_lemmed').show(20,False)"
   ]
  },
  {
   "cell_type": "code",
   "execution_count": 31,
   "metadata": {},
   "outputs": [],
   "source": [
    "pd_df = lem_df.toPandas()"
   ]
  },
  {
   "cell_type": "code",
   "execution_count": 42,
   "metadata": {},
   "outputs": [],
   "source": [
    "pd_df.to_csv(\"data/temp/pd_2019_A.csv\", index=False, sep=\"|\")"
   ]
  },
  {
   "cell_type": "code",
   "execution_count": null,
   "metadata": {},
   "outputs": [],
   "source": []
  },
  {
   "cell_type": "code",
   "execution_count": null,
   "metadata": {},
   "outputs": [],
   "source": []
  },
  {
   "cell_type": "code",
   "execution_count": null,
   "metadata": {},
   "outputs": [],
   "source": []
  },
  {
   "cell_type": "code",
   "execution_count": null,
   "metadata": {},
   "outputs": [],
   "source": []
  },
  {
   "cell_type": "code",
   "execution_count": null,
   "metadata": {},
   "outputs": [],
   "source": []
  },
  {
   "cell_type": "code",
   "execution_count": null,
   "metadata": {},
   "outputs": [],
   "source": []
  },
  {
   "cell_type": "code",
   "execution_count": 2,
   "metadata": {},
   "outputs": [],
   "source": [
    "pd_df = pd.read_csv(\"data/temp/pd_2019_A.csv\", sep=\"|\")"
   ]
  },
  {
   "cell_type": "code",
   "execution_count": 3,
   "metadata": {},
   "outputs": [],
   "source": [
    "pd_df['abstract_lemmed'] = pd_df['abstract_lemmed'].str[1:-1]\n",
    "pd_df['abstract_lemmed'] = pd_df['abstract_lemmed'].str.replace(\"'\" ,\"\")\n",
    "pd_df['abstract_lemmed'] = pd_df['abstract_lemmed'].str.split(\", \")"
   ]
  },
  {
   "cell_type": "code",
   "execution_count": 4,
   "metadata": {},
   "outputs": [],
   "source": [
    "tfidf_matrix = tfidf_vector_matrix(pd_df)"
   ]
  },
  {
   "cell_type": "code",
   "execution_count": 5,
   "metadata": {},
   "outputs": [
    {
     "data": {
      "image/png": "[encoded data removed]",
      "text/plain": [
       "<Figure size 432x288 with 1 Axes>"
      ]
     },
     "metadata": {
      "needs_background": "light"
     },
     "output_type": "display_data"
    }
   ],
   "source": [
    "fig,ax = plt.subplots()\n",
    "plot_nmf_tfidf(ax,tfidf_matrix, 4)"
   ]
  },
  {
   "cell_type": "code",
   "execution_count": 6,
   "metadata": {},
   "outputs": [],
   "source": [
    "components = 2\n",
    "nmf=fit_nmf_tfidf(tfidf_matrix, components)\n",
    "W = nmf.transform(tfidf_matrix)\n",
    "H = nmf.components_\n"
   ]
  },
  {
   "cell_type": "code",
   "execution_count": 7,
   "metadata": {},
   "outputs": [
    {
     "data": {
      "text/html": [
       "<div>\n",
       "<style scoped>\n",
       "    .dataframe tbody tr th:only-of-type {\n",
       "        vertical-align: middle;\n",
       "    }\n",
       "\n",
       "    .dataframe tbody tr th {\n",
       "        vertical-align: top;\n",
       "    }\n",
       "\n",
       "    .dataframe thead th {\n",
       "        text-align: right;\n",
       "    }\n",
       "</style>\n",
       "<table border=\"1\" class=\"dataframe\">\n",
       "  <thead>\n",
       "    <tr style=\"text-align: right;\">\n",
       "      <th></th>\n",
       "      <th>0</th>\n",
       "      <th>1</th>\n",
       "    </tr>\n",
       "    <tr>\n",
       "      <th>title</th>\n",
       "      <th></th>\n",
       "      <th></th>\n",
       "    </tr>\n",
       "  </thead>\n",
       "  <tbody>\n",
       "    <tr>\n",
       "      <th>Disc holder and scraper construction for disc harrows</th>\n",
       "      <td>0.03</td>\n",
       "      <td>0.00</td>\n",
       "    </tr>\n",
       "    <tr>\n",
       "      <th>Seed treatment apparatus</th>\n",
       "      <td>0.02</td>\n",
       "      <td>0.07</td>\n",
       "    </tr>\n",
       "    <tr>\n",
       "      <th>Potato seed planting apparatus and method of planting potato seed using the apparatus</th>\n",
       "      <td>0.06</td>\n",
       "      <td>0.00</td>\n",
       "    </tr>\n",
       "    <tr>\n",
       "      <th>Agricultural header with multiple knife drives</th>\n",
       "      <td>0.08</td>\n",
       "      <td>0.00</td>\n",
       "    </tr>\n",
       "    <tr>\n",
       "      <th>Trimmer head</th>\n",
       "      <td>0.07</td>\n",
       "      <td>0.00</td>\n",
       "    </tr>\n",
       "    <tr>\n",
       "      <th>...</th>\n",
       "      <td>...</td>\n",
       "      <td>...</td>\n",
       "    </tr>\n",
       "    <tr>\n",
       "      <th>Wearable computing device for monitoring hazards</th>\n",
       "      <td>0.07</td>\n",
       "      <td>0.07</td>\n",
       "    </tr>\n",
       "    <tr>\n",
       "      <th>Conflict resolution enhancement system</th>\n",
       "      <td>0.05</td>\n",
       "      <td>0.08</td>\n",
       "    </tr>\n",
       "    <tr>\n",
       "      <th>Motion information display apparatus and method</th>\n",
       "      <td>0.04</td>\n",
       "      <td>0.02</td>\n",
       "    </tr>\n",
       "    <tr>\n",
       "      <th>Multi-dimensional surgical safety countermeasure system</th>\n",
       "      <td>0.03</td>\n",
       "      <td>0.04</td>\n",
       "    </tr>\n",
       "    <tr>\n",
       "      <th>Ignition suppression circuiting technology</th>\n",
       "      <td>0.05</td>\n",
       "      <td>0.01</td>\n",
       "    </tr>\n",
       "  </tbody>\n",
       "</table>\n",
       "<p>578 rows × 2 columns</p>\n",
       "</div>"
      ],
      "text/plain": [
       "                                                       0     1\n",
       "title                                                         \n",
       "Disc holder and scraper construction for disc h...  0.03  0.00\n",
       "Seed treatment apparatus                            0.02  0.07\n",
       "Potato seed planting apparatus and method of pl...  0.06  0.00\n",
       "Agricultural header with multiple knife drives      0.08  0.00\n",
       "Trimmer head                                        0.07  0.00\n",
       "...                                                  ...   ...\n",
       "Wearable computing device for monitoring hazards    0.07  0.07\n",
       "Conflict resolution enhancement system              0.05  0.08\n",
       "Motion information display apparatus and method     0.04  0.02\n",
       "Multi-dimensional surgical safety countermeasur...  0.03  0.04\n",
       "Ignition suppression circuiting technology          0.05  0.01\n",
       "\n",
       "[578 rows x 2 columns]"
      ]
     },
     "metadata": {},
     "output_type": "display_data"
    },
    {
     "data": {
      "text/html": [
       "<div>\n",
       "<style scoped>\n",
       "    .dataframe tbody tr th:only-of-type {\n",
       "        vertical-align: middle;\n",
       "    }\n",
       "\n",
       "    .dataframe tbody tr th {\n",
       "        vertical-align: top;\n",
       "    }\n",
       "\n",
       "    .dataframe thead th {\n",
       "        text-align: right;\n",
       "    }\n",
       "</style>\n",
       "<table border=\"1\" class=\"dataframe\">\n",
       "  <thead>\n",
       "    <tr style=\"text-align: right;\">\n",
       "      <th></th>\n",
       "      <th>aa</th>\n",
       "      <th>abdomen</th>\n",
       "      <th>abdominal</th>\n",
       "      <th>aberrant</th>\n",
       "      <th>ability</th>\n",
       "      <th>abiotic</th>\n",
       "      <th>ablating</th>\n",
       "      <th>ablation</th>\n",
       "      <th>ablative</th>\n",
       "      <th>able</th>\n",
       "      <th>...</th>\n",
       "      <th>yaw</th>\n",
       "      <th>year</th>\n",
       "      <th>yet</th>\n",
       "      <th>yield</th>\n",
       "      <th>yl</th>\n",
       "      <th>yoke</th>\n",
       "      <th>young</th>\n",
       "      <th>zeatin</th>\n",
       "      <th>zinc</th>\n",
       "      <th>zone</th>\n",
       "    </tr>\n",
       "  </thead>\n",
       "  <tbody>\n",
       "    <tr>\n",
       "      <th>0</th>\n",
       "      <td>0.00</td>\n",
       "      <td>0.0</td>\n",
       "      <td>0.01</td>\n",
       "      <td>0.00</td>\n",
       "      <td>0.00</td>\n",
       "      <td>0.00</td>\n",
       "      <td>0.0</td>\n",
       "      <td>0.02</td>\n",
       "      <td>0.0</td>\n",
       "      <td>0.01</td>\n",
       "      <td>...</td>\n",
       "      <td>0.01</td>\n",
       "      <td>0.0</td>\n",
       "      <td>0.0</td>\n",
       "      <td>0.00</td>\n",
       "      <td>0.00</td>\n",
       "      <td>0.01</td>\n",
       "      <td>0.0</td>\n",
       "      <td>0.00</td>\n",
       "      <td>0.00</td>\n",
       "      <td>0.02</td>\n",
       "    </tr>\n",
       "    <tr>\n",
       "      <th>1</th>\n",
       "      <td>0.01</td>\n",
       "      <td>0.0</td>\n",
       "      <td>0.00</td>\n",
       "      <td>0.01</td>\n",
       "      <td>0.02</td>\n",
       "      <td>0.01</td>\n",
       "      <td>0.0</td>\n",
       "      <td>0.01</td>\n",
       "      <td>0.0</td>\n",
       "      <td>0.00</td>\n",
       "      <td>...</td>\n",
       "      <td>0.00</td>\n",
       "      <td>0.0</td>\n",
       "      <td>0.0</td>\n",
       "      <td>0.01</td>\n",
       "      <td>0.03</td>\n",
       "      <td>0.00</td>\n",
       "      <td>0.0</td>\n",
       "      <td>0.01</td>\n",
       "      <td>0.05</td>\n",
       "      <td>0.01</td>\n",
       "    </tr>\n",
       "  </tbody>\n",
       "</table>\n",
       "<p>2 rows × 4787 columns</p>\n",
       "</div>"
      ],
      "text/plain": [
       "     aa  abdomen  abdominal  aberrant  ability  abiotic  ablating  ablation  \\\n",
       "0  0.00      0.0       0.01      0.00     0.00     0.00       0.0      0.02   \n",
       "1  0.01      0.0       0.00      0.01     0.02     0.01       0.0      0.01   \n",
       "\n",
       "   ablative  able  ...   yaw  year  yet  yield    yl  yoke  young  zeatin  \\\n",
       "0       0.0  0.01  ...  0.01   0.0  0.0   0.00  0.00  0.01    0.0    0.00   \n",
       "1       0.0  0.00  ...  0.00   0.0  0.0   0.01  0.03  0.00    0.0    0.01   \n",
       "\n",
       "   zinc  zone  \n",
       "0  0.00  0.02  \n",
       "1  0.05  0.01  \n",
       "\n",
       "[2 rows x 4787 columns]"
      ]
     },
     "metadata": {},
     "output_type": "display_data"
    }
   ],
   "source": [
    "display_W_H(W,H,pd_df['title'],tfidf_matrix.columns, components)"
   ]
  },
  {
   "cell_type": "code",
   "execution_count": 9,
   "metadata": {},
   "outputs": [
    {
     "name": "stdout",
     "output_type": "stream",
     "text": [
      "      first    second   portion       end    member      body    device  \\\n",
      "0  0.630846  0.536781  0.467403  0.393695  0.361009  0.333467  0.328433   \n",
      "\n",
      "    surface  includes  assembly  \n",
      "0  0.284912  0.281168  0.266256  \n",
      "   composition  invention  compound    method   present   relates  comprising  \\\n",
      "1     0.621163   0.388382  0.384326  0.342013  0.337344  0.268279    0.250982   \n",
      "\n",
      "    thereof  treatment  pharmaceutical  \n",
      "1  0.250143   0.233248        0.225091  \n"
     ]
    }
   ],
   "source": [
    "top_words(H,tfidf_matrix.columns,10)"
   ]
  },
  {
   "cell_type": "code",
   "execution_count": null,
   "metadata": {},
   "outputs": [],
   "source": []
  },
  {
   "cell_type": "code",
   "execution_count": null,
   "metadata": {},
   "outputs": [],
   "source": []
  },
  {
   "cell_type": "code",
   "execution_count": null,
   "metadata": {},
   "outputs": [],
   "source": []
  },
  {
   "cell_type": "code",
   "execution_count": null,
   "metadata": {},
   "outputs": [],
   "source": []
  },
  {
   "cell_type": "code",
   "execution_count": 23,
   "metadata": {},
   "outputs": [
    {
     "data": {
      "text/html": [
       "<div>\n",
       "<style scoped>\n",
       "    .dataframe tbody tr th:only-of-type {\n",
       "        vertical-align: middle;\n",
       "    }\n",
       "\n",
       "    .dataframe tbody tr th {\n",
       "        vertical-align: top;\n",
       "    }\n",
       "\n",
       "    .dataframe thead th {\n",
       "        text-align: right;\n",
       "    }\n",
       "</style>\n",
       "<table border=\"1\" class=\"dataframe\">\n",
       "  <thead>\n",
       "    <tr style=\"text-align: right;\">\n",
       "      <th></th>\n",
       "      <th>first</th>\n",
       "      <th>second</th>\n",
       "      <th>portion</th>\n",
       "      <th>end</th>\n",
       "      <th>member</th>\n",
       "      <th>body</th>\n",
       "      <th>device</th>\n",
       "      <th>surface</th>\n",
       "      <th>includes</th>\n",
       "      <th>assembly</th>\n",
       "    </tr>\n",
       "  </thead>\n",
       "  <tbody>\n",
       "    <tr>\n",
       "      <th>0</th>\n",
       "      <td>0.630832</td>\n",
       "      <td>0.536768</td>\n",
       "      <td>0.467392</td>\n",
       "      <td>0.393686</td>\n",
       "      <td>0.361</td>\n",
       "      <td>0.333459</td>\n",
       "      <td>0.328426</td>\n",
       "      <td>0.284906</td>\n",
       "      <td>0.281161</td>\n",
       "      <td>0.26625</td>\n",
       "    </tr>\n",
       "    <tr>\n",
       "      <th>1</th>\n",
       "      <td>0.000000</td>\n",
       "      <td>0.000000</td>\n",
       "      <td>0.000000</td>\n",
       "      <td>0.000000</td>\n",
       "      <td>0.000</td>\n",
       "      <td>0.000000</td>\n",
       "      <td>0.088416</td>\n",
       "      <td>0.000000</td>\n",
       "      <td>0.030250</td>\n",
       "      <td>0.00000</td>\n",
       "    </tr>\n",
       "  </tbody>\n",
       "</table>\n",
       "</div>"
      ],
      "text/plain": [
       "      first    second   portion       end  member      body    device  \\\n",
       "0  0.630832  0.536768  0.467392  0.393686   0.361  0.333459  0.328426   \n",
       "1  0.000000  0.000000  0.000000  0.000000   0.000  0.000000  0.088416   \n",
       "\n",
       "    surface  includes  assembly  \n",
       "0  0.284906  0.281161   0.26625  \n",
       "1  0.000000  0.030250   0.00000  "
      ]
     },
     "execution_count": 23,
     "metadata": {},
     "output_type": "execute_result"
    }
   ],
   "source": [
    "H.sort_values(by=0, ascending=False,axis=1).iloc[:,:10]"
   ]
  },
  {
   "cell_type": "code",
   "execution_count": 25,
   "metadata": {},
   "outputs": [
    {
     "name": "stdout",
     "output_type": "stream",
     "text": [
      "   composition  invention  compound    method   present   relates  comprising  \\\n",
      "1     0.621202   0.388406   0.38435  0.342035  0.337365  0.268296    0.250998   \n",
      "\n",
      "    thereof  treatment  pharmaceutical  \n",
      "1  0.250159   0.233263        0.225105  \n"
     ]
    }
   ],
   "source": [
    "print(H.sort_values(by=1, ascending=False,axis=1).iloc[1:2,:10])"
   ]
  },
  {
   "cell_type": "code",
   "execution_count": null,
   "metadata": {},
   "outputs": [],
   "source": []
  }
 ],
 "metadata": {
  "kernelspec": {
   "display_name": "Python 3",
   "language": "python",
   "name": "python3"
  },
  "language_info": {
   "codemirror_mode": {
    "name": "ipython",
    "version": 3
   },
   "file_extension": ".py",
   "mimetype": "text/x-python",
   "name": "python",
   "nbconvert_exporter": "python",
   "pygments_lexer": "ipython3",
   "version": "3.7.3"
  }
 },
 "nbformat": 4,
 "nbformat_minor": 4
}
